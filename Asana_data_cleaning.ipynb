{
 "cells": [
  {
   "cell_type": "markdown",
   "metadata": {},
   "source": [
    "<h1 align=\"center\">MSIN0114: Business Analytics Consulting Project/Dissertation</h1>\n",
    "\n",
    "<h3 align=\"center\">Web Scrapping for Asana Review on g2.com and trustradius.com</h3>\n",
    "<br>\n",
    "\n",
    " <h3 align=\"center\">Jun 2021</h3>\n",
    " <h3 align=\"center\">Github repository:</h3>"
   ]
  },
  {
   "cell_type": "markdown",
   "metadata": {},
   "source": [
    "<h3>Table of Contents</h3>\n",
    "\n",
    "* [1. Web Scrapping for Asana](#1.-Web-Scrapping-for-Asana)\n",
    "* [2. Load Scrapped Data](#2.-Load-Scrapped-Data)\n",
    "* [3. Initial Cleaning of Dataset](#3.-Initial-Cleaning-of-Dataset)\n",
    "* [4. Upload Data into PostgreSQL Database](#4.-Upload-Data-into-PostgreSQL-Database) \n",
    "* [5. Save Dataset as csv for Local Access](#5.-Save-Dataset-as-csv-for-Local-Access)\n"
   ]
  },
  {
   "cell_type": "code",
   "execution_count": 1,
   "metadata": {},
   "outputs": [],
   "source": [
    "# Basic packages \n",
    "import numpy as np                   \n",
    "import pandas as pd              \n",
    "from datetime import datetime\n",
    "from datetime import timedelta\n",
    "import matplotlib.pyplot as plt    \n",
    "import seaborn as sns\n",
    "\n",
    "import plotly.express as px\n",
    "\n",
    "# RDS Database Connection \n",
    "import psycopg2\n"
   ]
  },
  {
   "cell_type": "markdown",
   "metadata": {},
   "source": [
    "## 1. Web Scrapping for Asana"
   ]
  },
  {
   "cell_type": "markdown",
   "metadata": {},
   "source": [
    "Web Scrapping code for Asana stored as spider_3.py and spider_4.py"
   ]
  },
  {
   "cell_type": "code",
   "execution_count": 2,
   "metadata": {},
   "outputs": [
    {
     "name": "stdout",
     "output_type": "stream",
     "text": [
      "1 {'Name': 'Janhavi R', 'Position': 'Marketing Analyst', 'Company': 'Mid-Market (51-1000 emp.)', 'Rating': 'stars-9', 'Date': 'Apr 29, 2021', 'Title': '\"Asana as a Project Management tool\"', 'Review': 'What do you like best? It has groups and categories to divide your different projects, and it allows you to collaborate with your team members on various projects. My boss knows what projects I am working on and what projects I have completed. I also like that I can customize my dashboard and my tasks.  Review collected by and hosted on G2.com. What do you dislike? There is nothing that comes to my mind right now that I dislike about Asana. Everything about the tool is excellent, and I will recommend it to all those who need a tool for project and product management.  Review collected by and hosted on G2.com. Recommendations to others considering the product: Asana is a great project and product management tool. It is easy to use. Looks very fun and young. It has a good user interface. The colors are intriuging.  Review collected by and hosted on G2.com. What problems are you solving with the product?  What benefits have you realized? I have all my tasks and Projects listed in one place.  I have started saving time. I manage my projects better. I love when I complete a job, and a cute colorful unicorn flies past the screen to congratulate you for it. I am staying more organized.  Review collected by and hosted on G2.com.'}\n",
      "2 {'Name': 'Gabriel F', 'Position': 'Technical Specialist', 'Company': 'Small-Business (50 or fewer emp.)', 'Rating': 'stars-9', 'Date': 'May 18, 2021', 'Title': '\"Great Project and Task Management\"', 'Review': \"What do you like best? It really helps to improve your productivity, you can see exactly what is happening, who's responsible for each task, when it needs to be completed. It makes the work clear and easier. I also like some functionalities like the cronogram, the panel, advanced researches, custom fields. These functionalities make Asana different than the other similar tools.  Review collected by and hosted on G2.com. What do you dislike? I think Asana should automatize more the Goals feature and to provide a dashboard on the Portfolios just like there is on the Projects. Also, on the cronogram view, we are not able to see the sub tasks, a lot of customers complains about it because they compare with instagantt for example, but of course I know they can simply integrate their Asana and then the'll have this view.  Review collected by and hosted on G2.com. Recommendations to others considering the product: People always come to us and ask what kind of solution they can use to better manage their work, they normally already use other similar tools, but they're looking for more, more features, more information inside only one place. If you're looking for the same, you've just found it, Asana meets all the requirements, you won't have any problem with security and you can easily centralize all the work in only one enviroment.  Review collected by and hosted on G2.com. What problems are you solving with the product?  What benefits have you realized? I organized better my demands, I have more time left because I focus on what I have to do and a really good point is that I can share my work with my colleagues and we are all always on the same page. Now the whole company is more organized and people track their work goals better than they used to do before.  Review collected by and hosted on G2.com.\"}\n",
      "3 {'Name': 'Rukmani D', 'Position': 'Marketing Officer', 'Company': 'Mid-Market (51-1000 emp.)', 'Rating': 'stars-9', 'Date': 'May 14, 2021', 'Title': '\"Keeps me intact and productive while working remotely within a team\"', 'Review': 'What do you like best? The excellent part of Asana is that it lets me stay organized within a team and within myself. I choose to create a task and either add it to my to-do list or someone else within a group by simply assigning them. The most helpful thing is that it notifies me every time I get a new task assigned by my managers and colleagues directly through my mailbox.  Review collected by and hosted on G2.com. What do you dislike? To date, I have completely enjoyed using Asana for work management and productivity. So, there is nothing, in particular, to describe the dislikes of this wonderful project and task management tool.  Review collected by and hosted on G2.com. What problems are you solving with the product?  What benefits have you realized? Our entire team is working remotely during this pandemic, and even while working in an office, we used to use this software, and I had learned all its features and usability from my managers. And, now we are facing lockdown situations due to COVID-19, but my daily workflow has remained intact and productive. Thanks to Asana!  Review collected by and hosted on G2.com.'}\n",
      "4 {'Name': 'Jessica F', 'Position': 'Sr. Marketing Manager', 'Company': 'Enterprise (> 1000 emp.)', 'Rating': 'stars-9', 'Date': 'Apr 26, 2021', 'Title': '\"Reallocate your Project Management team\"', 'Review': 'What do you like best? Easy to coordinate across multiple teams, assign tasks, and use for our agile marketing practices. It allowed us to reassign our project managers to other in-demand marketing functions, while letting the software do the work for us in terms of keeping the team organized and on track.  Review collected by and hosted on G2.com. What do you dislike? The software is not super intuitive; there is a significant learning curve. Difficult to onboard someone new to the platform - it takes a long time to get them up and running. Additionally, I wish Asana had more functionality to automate regularly cadenced workflows - like resurfacing quarterly/annual campaigns we run at previously noted timeframes. If Asana had these future-facing automated workflows, it would definitely be a 10/10 for me.  Review collected by and hosted on G2.com. What problems are you solving with the product?  What benefits have you realized? Asana allows our Marketing team to manage our projects after we dissolved our Project Management team and reassigned them to other functions within the marketing team. Our team works out of multiple offices, so it helps a team that is not co-located work effectively together.  Review collected by and hosted on G2.com.'}\n",
      "5 {'Name': 'Mario J', 'Position': 'Digital Analytics', 'Company': 'Enterprise (> 1000 emp.)', 'Rating': 'stars-9', 'Date': 'May 10, 2021', 'Title': '\"Manage your projects and tasks\"', 'Review': 'What do you like best? Asana is an excellent project manager, although it is correct that it is one of the most complex systems that I have worked with, but it is true that Asana has allowed me to increase the effectiveness and follow-up in the planning of a project process, if we need to carry out We can do complex work using the Kanban method. Asana is easy to use, it allows you to collaborate on projects and tasks together with your work team, if I want to carry out a project I can do it through Schedule, list or board. The messaging center works very well as it allows me to better communicate and exchange files with each other.  Review collected by and hosted on G2.com. What do you dislike? There is nothing that I dislike due to the infinite tools and functions that this software contains, the project and task management are excellent, now with Asana you can maintain a better organization and track the process of a project.  Review collected by and hosted on G2.com. Recommendations to others considering the product: Asana is one of the best software for project management, if you want to keep your projects and tasks in order, use Asana.  Review collected by and hosted on G2.com. What problems are you solving with the product?  What benefits have you realized? My work was focused on managing complex projects, Asana is the software that I will always use without a doubt, since it has helped me to better organize myself, and to maintain order in my projects by placing a start date and expiration date, the Kanban method and the Gantt charts are undoubtedly excellent tools, I use them very often due to the complexity of the projects with which I work.  Review collected by and hosted on G2.com.'}\n",
      "6 {'Name': 'Rodolfo  S', 'Position': 'Data Scientist', 'Company': 'Mid-Market (51-1000 emp.)', 'Rating': 'stars-9', 'Date': 'May 03, 2021', 'Title': '\"With ASANA you can automate the daily work of managing a project effectively\"', 'Review': 'What do you like best? Asana is one of the most versatile project management tools, since it allows you to configure task lists with which I can keep track of my projects, from small details to large scale. With the intuitive interface of this project management software, in the Dashboard I can see the progress of a given project thanks to a record of the total and completed tasks.  Review collected by and hosted on G2.com. What do you dislike? With asana you have more than 50 project management templates to choose from and customize according to the way you work. Nothing bad to continue with my daily work.  Review collected by and hosted on G2.com. Recommendations to others considering the product: Asana is a secure project management tool that you can work online. It has more than 100 integrations. For example, Slack, Dropbox, Google Drive, Tableau, Salesforce, Zoom, Outlook, and more. You have more than 50 project management templates to choose from and customize according to the way you work. You can attach and share documents in PDF, Word, Excel and more.  Review collected by and hosted on G2.com. What problems are you solving with the product?  What benefits have you realized? You can think and share documents in PDF, Word, Excel and more to give your collaborators clear instructions on the tasks they must do and their role within a project. It has more than 100 integrations for a more efficient process from start to finish. For example, you can connect it to Slack, Dropbox, Google Drive, Tableau, Salesforce, Zoom, Outlook, and more.  Review collected by and hosted on G2.com.'}\n"
     ]
    },
    {
     "name": "stderr",
     "output_type": "stream",
     "text": [
      "Traceback (most recent call last):\n",
      "  File \"Spider_3.py\", line 80, in <module>\n",
      "    parse_1(t)\n",
      "  File \"Spider_3.py\", line 46, in parse_1\n",
      "    print(count, p_review)\n",
      "UnicodeEncodeError: 'gbk' codec can't encode character '\\xb4' in position 523: illegal multibyte sequence\n"
     ]
    },
    {
     "name": "stdout",
     "output_type": "stream",
     "text": [
      "7 {'Name': 'Douglas T', 'Position': 'Digital Analyst', 'Company': 'Small-Business (50 or fewer emp.)', 'Rating': 'stars-9', 'Date': 'Apr 30, 2021', 'Title': '\"Asana Managing Long Term Projects for big Client at Sweden.\"', 'Review': 'What do you like best? I like it can be simple to admin the tasks as well as to admin tasks assigned to others. I like that we can create monthly reports to see how much we have done in terms of a \"tag\" or \"section\", for us is important to keep the records and to create reports. For this purpose we have the option to download a CSV even if we are free users.  Review collected by and hosted on G2.com. What do you dislike? I also disliked the daily messages or notification sent to my email would not say I like its free version, which is pretty limited. We previously used premium, but license expired, and we were downgraded to free version automatically, we felt the change specially in how much users we could add to the project, but I mean, that is not the end of the world. I also disliked the daily messages or notification sent to my email which are activated by default  Review collected by and hosted on G2.com. Recommendations to others considering the product: If you are looking for an easy tool to manage projects within your team, you should consider asana; maybe trying the free version and then think about paying for the license.  Review collected by and hosted on G2.com. What problems are you solving with the product?  What benefits have you realized? I find it very useful to transform my Emails into Asana tasks just forwarding it like an email. Additionally, I have found Asana very good to manage ongoing projects or tasks that you do not necessarily create for   delivery or with a deadline. In my case I simple forward the email a received for a request to my project in asana and then I can set the periodicity I will be working on the task. which are activated by default. My team uses Asana to keep historical records of the request we received. We have used it since 2017 up to now.  I find it very useful to transform my Emails into Asana tasks just forwarding  Review collected by and hosted on G2.com.'}\n",
      "8 {'Name': 'Desiree F', 'Position': 'Payroll Specialist', 'Company': 'Small-Business (50 or fewer emp.)', 'Rating': 'stars-10', 'Date': 'May 03, 2021', 'Title': '\"Asana - My go to work task scheduler\"', 'Review': \"What do you like best? Love that you can collaborate task, create a solid workflow, time stamps, send messages, putting due dates, comment and keep everyone in the loop, make notes and so much more!!  Review collected by and hosted on G2.com. What do you dislike? Nothing I could think of that I dislike about Asana! I truly love it and wish my old companies used it!  Review collected by and hosted on G2.com. Recommendations to others considering the product: If you're looking for something to help with Tracking Assignments, Tasks, Workflow Management, Collaborations, Project Management that allows both an individual and team environment - Asana is for you. It takes some time to get used to; however, once you have it down, it's incredible! Having the ability to collaborate with teammates, make notes, comment, add due dates, and more.... this is ideal for your team!  Review collected by and hosted on G2.com. What problems are you solving with the product?  What benefits have you realized? Time management and keeping tasks organized. Great for team environments and allowing everyone to be a part of solutions. Project management and Workflow management have never been better.  Review collected by and hosted on G2.com.\"}\n",
      "9 {'Name': 'Lucias C', 'Position': 'Associate Project Manager', 'Company': 'Mid-Market (51-1000 emp.)', 'Rating': 'stars-10', 'Date': 'Apr 10, 2021', 'Title': '\"Perfect for managing the organization projects\"', 'Review': 'What do you like best? The easy-to-use interface will make my task even more accessible from multiple devices. major advantage would be the systems integration. Asana Mobile Apps are also important for receiving real-time alerts and monitor activities. On working groups on particular applications, the plan and timeline have unique viewpoints. Enable our staff to remain current and at the job if date or range is unclear. This also monitors the daily and weekly activities allocated to me. overall Asana is primarily focus on to monitor all tasks. You could use it conveniently among the members. Asana is best served by assigning duties to the members of staff.  Review collected by and hosted on G2.com. What do you dislike? The worst part of Asana would be that it continues to deliver notifications from emails every once in a while. Asana may be too complicated for a simple organization which with its too many apps and choices, does not need each one of these features.  Review collected by and hosted on G2.com. Recommendations to others considering the product: I suggest Asana to focus on the tasks that could be allocated to the project Project Timeline, to be consistently carried out along with specified periods before the complete operational progress and the mentioned objectives are reached.  Review collected by and hosted on G2.com. What problems are you solving with the product?  What benefits have you realized? My organization and my staff can resolve most issues by using asana. We have been using this service to fulfill our Goals and manage the projects & daily task. they have all the integrations and modules to start using their platform. Moreover we can tell ideas in a centralized location that can be great if you have large members staff in your organization. This service lets all our employees interact, becasue as my company has now moved to virtual.  Review collected by and hosted on G2.com.'}\n",
      "10 {'Name': 'Jean Carlos M', 'Position': 'computer technician', 'Company': 'Enterprise (> 1000 emp.)', 'Rating': 'stars-10', 'Date': 'Mar 31, 2021', 'Title': '\"Improve your productivity with Asana\"', 'Review': 'What do you like best? Asana is a tool for managing projects, jobs and tasks, it allows you to organize your projects on a calendar, board or schedule, Asana adjusts to the way you work. You can manage your work as you feel more comfortable, this software has spreadsheets, Kanban style board, Gantt charts and lists in notes. This software has project management, communication, tasks, allows integrations, live chat, notes, file and screen sharing, etc. it is implemented with Cloud, SaaS, Web, Mac, Windows, IPad, IPhone and Android. Asana is easy to use, has great features, its prices are fair for everything it offers, and it has a great interface.  Review collected by and hosted on G2.com. What do you dislike? There is nothing I do not like about Asana because I can organize myself with my work team and it helps me a lot to be able to control all my tasks and those of my work team.  Review collected by and hosted on G2.com. Recommendations to others considering the product: It is an excellent tool to work with your work team, it helps you create projects and better develop management with your team.  Review collected by and hosted on G2.com. What problems are you solving with the product?  What benefits have you realized? With Asana I have been able to increase the effectiveness in planning and monitoring my project, with the kanban method I have managed to carry out my most complex projects, the Gantt chart has allowed me to plan my project effectively because it shows activities that are related to the project. draft.  Review collected by and hosted on G2.com.'}\n",
      "11 {'Name': 'Choirum A', 'Position': 'Social Media Spesialist', 'Company': 'Small-Business (50 or fewer emp.)', 'Rating': 'stars-10', 'Date': 'May 04, 2021', 'Title': '\"Connect your Job with Asana\"', 'Review': \"What do you like best? I love that it's a virtual check list that a bigger group and work together on. It's incredibly helpful to remain on track and consider everybody responsible! It's cutoff time work is critical, that way you can close the circle on any forthcoming tasks and guarantee fulfillment. The task include is extraordinary as well so there is clear assumptions set with regards to who is answerable for each undertakings.  Review collected by and hosted on G2.com. What do you dislike? So far, I can say that I love Asana, and it helps a lot to maintain our work especially for  virtual team.  Review collected by and hosted on G2.com. What problems are you solving with the product?  What benefits have you realized? Due to Asana I was constantly able being organized as well as speaking with the group of mines daily, helping me to track and being my reminder to keep on track with my work, both on my private work and collaboration work  Review collected by and hosted on G2.com.\"}\n",
      "12 {'Name': 'Carissa F', 'Position': 'Director of PR + Partnerships', 'Company': 'Small-Business (50 or fewer emp.)', 'Rating': 'stars-10', 'Date': 'May 02, 2021', 'Title': '\"Asana Review\"', 'Review': \"What do you like best? I love Asana and have recommended it to everyone I know. It's the best project management software I've found so far. It's such an easy way to communicate with team members and collaborate on different projects.  Review collected by and hosted on G2.com. What do you dislike? There isn't a whole lot that I dislike about Asana. Sometimes, notifications can get buried in the inbox, but that's really my only complaint. If you are receiving notification emails and checking your inbox frequently, it shouldn't be an issue.  Review collected by and hosted on G2.com. What problems are you solving with the product?  What benefits have you realized? My team uses Asana to solve many problems. We use it for our meeting agendas (team meetings, 1:1s, etc.), for creative requests, to outline upcoming projects, calendars for social, the list goes on and on. There are truly so many uses for Asana, and it is such a great way to stay organized.  Review collected by and hosted on G2.com.\"}\n",
      "13 {'Name': 'Romina J', 'Position': 'telecommunications computer technician', 'Company': 'Enterprise (> 1000 emp.)', 'Rating': 'stars-10', 'Date': 'Mar 19, 2021', 'Title': '\"Asana, a tool for teamwork\"', 'Review': \"What do you like best? With Asana I can create tasks and subtasks to assign them to my work team, it has allowed me to work in a more organized and efficient way, which has helped me to know which are the pending tasks and which ones are already finished. The interface is very intuitive which means that, when I enter my panel, I immediately see my list of tasks. The best thing about Asana is that I can create projects and within them put tasks, I can create deadlines for their submission, tag people and attach files. Best of all, I can use this tool from a laptop or mobile phone and integrate it with other tools.  Review collected by and hosted on G2.com. What do you dislike? There is nothing that I dislike, because it is an easy-to-use tool and offers excellent functionality, the interface is very intuitive and it has helped me a lot in the organization with my work team.  Review collected by and hosted on G2.com. Recommendations to others considering the product: It's easy to use, it's a web and mobile tool, and it allows you to manage your team's projects from start to finish. Asana is excellent for large companies since it has many tools that serve for a better organization  Review collected by and hosted on G2.com. What problems are you solving with the product?  What benefits have you realized? I have been able to divide my responsibility by creating different projects, now I can assign each member of my team tasks by setting a time limit and keep track of my activities.  Review collected by and hosted on G2.com.\"}\n",
      "14 {'Name': 'Ruben  C', 'Position': 'IT general manager', 'Company': 'Enterprise (> 1000 emp.)', 'Rating': 'stars-9', 'Date': 'Mar 30, 2021', 'Title': '\"Organize your tasks easily and simply.\"', 'Review': \"What do you like best? With Asana I can organize my tasks and it helps me to be more productive, it is the best tool for project management because it serves to plan and organize tasks on any subject. It is completely customizable, it contains examples that you can use, you can customize it with what you think is most convenient. Asana gives you the tools so that you can carry out all your projects, the best thing about Asana is that it has a task reminder which helps you know what the time is for each task and subtasks and you can set a due date, organize yourself with your work team it is much easier with Asana. At the time of carrying out a project you can decide whether to carry it out in the form of a list, board, calendar, schedule and for premium accounts it also contains progress and form.  Review collected by and hosted on G2.com. What do you dislike? While Asana is the easiest project manager to use, there is nothing I don't like about this platform, neither Trello nor any other tool compares to Asana. It is the best to get organized.  Review collected by and hosted on G2.com. Recommendations to others considering the product: If you are looking for a tool to fully organize your business and plan your list of tasks and projects, Asana is the one and the best thing is that you can use it without paying anything.  Review collected by and hosted on G2.com. What problems are you solving with the product?  What benefits have you realized? Now I can organize my projects more easily, when I place a task for my work team I can do it without any problem and it is easy to handle, Asana is the best to keep in touch with your work team and keep a list of priorities and responsibilities for each person, because when performing a task you decide its start and the limit of that task.  Review collected by and hosted on G2.com.\"}\n",
      "15 {'Name': 'Roberto M', 'Position': 'Microinformatics Specialist Technician', 'Company': 'Enterprise (> 1000 emp.)', 'Rating': 'stars-10', 'Date': 'Mar 10, 2021', 'Title': '\"Excellent tool as a project manager\"', 'Review': \"What do you like best? Asana is an excellent tool to increase the organization and productivity of my work team, this has allowed me to create, distribute and manage the flow of jobs and tasks in order to maintain order from the beginning to the end. It has a series of solutions to plan its delivery and how to carry out a project in its entirety, this allows the coordination of our responsibilities. Asana includes the ability to create a schedule, calendar, and connects easily with other applications. We can use it as an intranet for document access and easy data access management. It's so easy to use that you configure it your way and it comes with a beautiful interface. You find everything you need.  Review collected by and hosted on G2.com. What do you dislike? There is nothing that bothers me, because it has allowed me to share my projects with my clients. It is an excellent tool for professional use because it allows you to manage daily activities and supports numerous integrations to keep all computers running smoothly. Besides that it has a large list of integrations such as Google Drive, Microsoft Office 365, Box, etc. Its expansion has been a success.  Review collected by and hosted on G2.com. Recommendations to others considering the product: Excellent for organizing projects and teamwork. It has more than 100 integrations.  Review collected by and hosted on G2.com. What problems are you solving with the product?  What benefits have you realized? Greater productivity in my work team and my clients, communication through chat has been useful to communicate quickly, I can quickly write down and fix something in a matter of seconds and the organization with my work team when finishing a project is very easy, the handling of this tool with my team is really exceptional.  Review collected by and hosted on G2.com.\"}\n",
      "16 {'Name': 'Jordan H', 'Position': 'Office and People Operations Manager', 'Company': 'Small-Business (50 or fewer emp.)', 'Rating': 'stars-10', 'Date': 'May 18, 2021', 'Title': '\"Asana is GREAT!\"', 'Review': 'What do you like best? Asana has genuinely changed my work life. It is so helpful to begin my workday by bringing it up on my screen and referencing back to it throughout the day. It is like my virtual to-do list and helps me remember to do many tasks that would fall through the cracks as other things come up in my day. What I like best about Asana is how useful it is and a fantastic assistance for me to complete my tasks. There are many features, like adding due dates and the ability to sort my most pressing tasks to the top of the list. I am also able to make reoccurring tasks, and that has been extremely helpful.  Review collected by and hosted on G2.com. What do you dislike? There has not been anything that has come up yet that I have disliked about Asana.  Review collected by and hosted on G2.com. What problems are you solving with the product?  What benefits have you realized? I am solving many problems with Asana. I can remember tasks that are monthly, bi-annually, and annually because of the feature where I can set tasks to reoccurring. There are a lot of benefits to using Asana. Having to-do lists where I can constantly add more tasks, sort, and check them all off the list has been excellent.  Review collected by and hosted on G2.com.'}\n",
      "17 {'Name': 'Dakota R', 'Position': 'Brand Manager', 'Company': 'Mid-Market (51-1000 emp.)', 'Rating': 'stars-7', 'Date': 'May 18, 2021', 'Title': '\"Great Tool for Big Teams\"', 'Review': 'What do you like best? Asana is super robust and never fails to have a feature or function for anything you need. It\\'s pretty user-friendly with a nice-looking UI. Our team uses it for all of our projects and it has really helped us structure our projects more and ensure dependencies are met and things are finished on time. We\\'ve really centered our whole project management process around Asana.  Review collected by and hosted on G2.com. What do you dislike? It\\'s really robust, which is great for complex projects, especially when they\\'re being run by advanced Asana users. However, Asana takes a little while to get used to with a lot of trial and error. For beginners or users who want to use it for simpler projects, it can be a little confusing and overloaded with too many features and options. It\\'s not necessarily a \"jump in and go!\" type of tool. But if you take the time to learn it and figure out the nuances, it\\'s very effective.  Review collected by and hosted on G2.com. What problems are you solving with the product?  What benefits have you realized? Asana has become the foundation for all of our projects and helped us streamline our project management process. Before, we had multiple people working in disparate channels, and things were getting lost in the mix. Asana helps us keep all of our project tasks and communications in one central place.  Review collected by and hosted on G2.com.'}\n",
      "18 {'Name': 'Nicole M', 'Position': 'Java Software Engineer', 'Company': 'Mid-Market (51-1000 emp.)', 'Rating': 'stars-9', 'Date': 'Mar 02, 2021', 'Title': '\"Asana makes it easy to visualize and finish a project or task on time\"', 'Review': 'What do you like best? This tool is a good way to work in a team and extremely helps to check progress at work. The tool is transparent, in it you can activate or integrate many different tools, such as Google Drive and Dropbox, and many more.  Review collected by and hosted on G2.com. What do you dislike? Asana is an efficient tool with which I can connect all the objectives directly with my work team, which allows me to follow up and achieve my work goals more easily and quickly.  Review collected by and hosted on G2.com. Recommendations to others considering the product: Asana is the best decision when choosing a project tool. Asana enables faster, higher-quality results by making the customizations you need for teamwork management.  Review collected by and hosted on G2.com. What problems are you solving with the product?  What benefits have you realized? Asana perfectly meets my demands, it allows me to make good decisions due to the centralization of information. Daily use is very useful for specific projects. A great virtue is to collaborate, create and assign tasks to other people, keep track of the work done and arrive on time for each delivery.  Review collected by and hosted on G2.com.'}\n",
      "19 {'Name': 'Kohei  S', 'Position': 'Software Engineer ', 'Company': 'Mid-Market (51-1000 emp.)', 'Rating': 'stars-9', 'Date': 'Feb 12, 2021', 'Title': '\"Asana: a cycle of productivity and order from start to finish\"', 'Review': \"What do you like best? Asana has App for Android and IOS that allows us to be informed where we are in real time. Through the boards, Asana offers a full visualization of the phases of the general project, which allows you to always have “in view” the status of each of the activities to be carried out, in the process of development or officially completed. With the help of Asana's calendar features, you can get an overview of your responsibilities, commitments, and timely reminders of both your individual activities and those of the overall work team.  Review collected by and hosted on G2.com. What do you dislike? Asana offers a series of functionalities that are worth knowing if you want to delve into the use of this tool.  Review collected by and hosted on G2.com. Recommendations to others considering the product: Asana is a web and mobile application that allows you to create, distribute and manage the workflow of tasks and projects in order to maintain a cycle of productivity and order from start to finish.  Review collected by and hosted on G2.com. What problems are you solving with the product?  What benefits have you realized? The best way to attack large responsibilities is by dividing them into classified projects, therefore, this application allows to host workspaces dedicated to a specific project, within which it is possible to create tasks and subtasks separated by order of priority or execution, designating with clarity to those responsible for the work in each phase. If you are going to use Asana, it connects easily with other applications popularly used by remote work teams or freelancers who want to organize their online workspaces in an optimal way. For example, tools like the email you possibly use, Slack, Jira, Google Calendar, Google Drive, Dropbox, GitHub, Trello, Evernote, among many others, have the option to connect with Asana and merge purposes from a common space.  Review collected by and hosted on G2.com.\"}\n",
      "20 \n"
     ]
    }
   ],
   "source": [
    "!python Spider_3.py"
   ]
  },
  {
   "cell_type": "code",
   "execution_count": 3,
   "metadata": {},
   "outputs": [
    {
     "name": "stdout",
     "output_type": "stream",
     "text": [
      "1 {'Name': 'Norman Hazlewood', 'Position': 'IT Manager', 'Company': 'Program Development ,  51-200 employees', 'Rating': '8', 'Date': 'May 17, 2021', 'Title': 'Asana is the perfect tool to help small teams become efficient and effective.', 'Review': {'Use Cases and Deployment Scope': '[Asana] is being used specifically for Project Management, Task Management and Vendor Management. It is used across the entire organization in different segments. It addresses the scheduling, tracking and management of activities for major projects. In terms of vendor management and repetitive tasks it is used as a reminder for expiration of licenses, renewals and other relevant tasks that cannot be allowed to fall through the cracks.', 'Pros and Cons': 'Task Management - Being able to assign resources and time lines to specific activitiesProject Management - Being able to plan, execute and track project process using this toolCustomizability - Being able to customize a solution that meets your needs or activity.EditBetter integration with Office 365It would be useful for it to be able to export project data right into Microsoft Project as that tool is more complex and some project manager do prefer it. Therefore, it would be good to have the option.An official training program to put new and even exiting users that is relative short and straight to the point would be helpful to maximize utility and get more person onboard.', 'Likelihood to Recommend': 'I would recommend Asana due to its ease of use to get up and running quickly to facilitate project management, task management and the ability to customize and adapt the solution using templates to meet specific scenarios.  It is not cost prohibitive and I believe it is a tool small teams can use to get the job done efficiently and effectively.'}}\n",
      "2 {'Name': 'Molly Coller', 'Position': 'Consumer Marketing - Advertising/Brand', 'Company': 'Computer Games ,  1001-5000 employees', 'Rating': '9', 'Date': 'May 13, 2021', 'Title': 'Project management at ease', 'Review': {'Use Cases and Deployment Scope': 'This is the best ever tool for effective communication and collaboration. In order to strengthen teamwork, each and every project is associated with group chat, delivery schedules, to-do lists, and file storage. This is the most intuitive tool and it is incredibly easy to use.The biggest advantage of Asana is that we can easily use it on our android phones and laptops simply by having Internet access. Overall project management has become very effective and easy. It gives us the golden opportunity of synchronizing with calendar applications, for instance, Google calendar or Apple calendar.It has great capabilities in order to solve or process the tasks of a specific project on the web. It has an amazing ability to design workspaces. Furthermore, it permits our team members in assigning, ordering, scheduling, arranging and accompanying the development of various activities as well as complete details of the projects.', 'Pros and Cons': \"This is the world's best tool for managing teams as well as projects. The best thing about it is that it has simplified our work methods and also let us have smooth communication with our team members.I love its attractive and fascinating design. It has greatly improved efficiency in process coordination. This mind-blowing application helps me in organizing tasks in separate projects as well as folders.It helps us in sharing files with team members. It is surely the best choice for assigning tasks to the team members.The presence of calendars helps us in planning meetings, events and many more. It let us create to-do lists with reference to particular dates.EditSo many daily tasks can be generated on the boards, sometimes important notifications may not be displayed properly.I do not come across any major drawback that I have to mention here. This is an authentic and reliable application. I do not have any negative comments about it.\", 'Likelihood to Recommend': 'It is highly suggested to every organization that is looking for a perfect remote solution for communication. It offers a very easy-to-use interface. It offers superb compatibility with all kinds of devices such as tablets, computers, android, or iOS devices. It is one of the most efficient project management programs which always allows us to organize all projects in effective ways.'}}\n",
      "3 {'Name': 'Gavin Scott-Miller', 'Position': 'Project Manager', 'Company': 'Hospitality ,  51-200 employees', 'Rating': '9', 'Date': 'May 13, 2021', 'Title': 'Asana is the flexible and dependable task management software!', 'Review': {'Use Cases and Deployment Scope': \"Miscellaneous to-do lists scattered about. Unorganized sticky notes. Project plans half placed in 3 different people's computers. It’s very hard to manage a project or keep track of progress for your various team members without some type of flexible software that is able to track, and improve communication between various roles and departments. Asana solves this problem.\", 'Pros and Cons': 'CustomizationTracking and communicationProgress meetingsKanbanAssigning and following upEditMobile application & virtual assistant integrationTwo-way calendar syncOutlook task integration', 'Likelihood to Recommend': 'Asana is really great for a team of users who want to keep great communication together on a project. It can fall apart if the entire team is not committed to its use and updating. But that goes for any system. Asana has gained a lot of customization and great additional features at no charge. The premium tier is also completely reasonable. '}}\n",
      "4 {'Name': 'Tim Regas', 'Position': 'General Manager', 'Company': 'Computer Software ,  11-50 employees', 'Rating': '10', 'Date': 'May 06, 2021', 'Title': 'Asana making task and project management a breeze', 'Review': {'Use Cases and Deployment Scope': 'Asana is used by our support and development departments. Our support and development teams all work remotely so Asana is an easy way for the whole team to stay in contact. It allows each member of the team to create projects, then tasks and subtasks for the project. Each task and project can have deadlines and notes, so it is very easy to see who is staying on top of their work as well as who is falling behind.', 'Pros and Cons': 'Task ManagementTask AssignmentProject coordinationSupport task coordinationEditEmail notification settings are difficult to navigateI wish there was a way to track time in AsanaI wish the price was lower for small teams', 'Likelihood to Recommend': 'Asana is great for teams in multiple locations who need to collaborate on multiple projects at a time. If there are lots of tasks and individual items that need to be done by multiple different parties, Asana is a great way to ensure everyone is staying on track. Asana can be a bit robust for smaller teams.'}}\n",
      "5 {'Name': 'Tegan Jenner', 'Position': 'Senior Data Analyst', 'Company': 'Marketing and Advertising ,  11-50 employees', 'Rating': '8', 'Date': 'May 06, 2021', 'Title': 'Powerful task-management tool, but with great power comes a lot of onboarding', 'Review': {'Use Cases and Deployment Scope': 'Asana is used across my entire organization. We have implemented it across teams/sectors of our company, and over the years we have refined the process in which we use it as a company. We use it for task management (both on a project, client, and personal level) as well as bandwidth/scheduling planning and estimation.', 'Pros and Cons': 'Great customer support/onboarding & training materialsConstant innovationFlexibility of the tool as a whole (can be used differently for company wide usage, or for personal use)EditI would like to see more flexibility in due date functionality. I usually like to start my tasks with generous runway before the due date, so I typically set my due dates much sooner than the actual due date to ensure the tasks are started on time.Additional data visualizations to understand when tasks and projects are clustering together.The flow between tasks and subtasks could potentially be simplified or streamlined', 'Likelihood to Recommend': \"I personally find Asana to be a great personal task management system. It gets more complicated and time consuming when it comes to organizing the tasks of a large group of people. Then the use of features like boards, tags, categories, etc becomes more important, but it also means there is a lot of room for error.I personally rely heavily on Asana to track my own tasks and due dates, and don't heavily rely on it to track the progress of other employee tasks, but from what my coworkers say, this is where is gets very complicated and it's hard to ensure that all employees are consistent and using the Asana features in the same way.\"}}\n",
      "6 {'Name': 'Ronald Wright', 'Position': 'Senior Account Executive', 'Company': 'Marketing & Advertising ,  201-500 employees', 'Rating': '10', 'Date': 'May 01, 2021', 'Title': 'Asana is the best service to manage projects without a foundation', 'Review': {'Use Cases and Deployment Scope': 'Undoubtedly the best and most extensible service for projects that we have been able to use since the beginning of our small organization. Asana has all kinds of tracking and goal setting tools that make it essential for creating a good group structure and mapping out the right work development methods. All the marketing operations for projects that Asana has to work with are easy to use, but they are not so extensive because Asana is not a specialized marketing application beyond the launches, and this is where the technical support team comes in, which is in charge of guiding and advising the customer about all the technical possibilities they can use when integrating Asana to certain platforms. Asana is a software that is very easy to take advantage of, mostly due to how easy it is to memorize the functions that the platform offers and the way in which these are distributed, demonstrating an enormous usability.', 'Pros and Cons': 'Asana includes its own planning functions to generate annotations regarding the means of work.It includes an internal calendar where all project marketing can be managed separately.It includes its own customizable group chat, so that, depending on the number of people in each room, you have a unique management.EditIf it comes to sales concerning our project once it has been launched the platform does not let you manage predictions to determine the results of these.It is not possible to track the expenses that have been incurred by employees since the beginning of the project, which creates inconsistencies in accounting operations in the long term.Unfortunately, Asana does not integrate with any office automation platform, which limits the editing tools available when creating any kind of report.', 'Likelihood to Recommend': 'It can be used to cover certain monetary operations once you have found the right API to integrate Asana with online payment services. It is useful for working by separating the work of employees and then joining it together depending on the parts received from them later on. Training projects that require direct communication with employees.'}}\n",
      "7 {'Name': 'Allison McLain', 'Position': 'General Manager', 'Company': 'Marketing & Advertising ,  11-50 employees', 'Rating': '8', 'Date': 'April 28, 2021', 'Title': 'Asana is Amazing', 'Review': {'Use Cases and Deployment Scope': 'We used Asana to manage a large project. It helped us to keep tabs on who was doing each piece of the project, their individual due dates, and how far along each person was in terms of progress for all of the different pieces. It also allowed us to communicate back and forth about the project and have everything in one place rather than trying to dig through tons of emails to find the information needed.', 'Pros and Cons': 'CollaborationFlexibilityAt a glance reviewsEditBudgetingExpense TrackingGraphics', 'Likelihood to Recommend': \"Asana is an amazing tool for project management. It has several templates to ease getting started. There are a lot of different views so it is easy to get an overall big picture of where things are in the queue or you can do a deeper dive pretty easily and see where there might be bottlenecks. I also like that it keeps all of the communication in one place so we're not having to dig for relevant emails. I do wish it had features for budgeting and that it was able to handle graphics better. Right now, it is just a file upload but it would be nice to be able to see thumbnails at least.\"}}\n",
      "8 {'Name': 'Taylor S. Shelberg, MBA', 'Position': 'Manager of Undergraduate Admissions Events', 'Company': 'Education Management ,  1001-5000 employees', 'Rating': '10', 'Date': 'April 12, 2021', 'Title': 'The best work management software on the market - professionally and personally (the list nerds of the world!)', 'Review': {'Use Cases and Deployment Scope': \"We're currently using Asana in our Admissions office. We use it amongst four (4) full-time staff members and a handful of student workers (interns). It's been a gamechanger for us since day one. We're now able to hold less meetings and there's less questions about who is working on what project and when it's due. Asana allows us to clearly define roles and work while keeping us all on track.\", 'Pros and Cons': 'Organizes all of mine and my team\\'s tasks into easy-to-view projectsIt functions as my master to-do list every day (if it\\'s not in Asana, it probably didn\\'t happen!)Clearly outlines which team members are responsible for each piece of the project at any point in timeEditUpgrade software to automatically assign newly created tasks today with today\\'s due date to no longer show up in \"recently add\" (My Tasks) and instead just populate under the \\'Today\\' accordionAllow more customization on the My Tasks viewCreate a \"First 15\" or \"Last 30\" header that allows you to group all tasks that take less than 2 minutes into this section for completion at the beginning (first 15) or end (last 30) part of the work day', 'Likelihood to Recommend': \"I would undeniably recommend Asana to another colleague. In fact, I already have a number of times and a few of them are now on Asana. It's not only a great way to consolidate all your sticky notes, bullet journal lists and anything else you're using into one, but it's digital! Being able to use the mobile app when I'm in meetings to add tasks for myself or others, add details in the task description or reassign to other staff members in real time is invaluable! Such a time saver and by far, my favorite software that I use on a regular basis!\"}}\n",
      "9 {'Name': 'Raleigh Cavey', 'Position': 'Senior Specialist, Influencer Marketing', 'Company': 'Marketing and Advertising ,  201-500 employees', 'Rating': '8', 'Date': 'April 07, 2021', 'Title': 'Easy-to-Use Project Management Platform', 'Review': {'Use Cases and Deployment Scope': \"My agency as a whole uses Asana. It's where we track PTO, manage projects and assign responsibilities. The amount that we use Asana though depends on which account team I'm on. For instance, some Project Managers are very diligent about using Asana and assigning colleagues tasks, while others don't use the platform at all. Of the teams I'm on that do take advantage of Asana, I feel like those accounts are the most integrated, require the most collaboration and have very organized PM's that manage us/the platform.\", 'Pros and Cons': 'User-friendly, intuitive platformHelps to clearly define roles and responsibilitiesEasily manage workflow and tasksEditBetter social content calendar planning capabilitiesEasier syncing of calendars between team PTO and agency PTOEasier adjustment of email notification settings', 'Likelihood to Recommend': \"Asana is great for project management. It allows people to see exactly what is needed of them, when deadlines are and who is responsible for what. On teams that are integrated or require a lot of cross-channel communication, this is a great platform to bring everything together in one space so everyone can be aware and held accountable. I've personally tried using Asana for social content calendar management, and it was a very manual, time-consuming effort that I ended up abandoning. I think this is an area where either I can learn more about how to manage clients' social content on Asana (simply because I don't know/was doing my best guess) or it can be a better capability overall.\"}}\n"
     ]
    },
    {
     "name": "stderr",
     "output_type": "stream",
     "text": [
      "Traceback (most recent call last):\n",
      "  File \"Spider_4.py\", line 90, in <module>\n",
      "    parse_2(t)\n",
      "  File \"Spider_4.py\", line 53, in parse_2\n",
      "    print(count, p_review)\n",
      "UnicodeEncodeError: 'gbk' codec can't encode character '\\U0001f48e' in position 251: illegal multibyte sequence\n"
     ]
    },
    {
     "name": "stdout",
     "output_type": "stream",
     "text": [
      "10 {'Name': 'Andrew Makar', 'Position': 'Program Manager', 'Company': 'Information Technology and Services ,  1-10 employees', 'Rating': '8', 'Date': 'April 01, 2021', 'Title': 'Asana : Blazingly Fast Task Management', 'Review': {'Use Cases and Deployment Scope': 'I have helped organizations and entrepreneurs implement Asana as a case management and personal productivity tool.In some smaller companies, everyone uses the tool to help with collaboration, task management and actual ownership of key activities.The transparency Asana provides is particularly helpful as you can see where specific tasks rank within assigned resources.Since Asana allows you to maintain your own personal task list and collaborate with other team members, it is a useful tool for collaboration across distributed teams.', 'Pros and Cons': 'Asana is a blazingly fast collaborative task list that supports multiple projects. Multiple team members can generate and prioritize tasks for the same project in real-time. Individual task lists are generated from the assigned tasks across multiple projects, and each team member prioritizes the work. Comments, notes, and file sharing are integrated into the application to enable collaboration at a task level.A practical application of Asana is applying it to Information Technology Security and Controls or Sarbanes-Oxley compliance audits. These types of assessment typically involve a checklist that require supporting documentation. Using Asana, the entire project team can respond with the appropriate evidence to complete an audit checklist. In large scale system implementations, it isn\\'t uncommon to have a detailed 200 line task list to launch a new system. Asana is a great tool for this type of task-list checkbox project management.EditAsana is a useful \"punch list\" or \"task list\" tool. If you are doing \"Pick A Date\" project management, it is an excellent solution. However, for large projects that need to identify task dependencies, the critical path, forecasting or Gantt chart type reporting, this is not the tool for your team. LiquidPlanner would be a much better solution for these requirements.', 'Likelihood to Recommend': 'What are the project management reporting and process requirements?Are project baselines required?'}}\n",
      "11 {'Name': 'Ben Flemming', 'Position': 'Director of Human Resources', 'Company': 'Non-Profit Organization Management ,  51-200 employees', 'Rating': '9', 'Date': 'May 08, 2021', 'Title': 'Living the Asana dream', 'Review': {'Use Cases and Deployment Scope': 'Our leadership team is using Asana for high level design and tracking of our strategic goals and key organizational priorities. We use Asana to assign ownership of objectives and see progress on goals throughout the year and our 90 day sprints. Additionally we have several departments that are using Asana on a daily basis to manage all aspects of project planning and task management.', 'Pros and Cons': \"Task managementtimeline buildingworkload assignment and reviewEditShortcut keys are great; some users won't get it.\", 'Likelihood to Recommend': \"I find Asana very well suited for most every thing that is actionable and decision based. It's also a great place to link notes and relevant files. However, Asana is not the best solution for keeping notes and doing blank page planning and dreaming of new directions. Other formats like a sheet of paper or a blank document are better for generating a new idea and presenting the whole plan to the team\"}}\n",
      "12 {'Name': 'Dezzy Linda', 'Position': 'Product Specialist (Computing, Gaming and Mobile)', 'Company': 'Retail ,  10,001+ employees', 'Rating': '10', 'Date': 'April 19, 2021', 'Title': 'Manage your projects with ease.', 'Review': {'Use Cases and Deployment Scope': 'Asana is a game-changer for us and it has organized all the tasks from the minimal tasks to the strategic initiatives. It has calendars, a dashboard, and a schedule that assists task management. it has also the feature of screen sharing by which we can share important documents with our team members. It has mastered complex tasks like project management and allows integrations and live chats as well.', 'Pros and Cons': 'Multi FeaturesIntegration.Availability for cellphone and laptopsEasy visualization.EditLacks the feature of exporting.Lacks time tracking feature.It is so bad in the attachment of any visual within the task.', 'Likelihood to Recommend': 'This is highly recommended software as it has made our work quite easy and manageable. It has many features essential for the management of projects either small or large projects and saves a lot of time for the holder. It also allows integration and its availability for the cellphones is highly appreciable. It is the best to project management software and is just a perfect tool to ease a complex task like the management of projects and other resources.'}}\n",
      "13 {'Name': 'Dylan DeClerck', 'Position': 'Founder and Executive Director', 'Company': 'Non-Profit Organization Management ,  1-10 employees', 'Rating': '8', 'Date': 'April 03, 2021', 'Title': \"Great for Non-Profit's Program Management and Fundraising Strategy\", 'Review': {'Use Cases and Deployment Scope': 'Asana is being used by our project management and program management team within our organization. We use it primarily to organize our programs but have a few important grant deadlines and other tasks within the organization as well.', 'Pros and Cons': \"Organize and schedule tasks.Project and program management.Keeps track of deadlines.Attaches links and comments to tasks.Project collaboration.EditReminders are too frequent, but when you turn them off our staff doesn't use the tool.Allows project managers to delete and remove tasks without approval from a supervisor.Duplication tool works well, but still has some functionality that could be improved.\", 'Likelihood to Recommend': 'It is well suited within our non-profit organization for program and project management because it allows our staff to collaborate on the programs and see what tasks each person is taking and their progress without having to reinvent the task list each time.  It also allows us to track our grants and corporate sponsorship strategy well, which is an annual task that we can greatly benefit from having the information from one year to the next.'}}\n",
      "14 {'Name': 'Josh Goddard', 'Position': 'youth leader', 'Company': 'Religious Institutions ,  11-50 employees', 'Rating': '6', 'Date': 'May 13, 2021', 'Title': 'Easy to use even for the simple-minded like me!', 'Review': {'Use Cases and Deployment Scope': 'Used to coordinate meetings, assign and track tasks.', 'Pros and Cons': 'Easy to follow and coordinate.Easy to follow up with completion.EditSome functions a little difficult to use and we did not have anyone experienced enough with it to help.', 'Likelihood to Recommend': 'Great for assigning tasks and following up on completion. Slightly difficult to figure out and utilize for underexperienced users'}}\n",
      "15 {'Name': 'Jonathan Whetstone', 'Position': 'Manager, Customer Implementation', 'Company': 'Computer Software ,  51-200 employees', 'Rating': '6', 'Date': 'April 29, 2021', 'Title': 'Asana is a good project management tool for cross-functional projects', 'Review': {'Use Cases and Deployment Scope': 'Asana was being used to manage internal projects by the upper-level management team. It was used across the entire organization, but only a select few had access to it. The business problem that it was being used to solve was cross collaboration across various teams. Some of the projects that were created in Asana were building out specific departments.', 'Pros and Cons': \"Project organizationBuilding out departmentsCreating tasks for various departmentsEditThe UI isn't the easiest to useDifficult learning curveThere are many project management tools\", 'Likelihood to Recommend': 'It is great to use across departments when creating a project.  It is hard for novice users to use.'}}\n",
      "16 {'Name': 'Lauren Sikkema', 'Position': 'Marketing Administrative Assistant', 'Company': 'Architecture & Planning ,  51-200 employees', 'Rating': '9', 'Date': 'April 05, 2021', 'Title': 'Asana can help!', 'Review': {'Use Cases and Deployment Scope': 'My current job we use it to track project progress in a very basic way. My past experience I used Asana to track more fully projects and task lists.', 'Pros and Cons': 'Assigning tasksTracking progressPlanning out strategyEditBeing able to print out a legible list of individual tasks for one person or all people in a team', 'Likelihood to Recommend': 'Tracking tasks for long term projects is easy with Asana and helps keep the team on track.When you have an event that is the same year after year, it is clunky to replicate and reassign dates for the new event.'}}\n",
      "17 {'Name': 'Verified User', 'Position': 'Employee in Marketing', 'Company': 'Design  Company ,  1-10 employees', 'Rating': '8', 'Date': 'May 14, 2021', 'Title': 'Asana Will Keep Your Eyes on the Prize (or Project)', 'Review': {'Use Cases and Deployment Scope': 'Asana is mainly used by the entire public affairs department, however, there are parts of Asana that are used by the entire organization (forms, accessing shared links, etc). Asana is a project management tool that [keeps] our creative teams on track of projects. It allows detailed project planning and organization and allows every team member to fully visualize the project process before it gets started.', 'Pros and Cons': \"Flexible organization of project parts - you can easily set up project boards on your own or use pre-built templates to start laying out your project details.Small features - drag and drop functionality makes it super easy to route outside requests, tagging your team members and setting priorities, and the ability to integrate with Outlook are really helpful extra touches.Calendar feature - what good would a project management software be without an excellent calendar feature? Luckily, Asana lets you track goals and progress while keeping an eye on your teammates calendars/workloads.EditI think there could be improved clarity around the different levels of Asana. For example, the resources available to paid accounts are not visible from the more basic accounts, so you're not aware that there are expanded options until you look in their knowledge base and see that they have additional features.Exporting projects - you can export a project into a csv, but it isn't pretty. This can be challenging if you'd like to have an archived project folder for open records requests.\", 'Likelihood to Recommend': 'I think Asana is one of the best project management software available. In this world of mostly digital communication, keeping your team on track OUTSIDE of Microsoft Teams/Skype/Slack/Email is crucial as so many moving parts can easily get dropped. Asana is there to hold all of the pieces and easily integrate with your main communication channel.'}}\n",
      "18 {'Name': 'Verified User', 'Position': 'Manager in Marketing', 'Company': 'Medical Practice  Company ,  11-50 employees', 'Rating': '10', 'Date': 'May 13, 2021', 'Title': 'Asana is a project management life saver!', 'Review': {'Use Cases and Deployment Scope': 'Asana is used by almost the whole organization and is a great organizational tool for departments to use with their teams! I love Asana as it helps me figure out what I need to do that day, what I could push out, and who I needed to follow up with based on due dates, task name, and importance. You can assign tasks to other members of your team which is a great help when we are all working from home right now. You can set due dates and combine multiple tasks into one overarching task to stay organized with different projects. This also helps give visibility to higher ups and exec teams on which departments are performing which tasks.', 'Pros and Cons': 'Assigning tasks - this is a great feature so each member of the team knows which tasks in a project are for them to do.Chat function - the ability to tag other team members in your task is great when you need someone from another department to quickly jump in and review a question you may have, by seeing the previous conversation and attachments.Due dates - assigning due dates helps create expectations for tasks to be finished and I especially like that the assignee can also move their dates around incase things get too busy.EditAsana could improve with a better UI so I can organize my daily tasks in order of importance, as they will all say \"Due today\" instead of allowing me to order them myself in what are the most important tasks to finish in the day.I\\'d like to be able to see every and any task I\\'ve completed in each month of the year incase I need to go back to check some notes within the task.It would be cool if Asana could cross-function with Outlook to mark VIP dates in our team calendars.', 'Likelihood to Recommend': \"Asana is amazing to use for teams to keep track of weekly check-ins, ongoing projects, and quick asks between teams (such as marketing team to IT team, sales team to logistics team, etc.). It is helpful in project managing ongoing projects and keeping notes of information for multiple people to see or to create reminders for yourself to finish certain tasks.It's not as helpful when brainstorming, I recommend getting on an actual call, but brainstorming could still get done with Asana as you can add multiple collaborators to one task and have many comments chime in. Asana is a great tool to stay organized, on task, and on time with projects.\"}}\n",
      "19 {'Name': 'Verified User', 'Position': 'Administrator in Marketing', 'Company': 'Marketing & Advertising  Company ,  51-200 employees', 'Rating': '8', 'Date': 'May 13, 2021', 'Title': 'Good project management tool for all teams in your org', 'Review': {'Use Cases and Deployment Scope': \"Asana is used by almost [all] of the teams in our org. Every team can have their own workspace with different projects and sprints and as a user, you can be a part of multiple workspaces to collaborate on a variety of projects with other teams. We have company-wide workspaces too, it's very convenient.\", 'Pros and Cons': \"Contol over how worskpaces/projects/teams are built.Easy, intuitive UI.Cute little animations to celebrate the task completion.EditNotifications can be made more configurable. I do want to get notifications for tasks shared with me, but not any tasks in my workspace.Can be a bit laggy when trying to move multiple tasks. (I often need to move 5+ tasks to another project and can't select a section of a project from the menu.)Needs more short educational blurbs (video/text) Even though I appreciate customer support offering personalized training, sometimes I do not have time for it.\", 'Likelihood to Recommend': \"It's pretty good, very intuitive, and easy to configure for any team's needs. [It's a] good system if you want to use it for the entire company. For development teams, a tool like Jira probably would be more useful, but Asana can also do the trick too if configured right. [Asana] for sure [has] way better user/admin experience than Wrike.\"}}\n",
      "20 {'Name': 'Verified User', 'Position': 'Director in Engineering', 'Company': 'Computer Software  Company ,  11-50 employees', 'Rating': '9', 'Date': 'May 13, 2021', 'Title': \"The best project management tool for small business/ teams (especially ones that can't afford a full time PM).\", 'Review': {'Use Cases and Deployment Scope': \"We use Asana pretty extensively throughout our organization. It's used by the Product & Engineering team to manage our bi-weekly sprints along with backlog projects for each of our sites. The Finance/ HR team uses templated projects for onboarding & offboarding employees. The marketing & design teams use it to coordinate for client projects. The best thing about Asana is just how quickly and eagerly everyone was to start using it. It required almost no formal training because it's so intuitive and as a result has a MUCH higher adoption rate than with our previous solution (Wrike).\", 'Pros and Cons': 'Easy to Use / intuitive.Powerful task management features.Self service/ training for teams to adopt.EditReporting is simplistic.Doesn\\'t \"chase\" users to complete items like some PM solutions.Projects don\\'t auto-archive.', 'Likelihood to Recommend': 'Asana is perfect for small businesses/ teams that have outgrown project management tracking via spreadsheets but don\\'t have the overhead to be able to have dedicated full-time PMs just entering items in Jira or other overly complex project management solutions.  It simply \"works,\" but as your team gets more sophisticated you can stay within Asana as it has all of the complexity of a full-featured tool (task hierarchy, pre-requisites, blocking tasks, resource availability, etc).'}}\n",
      "21 {'Name': 'Verified User', 'Position': 'Professional in Professional Services', 'Company': 'Higher Education  Company ,  1001-5000 employees', 'Rating': '8', 'Date': 'May 13, 2021', 'Title': 'Organizes Projects and Fosters Communication and Collaboration', 'Review': {'Use Cases and Deployment Scope': 'We use Asana with one of our contractors to collaborate on projects that have multiple team members and tight deadlines. Asana has helped us track the pieces of the project that are done, what still needs to be done, and who is responsible for each item. The messaging and file sharing within the software are also helpful because we can put everything in one place instead of having to search through emails.', 'Pros and Cons': \"All the files and information about the project is in one place instead of searching through email threads looking for information.We can have multiple team members working on the same project and assigned to different parts of the task.The mobile app makes the information available on the go - which was helpful on our video shoot.EditIt was not as intuitive to understand and start using as I thought it would be. It took me a little while to get used to the software and up to speed.The mobile app was harder to find things on - I started using it at the actual video shoot - and should have spent time acquainting myself with it before I needed information working with our project team.It's yet another software to remember to check - different team members are using different softwares. This one was requested by a contractor we work with. Without the email reminders I might not remember to go look for updates.\", 'Likelihood to Recommend': \"It's a great project management software where multiple people are collaborating on a project with a lot of moving parts, deliverables, or pieces. I really like that the timeline, tasks, files, everything is in one place. It helps keep you on track and able to get a broad level overview of where you need to be and what parts of a project are ahead or behind schedule.\"}}\n",
      "22 {'Name': 'Verified User', 'Position': 'Manager in Other', 'Company': 'Education Management  Company ,  201-500 employees', 'Rating': '10', 'Date': 'May 13, 2021', 'Title': 'Great tool for you as a manager of mid/ big teams that will be your easy-to-use everyday assistant.', 'Review': {'Use Cases and Deployment Scope': \"Asana is being used not across the whole company. We use it in our department with 4 different functions/ directions and with 19 team members. We set tasks, track activities on those tasks, interact with each other.We also have the Ideas section in all the projects and add all fresh ideas there. Those are not tasks (with deadlines, goals, milestones), but raw ideas that we don't want to forget. When the planning period comes, we address those sections to convert ideas into tasks for the next periods.\", 'Pros and Cons': \"Tracking progress.Keeping all tasks and ideas together.Easy to navigate UI.Custom tags.Canned reports/ filters: My tasks, Tasks I've Created, Recently Completed Tasks, etc.EditI miss some proactive projects recommendations by Asana, e.g.: We recommend you to add subtasks or divide the tasks into sections.I miss some proactive tasks recommendations by Asana e.g.: Hey, we've noticed that there are no activities here. How's it going with this task?I wish the Workload feature was in the Free or Premium option.\", 'Likelihood to Recommend': 'All your tasks and activities [are] gathered in one place. I like the scenario with reporting for the period. You just set some filters like \"tasks completed in the previous month\" and you have all those.I also find it very useful to see the calendar and all the tasks showed in it divided by deadlines.'}}\n",
      "23 {'Name': 'Verified User', 'Position': 'Professional in Marketing', 'Company': 'Security & Investigations  Company ,  11-50 employees', 'Rating': '10', 'Date': 'May 12, 2021', 'Title': 'Asana is the project management software for small teams', 'Review': {'Use Cases and Deployment Scope': 'We use Asana for both managing marketing projects and managing calendars across our team. It is an efficient tool, very affordable and [there are] many ways you can use it. This means everyone can use Asana the way they want to and still be able to collaborate. It has easy tagging, preset templates, file sharing and so much more. Working from home, it was essential for us to have a tool like Asana to stay the course.', 'Pros and Cons': 'Cross collaboration through tagging people and projects.Multi layer projects - can add a task to a task.Easy project segmentation with sections.EditEditing files on Asana.Inbox management needs to look a bit cleaner.', 'Likelihood to Recommend': 'Asana is an incredible project management tool especially if you are not a project manager. It allows you to stay organized, connected to your team, and on time, with little effort and some rewards like flying unicorns. We use Asana to manage large scale events and the tagging in Asana allows me to assign tasks to colleagues, include important deadlines such as recruitment emails in our content calendar so that there is not crossover, and add tags even for those that are not on Asana so we can track whether our sales team is available to attend events.'}}\n",
      "24 {'Name': 'Verified User', 'Position': 'Project Manager in Marketing', 'Company': 'Design  Company ,  1-10 employees', 'Rating': '7', 'Date': 'May 09, 2021', 'Title': 'Easy to use but lacking bells and whistles that some teams might need.', 'Review': {'Use Cases and Deployment Scope': 'We use Asana throughout our organization to manage projects and tasks between various teams. We have a Web Development team and a Content Development team and Asana provides a workspace for each team. Asana uses a simple interface and allows us to easily add, manage and assign tasks to our team using our existing project management processes and workflow.', 'Pros and Cons': \"Initial set up is quick and easy.Interface is straightforward and user-friendly.The ability to comment on tasks keeps all relevant communication in one place.EditI'd like the ability to have customizable statuses. As-is, Asana only offers the ability to move items from one task list to another or complete the task.It would be nice to be able to comment on subtasks.Paid version is too expensive.\", 'Likelihood to Recommend': 'For teams that have a fairly simple workflow where not much customization will be needed with their project management tool, Asana is a great way to go. Setting up a team workflow is super quick and easy, and onboarding other team members is straightforward due to the simplicity of the interface.'}}\n",
      "25 {'Name': 'Verified User', 'Position': 'Project Manager in Information Technology', 'Company': 'Information Technology & Services  Company ,  5001-10,000 employees', 'Rating': '10', 'Date': 'April 06, 2021', 'Title': 'The Asana Way', 'Review': {'Use Cases and Deployment Scope': \"Asana is being used on my team to organize each sales teams' sales goals for the year and each quarter. Each team is able to define their goals in Asana and specify each action step they need to take in order to reach each goal. With each piece of data entered in as a task, milestone, section, etc., Asana is able to help us measure, track and report our progress to stakeholders in how we're tracking towards reaching the goals we set. We're also able to hold ourselves accountable to what we set forth to do as opposed to just making lofty goals and empty promises that sound like great ideas that we end up not fulfilling. Asana also helps immensely with collaboration and communicating as we're all working remotely now. It's easy for us to stay updated on tasks and what remains outstanding.\", 'Pros and Cons': 'Track and measure goals.Hold others accountable through assignments.Collaborating and communicating effectively.Stores everything in one central location.Helps to stay organized and streamline work.EditExporting certain features such as the overview and project brief onto a pdf.Duplicating multiple tasks at once.Adding a team to a portfolio or project as opposed to having to select individual users.', 'Likelihood to Recommend': \"Asana is well suited for projects that involve multiple people working towards the same goal and need to collaborate in an efficient, organized and streamlined manner. It's great for when one party is waiting on another party to complete a task before they can begin theirs. Asana has a feature that solves for that. Asana is not just a checklist. It is a super robust tool. Each piece of data entered into your project is tracked and measured and subsequently generates a chart to display your progress. Therefore, the data you enter needs to be meaningful and relevant, otherwise you will be providing an inaccurate picture of your actual progress on these charts. What you put in is what you get out. Asana is meant to be interactive and should not be left stagnant for others' viewing pleasures if you have a project that needs to be completed and people that need to be held accountable. Those who are part of a project and are assigned to a task should be expected to interact in Asana by providing updates through comments, marking tasks off as complete, updating status fields, uploading files, if applicable, etc. The tool is what you make of it, otherwise it's just another lifeless app.\"}}\n",
      "26 {'Name': 'Verified User', 'Position': 'C-Level Executive in Other', 'Company': 'Education Management  Company ,  11-50 employees', 'Rating': '5', 'Date': 'May 13, 2021', 'Title': 'Asana is wonderful - Not the best fit for Performing Arts', 'Review': {'Use Cases and Deployment Scope': '[We] utilized [Asana] for project management across different departments. We tried to use this for production management between marketing, development, and artistic planning. Unfortunately, it was not the best platform for this type of organization. However, we plan on utilizing this between the Administrative side of the business only to stay on top of smaller projects.', 'Pros and Cons': 'CommunicationTimelinesDeadlinesEditEase of use for non-tech usersInterface with g-suiteCustomization', 'Likelihood to Recommend': 'For a business with only Administrative tasks.  As an arts/ production-based organization, this was not the ideal tool as technology is not always utilized in the planning.  It is more hands-on.'}}\n",
      "27 {'Name': 'Verified User', 'Position': 'C-Level Executive in Corporate', 'Company': 'Marketing & Advertising  Company ,  1-10 employees', 'Rating': '8', 'Date': 'May 13, 2021', 'Title': 'Great value for teams over 5 members', 'Review': {'Use Cases and Deployment Scope': 'We use Asana to track bugs and manage projects ranging from traditional business to business clients to home decor and fashion brands. Everything from design & development to ongoing marketing and merchandising. We are all working from home so it is the cornerstone of our daily effort. It makes it easy to collaborate.', 'Pros and Cons': \"Manage Projects.Track Issues.Increase Efficiency.EditWould be great if there was a desktop appEasier sharing controls - sometimes issues don't get assigned / or are privateBite sized learning to learn quickly / easily. Superhuman does a great job at this.\", 'Likelihood to Recommend': \"We are a funny size. Probably a bit too small to be the optimal users of this platform, but we do like Asana and see the value. Sometimes it feels slow - or maybe that's just my typing, but it's just hard to move fast enough in business, in general, these days. They are always trying to make things easier and faster.\"}}\n",
      "28 {'Name': 'Verified User', 'Position': 'Employee in Information Technology', 'Company': 'Computer Software  Company ,  51-200 employees', 'Rating': '5', 'Date': 'May 10, 2021', 'Title': 'How Asana can increase your work productivity', 'Review': {'Use Cases and Deployment Scope': 'Asana is being used to manage all of our tasks, project plans, and timelines. I personally use it to track my own tasks on a daily basis. This is also used as a project and team collaboration tool to track different tasks, mark milestones, assign the tasks to someone, and track them with due dates. Templates are also available, which makes it easier to duplicate the tasks and build on them rather than creating a project task from scratch.', 'Pros and Cons': 'Reminders for me with a list of outstanding tasksTemplates are very good to duplicate the project tasks and milestonesCollaborators can be added at every level to follow or track the tasksEditAdding sub tasks--we have to open each task to get to the sub tasksMake it easier to add the details to the tasks without having to go into the tasksUI can be more user friendly', 'Likelihood to Recommend': 'Areas where Asana is suited well: Mainly for task management and collaboration. It helps in managing all the tasks, project plans with task assignments, and due dates.Areas where Asana is less appropriate to use:Project management with complex, dependent tasks where a lot of milestones are involved'}}\n",
      "29 {'Name': 'Verified User', 'Position': 'Account Manager in Other', 'Company': 'Design  Company ,  11-50 employees', 'Rating': '9', 'Date': 'May 07, 2021', 'Title': 'The Best Project Management System Available', 'Review': {'Use Cases and Deployment Scope': 'Asana tracks our productivity as a company. We are able to organize and communicate about projects efficiently, and we always know where to go for status updates and notes! I am able to look back at progress over time and encourage teammates to include insight about how they worked through tasks effectively.', 'Pros and Cons': 'Organize Project TasksTrack Conversations and CommentsRecord Project DatesEditThe interface requires navigation through multiple pages and tabsSometimes comments get lost in threads that are longDates can only be moved individually—if you change one it does not change any related dates', 'Likelihood to Recommend': 'Asana is great for team collaboration, project management, and tracking progress. It is a hub for tasks, dates, and creative briefs. If you would like to work in a program where all projects can be seen on one page or move dates in bulk, Asana is not the best option.'}}\n",
      "30 {'Name': 'Verified User', 'Position': 'Partner in Legal', 'Company': 'Law Practice  Company ,  1-10 employees', 'Rating': '7', 'Date': 'April 30, 2021', 'Title': 'Stay connected and organize tasks on projects', 'Review': {'Use Cases and Deployment Scope': 'Asana is being used by the whole firm to keep track of tasks on particular cases. In particular, we have a project for each active case and create tasks for each case. Those tasks are assigned to secretaries and attorneys at the firm. We use it as a single place to see everything that is being done to advance our cases. We also track deadlines.', 'Pros and Cons': 'Allows managers to track assignments given to othersAllows team members to see the current and future tasks on casesAllows team members to add tasks to the platform from emailEditThe calendar view showing due dates for tasks gets messy and hard to readIntegration with email could be better, as many users did not like going to a separate website to view task management', 'Likelihood to Recommend': \"It would work well for any team that has projects with multiple steps that need to be coordinated across different players. My team does not use the platform as much as I would like because it's an extra step that they have to take before they can get work done. It is very customizable, so the lists and projects can be tailored to your specific needs. There are also a variety of views so you can change the way the tasks are displayed to you to fit your personal needs while still working together as a team.\"}}\n",
      "31 {'Name': 'Verified User', 'Position': 'Administrator in Other', 'Company': 'Higher Education  Company ,  1001-5000 employees', 'Rating': '7', 'Date': 'May 13, 2021', 'Title': 'A sometimes user of Asana', 'Review': {'Use Cases and Deployment Scope': 'Asana is mainly used by our IT department to manage and track projects.', 'Pros and Cons': 'Ease of communication.Robust tracking system.Easy to use.EditDifferent type of project tracking abilities need to be included.', 'Likelihood to Recommend': 'It is a good product. There are several similar products on the market. However, Asana seems to stand out among the competition.'}}\n",
      "32 {'Name': 'Verified User', 'Position': 'Employee in Marketing', 'Company': 'Health, Wellness and Fitness  Company ,  51-200 employees', 'Rating': '7', 'Date': 'May 02, 2021', 'Title': 'Asana for Small Business', 'Review': {'Use Cases and Deployment Scope': 'Asana was used as a project management tool within the marketing and sales departments. Often it addressed the many issues that came with product management to involve the multiple stages of product lifecycle to keep everyone involved, informed.', 'Pros and Cons': 'visibilityschedules and planningLayoutproject managementEditsimplicity', 'Likelihood to Recommend': 'Asana is well suited for project and product management. It easily shows layout in a functional manner as well as scheduling and planning in an agile environment.'}}\n",
      "33 {'Name': 'Verified User', 'Position': 'Director in Marketing', 'Company': 'Glass, Ceramics & Concrete  Company ,  51-200 employees', 'Rating': '9', 'Date': 'April 28, 2021', 'Title': 'Efficiently manage projects across a team', 'Review': {'Use Cases and Deployment Scope': 'Our Marketing department uses Asana to manage workflow. Having a marketing request form for others in the company to fill out helps save time and back and forth emails to get all the information we need. We push all our requests through Asana so we can assign them to the correct person right away. It makes our team more efficient!', 'Pros and Cons': 'Time managementClarity on tasksDependent tasks', 'Likelihood to Recommend': 'Asana is great for teams that are remote. It helps teammates keep in touch and you always know what the status of the task is!'}}\n",
      "34 {'Name': 'Verified User', 'Position': 'Manager in Marketing', 'Company': 'Computer Software  Company ,  201-500 employees', 'Rating': '8', 'Date': 'July 16, 2020', 'Title': 'Great for project management', 'Review': {'Use Cases and Deployment Scope': 'We use Asana to stay organized within our marketing department. Specifically, our design team primarily uses it to track all asset requests, which is helpful to see not only who is working on the asset but what the entire team is working on as well.', 'Pros and Cons': \"Project management.Organization.Visibility.EditThe view can be a little difficult because it's so busy.When submitting a task request, the person submitting is not automatically tagged.Would love a view to see everything I've been tagged in.\", 'Likelihood to Recommend': \"Asana is great to help manage a project that involves several people. It helps the team with greater visibility, showing updates, and working on a single thread. It may not be as helpful if you don't give licenses to the broader team, or if you are only going to use Asana with a small group.\", 'Support Rating': \"I've never used their support service.\"}}\n",
      "35 {'Name': 'Verified User', 'Position': 'Project Manager in Other', 'Company': 'Higher Education  Company ,  201-500 employees', 'Rating': '9', 'Date': 'May 21, 2020', 'Title': 'Asana gives me peace', 'Review': {'Use Cases and Deployment Scope': 'As an instructional designer, I guide a number of faculty in developing fully online courses. I use Asana to track the progress of each course development. This use includes long-term programs as well as temporary projects. Currently, there are only a few of us in the organization using Asana, but I hope to get my team on board to replace the tool we use for collaboration.', 'Pros and Cons': 'I find Asana\\'s user interface easy to navigate and manipulate. Drag and drop options are built-in, the graphics are clean and clear, and it is easy to figure out how to accomplish tasks I hadn\\'t previously done.Asana is versatile, allowing various layouts (list or tiles) to accommodate the various programs and projects I need to manage.Asana has good collaboration tools. Team members can receive real-time updates (if they choose) when tasks are completed, and messages can be sent within Asana.Asana has great integration with Google, Microsoft, Slack, and other tools to really tie it into my organization\\'s existing tools.EditAsana uses a \"freemium\" model. I currently use the free instance, but there are many more useful features available for the Premium model.I have never found My Tasks, the to-do list of Asana, to be particularly helpful. I would like to see an opportunity to prioritize those tasks on the to-do list manually.Asana has a number of icons available for project links, but it would be nice to upload custom icons.', 'Likelihood to Recommend': \"Asana is great at straight out project management. Some advanced PM tools, such as Gantt charts, require paid subscriptions, but for creating and maintaining categorized task lists and assigning tasks to specific people, Asana is a pro. I originally used Asana at my wife's multimedia production business. Now that I am working on educational projects rather than media projects, I find the principles to be so similar that I am using Asana anyway. I think it's worth it.\", 'Support Rating': \"I have found most of the answers I need in Asana's knowledgebase. There were a few times I didn't like the answer, but I was still able to get an answer. I did not rate Asana's support any higher because the knowledge base is the only tool I have used. I have not experienced other types of customer support.\"}}\n",
      "36 {'Name': 'page V', 'Position': 'CEO (Chief Executive Officer)', 'Company': 'Marketing and Advertising ,  1-10 employees', 'Rating': '8', 'Date': 'February 10, 2020', 'Title': 'Asana: Best all around project management tool', 'Review': {'Use Cases and Deployment Scope': \"Our team is using Asana with other teams in collaboration in a project management capacity. We are using it to: Break down the multiple components of our projects into tasks, responsibilities, roles, and timelines.Track multiple pieces of a project across complex team structures and time zones.Plan time and logistical execution for our parts of the project moving forward.Observe the overall project's progress as a whole (Kanban-like progress board). Document processes that need to be completed so that others can implement them. \", 'Pros and Cons': 'Timelines: With Asana, you can create Gantt charts that show you preceding/needed action items. When a part of a project is delayed, you can track how that will affect the forward trajectory of the project.User management / Roles in relationship to tasks: Asana allows you to see individual users and assign them tasks in an overall project, while also being able to see what items are needed as a whole. It allows you to see who is doing what and when.EditOrganized File storage: There\\'s one master view for file storage, OR you can store files in individual tasks. Overall, for visually-driven individuals - and for those who need a strong sense of organization, it\\'s not that helpful.Visual organization inside of tasks: The view inside of tasks could be improved for visually focused individuals; I find myself wanting more of a \"notebook\" view that better integrates different types of media and notes altogether.', 'Likelihood to Recommend': \"Our team has evaluated several team collaboration tools. If your organization (five or more) needs a place where your team can collaborate, track tasks, track time, manage users and come together to get something done, Asana is going to be one of our top recommendations. The ability to see progress in a project, integrate Asana into the rest of your workflow and tools, document notes and processes inside of the process, duplicate boards and projects, and manage the process is pretty well planned. Note: It's more vital for you to know your processes and how your team works before picking out a software tool for it. However, we still recommend Asana highly. Asana is NOT a good fit for you if you have a smaller team, don't have reliable processes, don't like seeing user management or task boards, or are looking for a free tool.\", 'Support Rating': \"We haven't had to tap into support. Everything has been very straightforward in its use. We have been able to show up inside of other projects (with other teams) and be ready to jump in with very little need for outside assistance or support. All of the techs have worked, and we've never had to reach out to support.\"}}\n",
      "37 {'Name': 'Sandra Jackson', 'Position': 'Graduate Teaching Assistant', 'Company': 'Higher Education ,  201-500 employees', 'Rating': '10', 'Date': 'March 10, 2020', 'Title': 'Asana improves productivity and team collaboration', 'Review': {'Use Cases and Deployment Scope': 'We use Asana withing our business department to manage the graduation projects for our senior students. Asana helps us to save meetings time and reduce email communication. In our department we supervise around 20 projects per year and Asana helps us to keep track of all the projects and see the progress of each one.', 'Pros and Cons': 'Nice and simple platform for project management.Great calendar tool to monitor deadlines.Great for collaboration and team work.Customization dashboard.EditPoor exporting features.Limited functions in mobile app.', 'Likelihood to Recommend': 'Asana is one of the best platforms to manage projects and collaborate with teammates. It improves productivity by assigning tasks to each member and put deadlines for the submission of the project. It allows our students to stay focused on each task and is useful for our department to keep track of each project.', 'Support Rating': 'Very responsive customer support. I once needed help to integrate a planner software with Asana and I was able to get help within 24 hours.'}}\n",
      "38 {'Name': 'Chad Carman', 'Position': 'Digital Media Director', 'Company': 'Non-Profit Organization Management ,  51-200 employees', 'Rating': '9', 'Date': 'January 17, 2020', 'Title': 'Worth every penny to increase productivity', 'Review': {'Use Cases and Deployment Scope': 'We utilize Asana through our marketing department to keep on task for a variety of projects, procedures, and work orders. It enables us to ensure that none of the 100s of concurrently running tasks or projects miss their due dates. We sync it through Slack to increase productivity of conversations within the department as well.', 'Pros and Cons': 'Ability to set it and forget it. Create a task as soon as you have it and assign a due date then you have no worries about forgetting it.Keeps priorities in orderAllows for communication on specific tasks within Asana keeping most relevant files available.EditWould be nice to be able to print task calendars as we keep our content calendar in Asana', 'Likelihood to Recommend': \"Asana is best suited for groups that have multiple projects running concurrently. It allows a business organization to quickly shift projects or tasks to other individuals when certain employees or departments get bogged down. Keeping quality notes on progress allows you to see the status at an immediate glance. We couldn't maintain our efficiency without it.\"}}\n",
      "39 {'Name': 'Kate Knight', 'Position': 'Virutal Assistant', 'Company': 'Health, Wellness and Fitness ,  1-10 employees', 'Rating': '10', 'Date': 'December 11, 2019', 'Title': 'No compromises with Asana!', 'Review': {'Use Cases and Deployment Scope': \"Because I work with someone hours away, and we typically work opposite schedules, having a software where we can log projects we're working on, tasks that need completed, posting schedules, etc. was extremely important for the success of our organization. We were looking for an easy to use software that also offered a well put together app, all of which Asana offered.\", 'Pros and Cons': 'The app is extremely useful.The subtask feature has been extremely helpful when we have several steps that need to be taken care of for a project.EditEmail notifications - For each task, subtask, comment, I receive an email. This is unnecessary when I have the app on my phone.Software integration with Gmail would be a huge benefit.', 'Likelihood to Recommend': 'Asana is well suited for an organization that has employees working in distance with each other.  It is also well suited for organizations that may have multiple projects going on at one time, with various schedules and due dates.  We think the organization Asana has provided has been key to our success.', 'Support Rating': \"Overall, we love Asana.  It is easy to use and easy to stay up to date with.  We were looking for software that would do all we needed but wouldn't take a large chunk of our time to learn and that is exactly what Asana provided!  The opportunity to utilize software purely for our benefit, and not take away anything from our organization.  No compromises with Asana!\"}}\n",
      "40 {'Name': 'Catherine Zauner', 'Position': 'Customer Service Representative', 'Company': 'Computer Software ,  51-200 employees', 'Rating': '8', 'Date': 'November 26, 2019', 'Title': 'Great tool for collaborative teams', 'Review': {'Use Cases and Deployment Scope': 'Multiple departments use this platform to manage projects. This allows our teams to collaborate, streamline and schedule project due dates and keep track of who is working on what. This is very helpful for when people travel, there is transparency around what is due and other teammates can step in when needed. This is a great platform for efficient collaboration.', 'Pros and Cons': 'Project management - the ability for us to track our projects all in one place is very helpful. transparency makes it easy for everyone to be on the same page.Marking projects/events complete as they happen - the fun animation makes every completed task feel like a win, and it makes using the tool more fun. Very helpful when doing something that is normally tedious.EditFor what I use it for, there is nothing I could recommend.', 'Likelihood to Recommend': 'This product is well suited for teams where different folks are collaborating on assignments and there needs to be a clear outline as to who is working on what. It helps set very transparent expectations for progress and follow up. It may not be necessary for non-collaborative environments.', 'Support Rating': 'I have not used their support, and there is not an option for N/A. This is not something I can comment on because I had no interaction with the Asana Customer Support team. If this was something our managers used, I was not privy to that information, so I am unable to comment.'}}\n",
      "41 {'Name': 'Erin Harris', 'Position': 'Internet Marketing Manager', 'Company': 'Information Technology and Services ,  1-10 employees', 'Rating': '7', 'Date': 'December 11, 2019', 'Title': 'Asana for easier project management', 'Review': {'Use Cases and Deployment Scope': 'Asana is being used by Cantle Tech to manage projects of remote employees. We are located all over the country and we work on cross-team platforms. We needed a project management package to keep up with everything on a task-by-task basis.', 'Pros and Cons': 'Organizes Tasks among members of a project teamKeeps the timeline currentAbility to integrate with Google DriveEditI lose tasks in the lists.Email notifications get confusing', 'Likelihood to Recommend': \"Asana is well-suited for remote teams who work on multiple projects at once. You don't have to be an expert to use Asana. It's very user friendly and adaptable for organizations.\", 'Support Rating': \"I haven't had to reach out to their support.\"}}\n",
      "42 {'Name': 'Verified User', 'Position': 'Manager in Information Technology', 'Company': 'Internet  Company ,  1-10 employees', 'Rating': '8', 'Date': 'January 14, 2020', 'Title': 'Project Management is a breeze. Thanks to Asana!', 'Review': {'Use Cases and Deployment Scope': \"Asana is being used to assign tasks throughout the entire organization. We have remote employees in Canada, the United States, India and the Philippines. Due to everyone working in different time zones, communication becomes a problem. By assigning tasks via Asana, everyone knows your schedule for the day and when a task is completed, the next task can start by the next person in line. Previously, we used Wrike and Trello but these tools did not provide a proper way of communicating among the team members. In Wrike, when a person up the project line changes a task's due date to a later time which affects the entire down line, there's no way of informing the other affected employees. For Trello, it was more like a post-it note. Good for planning but not easy to hold people accountable for tasks not being completed.\", 'Pros and Cons': 'Able to create a template that can be copied. This is good for projects that has to be constantly repeated. For example, on-boarding a new employee.Able to assign due dates and tasks dependency. So for example, if Task B is dependent on Task A being completed and Task A was moved to a different date, employee assigned to do Task B will be informed of the change of due date of Task A.On a daily basis, everyone is able to see what needs to be done for the day and prioritize their time accordingly. And managers can easily check if tasks assigned to employees for the week is too little or too much and tweak assignments easily.EditThe ability to assign projects based on templates with a start date and the number of required days per task. In this case, Wrike is more capable. For example, if I know Task A needs 3 days to complete before Task B can start, I would like the ability to assign Task A to start on Monday and have Asana automatically assign Task B to start on Thursday when template is being copied. Unfortunately, this is not possible with Asana.', 'Likelihood to Recommend': 'Asana is well suited for companies with employees in different time zones. Everyone starts work at a different time but with the tasks assignment system, everyone knows when a task is required to be completed and when it can be started. I think Asana works among cross-functional teams too. For example, if the marketing department needs design work to be done before handing off to an outside agency for advertisement, people from different teams are involved. The project owner can scope out the entire project and start assigning tasks to stakeholders. And when the stakeholders get the assigned tasks, it is easy to communicate among the entire organization if they have comments or issues through the assigned task. Best of all, everyone is held accountable for the tasks assigned to them. If a due date is changed or if tasks are not completed, managers can hold the task owner accountable for the delay. I find that Asana also makes employees more accountable for their actions if they know that everyone involved in the project is aware of their actions or inaction.', 'Support Rating': 'Personally, I have not contacted Asana customer service. But seeing how Asana has improved over the last 2 years, I feel that Asana is listening to their users and implementing changes to help make it better. So in that regard, Asana is continuously supporting their users.'}}\n",
      "43 {'Name': 'Verified User', 'Position': 'Strategist in Sales', 'Company': 'Food & Beverages  Company ,  11-50 employees', 'Rating': '10', 'Date': 'March 18, 2020', 'Title': 'I love Asana!', 'Review': {'Use Cases and Deployment Scope': 'We use Asana across our Organization to keep organized and keep on task. We use it for setting tasks in our Warehouse to ensure deliveries are done in a timely manner and can be easily seen by all in our location and tracked if necessary. This makes things run a lot smoother for us overall. ', 'Pros and Cons': 'ShippingOrganizationTasksEditMore user friendlyMore OptionsArea for tracking information', 'Likelihood to Recommend': 'Asana is great for tracking orders and ensuring a timely shipment. All employees have access and can add/change tasks in Asana. It can be used for so many different roles in our organization so we can all have a hand in using it and staying organized. This is highly recommended. ', 'Support Rating': 'I have never had an issue with Asana that their team could not help us navigate through and find a resolution. I am highly pleased with their customer support and willingness to ensure all our needs are met and handled in a timely fashion. I would recommend them to anyone who needs tasks!'}}\n",
      "44 {'Name': 'Verified User', 'Position': 'Employee in Information Technology', 'Company': 'Information Services  Company ,  11-50 employees', 'Rating': '9', 'Date': 'January 02, 2020', 'Title': 'Asana is an excellent project management software', 'Review': {'Use Cases and Deployment Scope': \"We have been using Asana in our organization to effectively manage the tasks among the team members. Using Asana we have been able to keep track of all our colleagues' tasks in one place and also can easily see the progress. What I like best about this tool is that we can easily create, assign and communicate among the team members.\", 'Pros and Cons': 'Easy to create & assign tasks among team membersUser Friendly InterfaceTagging the teammate on tasksLeaving NotesEditInability to merge calendarsSometime projects get complex to handle', 'Likelihood to Recommend': 'Asana is well suited for some big projects where a lot of team members are involved and it helps us to keep track of all team members task progress and see a complete picture of whether we are heading in the right direction or not. So it is better for big projects for the whole team.', 'Support Rating': 'We hardly get a chance to interact with their team because we never faced any issue in their tool and the User Interface is so well made that it helped us to understand all features of this tool without any assistance. However, whenver we needed any consultations we always got satisfactory answers from them'}}\n",
      "45 {'Name': 'Verified User', 'Position': 'Professional in Research & Development', 'Company': 'Higher Education  Company ,  10,001+ employees', 'Rating': '8', 'Date': 'December 17, 2019', 'Title': 'Handy tool for assigning tasks among a group', 'Review': {'Use Cases and Deployment Scope': 'Asana is used in our organization to assign various tasks on particular projects to different team members within the working group. It is then easy for everybody involved to see who is currently responsible for completing a certain job in order to progress the project, as well as receive comments, etc.', 'Pros and Cons': \"Personal inbox of tasks assigned to you.Calendar of tasks according to due date.EditProjects can be marked as complete or re-assigned, but I don't see a way to update instead to say that a small job has been completed by one person and is handing back to the group leader, say.For example, if someone is tasked with proofreading a document then they can only comment and/or re-assign the task once this is done since the project as a whole shouldn't be marked as complete when there might be finishing touches etc. to add.\", 'Likelihood to Recommend': 'Asana is well suited to organize tasks within a project that involves multiple people. It is easy to assign certain jobs to those people that have been invited to the working group on the platform and then receive feedback, updates, and comments when those tasks have (or have not!) been completed. It would benefit from having sub-tasks that could be completed, which then automatically re-assigns the whole project back to the creator, like proofreading for example.', 'Support Rating': \"I don't have any experience in contacting the customer support for Asana.\"}}\n",
      "46 {'Name': 'Verified User', 'Position': 'Employee in Other', 'Company': 'Public Relations and Communications  Company ,  51-200 employees', 'Rating': '10', 'Date': 'December 11, 2019', 'Title': 'Asana is great for team visibility, and they even celebrate your accomplishments with a unicorn!', 'Review': {'Use Cases and Deployment Scope': 'We use Asana in my department specifically to keep track of our individual tasks and track what other people on the team are doing. It helps each person stay organized while estimating how many hours we will spend on each task. This ensures we are staying on track to serve our clients in the most profitable way.', 'Pros and Cons': 'Colorful tasks make it easy to get a snapshot of which clients have the most tasks on the board.So many helpful integrations.EditCan be a little confusing to switch between personal and team views.Send little \"daily update\" emails that aren\\'t particularly useful for me.', 'Likelihood to Recommend': \"Asana is helpful for anyone (individual or team) who needs a visual way to keep track of upcoming tasks. It's perfect for teams who need to be able to see what other large projects team members are working on. I would say it's not going to be particularly helpful if you need to have lots of visible details for a particular task. You can keep them in the notes section but you need to click on that task to see the whole thing. Other than that, it's pretty great!\", 'Support Rating': \"I've honestly never needed to use customer support for Asana so I'm not quite sure how helpful they are. The product is fairly user-friendly though and they do have a help section fo the website so that's cool.\"}}\n",
      "47 {'Name': 'Verified User', 'Position': 'Manager in Finance and Accounting', 'Company': 'Real Estate  Company ,  501-1000 employees', 'Rating': '9', 'Date': 'December 05, 2019', 'Title': 'The basic plan is great, but the paid plans may lack in value', 'Review': {'Use Cases and Deployment Scope': 'I have used Asana through previous employees and I continue to use it for personal side projects. Currently, I use it to manage a blog along with several team members. For simple, free collaboration, it doesn’t get much better than Asana. Asana helps us to stay organized and efficient while keeping the entire team in the loop.', 'Pros and Cons': 'Asana allows you to assign tasks to team members and update those tasks with necessary information or files.Asana works well on a desktop or on your mobile device.Asana will notify you with task updates and deadlines.EditCan’t necessarily be used for an approvals process. Anyone can mark a task complete.Can become messy if a lot of communication is required.', 'Likelihood to Recommend': 'Asana is great for families or small teams working to stay organized. It’s simple and easy to use from anywhere. However, if you’re managing a large team with a very formalized workflow process, I’d look elsewhere. Asana is not the best product to route tasks through a chain of command and receive approvals.', 'Support Rating': 'I’ve never required any Asana support. It lacks a few features that I prefer, but nothing that I would call an “issue” requiring technical support.'}}\n",
      "48 {'Name': 'Verified User', 'Position': 'Consultant in Professional Services', 'Company': 'Management Consulting  Company ,  11-50 employees', 'Rating': '10', 'Date': 'December 23, 2019', 'Title': 'Good for task management, not a robust PM tool', 'Review': {'Use Cases and Deployment Scope': \"We use Asana as a lightweight project management and collaboration tool to track opportunities, project status, and RFP's. Team members are assigned opportunities to conduct due diligence and determine whether we will pursue the opportunity. Asana helps us stay organize and track projects by various categories.\", 'Pros and Cons': \"Workflow, assign tasks to team members.View and track comments according to task/project/etc.EditAsana is more of a lightweight task management/project management tool. If you're looking for robust PM capabilities, I would recommend Smartsheet or MS Project instead.\", 'Likelihood to Recommend': 'Good for task management, assigning tasks to team members, and tracking status. Asana is not a robust PM software.'}}\n",
      "49 {'Name': 'Verified User', 'Position': 'Employee in Professional Services', 'Company': 'Entertainment  Company ,  1-10 employees', 'Rating': '7', 'Date': 'December 11, 2019', 'Title': 'Asana Review', 'Review': {'Use Cases and Deployment Scope': 'Our whole office uses Asana to manage our annual conference that we put on. All of our departments from our very small team use this amazing software. The only problems right now are that it doesnt sync with our team Google calendar, and it is very easy to accidentally uncheck certain tasks, thinking that you are just pressing \"okay\".', 'Pros and Cons': \"Easy to use.Quick and efficient.EditDoesn't sync with calendar, which is a huge minus.It is easy to accidentally check off an item that isn't actually complete.\", 'Likelihood to Recommend': \"I like that we have software to use like Asana. In the past, this organization has not used one. However, there are some big flaws with it. I can't sync with calendars which makes no sense considering its attached to deadlines. I also think it's very easy for people to accidentally check an item as complete.\", 'Support Rating': 'We have not had to use support as of yet. '}}\n",
      "50 {'Name': 'Adam Lumley', 'Position': 'Director of Marketing  & Communications', 'Company': 'Marketing and Advertising ,  51-200 employees', 'Rating': '10', 'Date': 'September 25, 2019', 'Title': 'Asana for Project and Team Management', 'Review': {'Use Cases and Deployment Scope': 'Asana is used in multiple departments. My departments manage all of our work through Asana and collaborate on projects with other departments with it as well. It allows us to manage deadlines and responsibilities to get the job done on time. We also keep track of new ideas so that we always have a record of them to go back on. Without tracking, projects are at risk of being forgotten as other priorities arise. Asana keeps them alive.', 'Pros and Cons': 'Project management. Asana makes it easy for anyone to organize their projects and break them down into sub-tasks.Accountability. Being able to break down projects into tasks and assign due dates, who is responsible, etc is very helpful. Asana sends reminders for the project owner to help keep everyone on task and makes it easy to follow up.Communication. We have our Slack and Outlook integrated so we are able to keep tabs on our project no matter what and read it all in one place (Slack).EditThe inbox feature can be a little overwhelming if you are work with Asana just from its project boards and only checking it periodically. It would be great if it auto-cleared once a project/task is marked complete.Email notifications can get excessive. You have complete control over them but initially, they can be annoying until you set the frequency you want them. It would be better if this was set during the sign-up process.Notes, discussions, and attachments in subtasks sometimes go unnoticed if working from the main project board.', 'Likelihood to Recommend': 'If you are working with a cross-functional team with multiple projects on the go regularly, Asana is a lifesaver. Everything can be shared in one place. Delegation is a breeze. Communication happens in real-time.If you and your employees all have unchanging duties daily, this probably isn\\'t something you need in your organization. You could adapt it and use it as a \"checklist software\" but I wouldn\\'t see much value in paying for it if you won\\'t use it to manage projects.', 'Support Rating': \"I haven't had to use their support so I can't rate it. The fact that I haven't needed them reflects the ease of use of the product. I would recommend that any new users schedule a complete demo of the product to ensure that they are using it to it's fullest (there's a lot of useful features).\"}}\n",
      "51 {'Name': 'Debbie Gillum', 'Position': 'Digital Marketing Specialist', 'Company': 'Civic & Social Organization ,  501-1000 employees', 'Rating': '9', 'Date': 'August 09, 2019', 'Title': 'A great tool for tracking to-dos and projects', 'Review': {'Use Cases and Deployment Scope': 'I use Asana for my personal To-do list. Previously, the entire marketing team used Asana for project management and to keep tasks on track. It is not being used by the whole organization to my knowledge. It addresses the business problem of keeping everyone accountable and on the same page. ', 'Pros and Cons': \"To-do list trackingProject managementWork flowsSchedulingEditI wish it implemented easier with Outlook or Gmail. I would like for it to be easier to send tasks from email to Asana.I think there's room for improvement in terms of how easy it is to make new Section Headers for tasks and lists.I'd like for more aspects of the interface to be customizable.\", 'Likelihood to Recommend': \"Asana keeps you on track and helps you prioritize projects and to-dos. I like that you can see what you've previously worked on and accomplished. It's less appropriate for teams who are very active inside their email, like Outlook, and prefer to use the Tasks function already in their email software. Asana is rewarding to teams and helps projects be completed on time. \", 'Support Rating': \"I've never had to use the support for Asana but I imagine it would be great and they would be able to resolve any questions or issues.\"}}\n",
      "52 {'Name': 'Richard Peterson', 'Position': 'Global Webmaster', 'Company': 'Consumer Goods ,  501-1000 employees', 'Rating': '9', 'Date': 'October 30, 2019', 'Title': 'Asana is our global solution', 'Review': {'Use Cases and Deployment Scope': 'Asana is used by our digital marketing team with locations in Hartford, WI and Drummondville, Quebec, Canada, and our Chinese operation. It is great to keep track of all the fellow team members and their tasks, across different time zones. It has allowed us to reduce the sharing of spreadsheets to keep people up to date. If I want to know where a team player is on a project I check the Asana dashboard and I can get a quick update without having to write yet another email.', 'Pros and Cons': 'We like the detail that can be put into the updates and we have learned to say more with fewer words.By updating your tasks in Asana you are letting people know where you are on the items, without them having to reach out to me.We like the fact that you can all alert by task by an individual to keep key stakeholders informed. And it is easy to add or delete these alert recipients.EditThe only complaint we have is making more features available in the bases product. Some of the more popular features are upgrades costing a larger investment.Quarterly credit card billing would be appreciated.More training modules (video or PPT) would help the on-boarding of new members greatly. We sometimes have to do a quick WebEx to get new members up to speed.', 'Likelihood to Recommend': 'The ideal application for this product is when you have team members that need to work closely together but are separated by thousands of miles and in some cases by languages. We like the English option and feel this tool has increased our ability to communicate faster and more accurately as a team, which makes us look good to our bosses.', 'Support Rating': 'Asana has a good library of resources but could use more videos, short videos.'}}\n",
      "53 {'Name': 'JATIN GUPTA', 'Position': 'Assistant Professor', 'Company': 'Education Management ,  501-1000 employees', 'Rating': '9', 'Date': 'September 26, 2019', 'Title': 'Asana # Development is easy now...', 'Review': {'Use Cases and Deployment Scope': 'It is used by our organization in both modes application and web. It provides us the complete solution of product development and the way its dashboard is designed it makes our work easy. The communication among teams is clear, everyone knows the development stages and plans and works accordingly as per requirement. ', 'Pros and Cons': 'Project development stages and content sharingInternal Communication is strong point of asana.remote and easy access, as its application version is also available.EditThe new request of projects must be as per order.The communication mode on online active calling must be addedcost need to be re considered.', 'Likelihood to Recommend': 'Asana is best suited in the environment of development where the need is rapid development and results. The communication and team designing are quick with their dashboard. Asana proves to be most powerful in terms of software development at same time it does not suit for small scale projects where we need to follow traditional waterfall models.', 'Support Rating': 'The major reason to rate 9 ton asana are:1. Customer support is very good and fast.2. The e - mail reply to the user is within 24 hours and to efficiently handle query each issue allocated with a unique id number. 3. The cost is under budget not so high, but provide a lot of advantages. '}}\n",
      "54 {'Name': 'Berlynn Pierce', 'Position': 'CRM Project Manager', 'Company': 'Consumer Goods ,  1001-5000 employees', 'Rating': '4', 'Date': 'September 26, 2019', 'Title': 'Asana:  yes to communication, no to visual assets', 'Review': {'Use Cases and Deployment Scope': 'Asana is being used across the organization, however, it is being under-utilized to assist in cross-channel coordination. Each team manages their own tasks and timelines differently and we have yet to unify or understand how to personalize the Asana experience and flow based on the team. For example, the Creative Team and approving assets need to adapt their flow from the Email Marketing Team processes.', 'Pros and Cons': 'Simple to create teams depending on which group you need to be part of. I am currently only able to view one team which happens to house 10 Projects.I can easily communicate with multiple people on one project and can avoid email chains.A board can be easily made that is visual in nature and can help the user see where a request is in the process.EditComments can get crazy: a single comment is emailed out to the entire group (that can be 10+ people). And it can be very difficult to go back in a conversation and view what the comment was referencing.You can only comment on a project and not add another image or document.The Description and team are always able to view but not always previous work done. For example, in a creative team, I can see the delivery but not the previous copy or design work just that it is complete.', 'Likelihood to Recommend': 'Asana would seem to work well for anything other than assets or for a creative team. We may go back to Basecamp for communication and delivery of assets. We have many teams using this but not much collaboration which can create duplicate work, additional emails, and overall a longer turnaround time.', 'Support Rating': 'I have not needed to use Asana support other than training videos which are extensive but not for what I needed (looking for a way to set up Asana for my unique audiences that would be custom compared to how other teams are managing projects).'}}\n",
      "55 {'Name': 'Anish Walinjkar', 'Position': 'Project Manager / Principal Solution Architect', 'Company': 'Information Technology and Services ,  1001-5000 employees', 'Rating': '8', 'Date': 'September 25, 2019', 'Title': 'Asana - Best of the breed for project task management', 'Review': {'Use Cases and Deployment Scope': \"Asana is used in our Product Engineering Services (PES) part of our business. In this, we develop software products for our customers or sometimes for internal needs. Most of the teams in PES use Asana for task assigning, monitoring, and tracking purposes. It's one of the best tools to manage and collaborate on project tasks in parallel to any other project management tool like Primavera, SAP-Projects Systems, or Microsoft Project.\", 'Pros and Cons': \"It is easy to use and record a project's tasks.The manager or any responsible team member can assign/reassign a task to other team members. It also sends email to all the participants and team members who are responsible for delivery of the taskThe free version of Asana also comes with lots of features - like task assignment, monitoring, and tracking, email alerts, status tracking based on due dates etc.EditIt is good for managing tasks but has limitations if you need to track bugs/issues. For a bug tracking system one would also need some other information fields like Bug ID, Customer, Severity / Priority etc.Adding custom fields - Not sure whether Asana allows it.It allows you to attach documents. But it should allow you to put a screenshot in line with the text so that the person reading the description of the task/issue doesn't have to refer to an attachment for small screenshots.\", 'Likelihood to Recommend': 'If you are a manager or a team lead, Asana is one of the finest applications for managing, tracking task that keeps you in control of your deliverables.  It also keeps track and records historical data and tasks.  You can also refer to old similar issue if you have across in the past. It also allows you to merge, duplicate or delete a particular task.  For quick review, Asana  also has a mobile app that can be downloaded.', 'Support Rating': \"I don't remember if we've had to get into a customer support call.  Most of the functionalities are easy to use or explained on their website.\"}}\n",
      "56 {'Name': 'Ryan Durry', 'Position': 'Web & Creative Services Manager', 'Company': 'Non-Profit Organization Management ,  11-50 employees', 'Rating': '10', 'Date': 'September 21, 2019', 'Title': 'Easy to use but flexible enough to solve most of your daily problems', 'Review': {'Use Cases and Deployment Scope': 'We started using Asana in just my department (creative services), but it organically caught on when other teams saw us using it, and eventually the organization decided to upgrade to the paid account for all staff. It has become an essential daily tool for all teams for a huge variety of tasks.', 'Pros and Cons': 'Ease of use and access.Shared locations for tasks and notes.Easy retrieval of historical data and notes.EditDoes not work well as a communication tool -- email and chat functions still used to supplement daily workflow.Daily calendars are not an option -- meeting invites and availability still fall to other tools.Workload and portfolio management tools have moved to more expensive tiers and are out of reach for our team.', 'Likelihood to Recommend': \"Asana is exceptionally well suited to replace your daily notebook or pile of post-its. Ease of use and access mean it is always there for you and won't slow you down. Meeting agendas and shared notetaking have really improved our office. The only areas it falls short are in calendar management and communication. I would be thrilled if I could move further away from Outlook in my daily work, but Asana just doesn't quite do it.\", 'Support Rating': 'We have not encountered a lot of issues, and Asana training opportunities have covered most of our needs, so our need for support has been minimal. When I have worked with them though, the experience has been pleasant and helpful. My biggest gripe is in rising costs and features (like Portfolios) being pulled out of lower-level tiers and put behind the higher-cost access.'}}\n",
      "57 {'Name': 'Alicia Barevich, bCRE, bCEE', 'Position': 'Database Administrator', 'Company': 'Primary/Secondary Education ,  201-500 employees', 'Rating': '8', 'Date': 'September 21, 2019', 'Title': 'Pretty Project Management!', 'Review': {'Use Cases and Deployment Scope': 'Asana is a great project management tool for complex projects with lots of tasks and lots of participants. It is quite customizable, though many of the visual tweaks need to be made each time—there isn\\'t excellent/smooth \"template\" capability, which hinders its \"out of the box\" usability. However, when project plans are made thoughtfully, they can be exceptionally beautiful and well organized.', 'Pros and Cons': 'Ability to hold editable information in multiple locations across a project plan. Steps, comments, sub-steps, etc.Ability to check off tasks with an audit log.Email remindersDifferent customizable views.EditI wish there were better \"template\" options. In order to streamline many projects with a similar look and feel, a lot of effort needs to go into creating a style guide for how they should be set up. This isn\\'t critical but can maximize the use of Asana. However, with the granular effort it takes, and leaving room for human error when managing it, your projects can turn disorganized fairly quickly.There are numerous menus and views but they can get cluttered together. Similar to templates, I wish you could better customize all of the elements of views and what you see in menus.', 'Likelihood to Recommend': \"Project management, especially with multiple users! You can clearly specify who is responsible for each task, and they can complete it. Participants can have a dialog with comments and pass tasks between each other. It's an easy way to manage projects and analyze accountability.\", 'Support Rating': \"I've never contacted Asana support.\"}}\n",
      "58 {'Name': 'EDUARDO SANDOVAL', 'Position': 'Account Executive', 'Company': 'Telecommunications ,  5001-10,000 employees', 'Rating': '8', 'Date': 'August 27, 2019', 'Title': 'A very easy to use project manager', 'Review': {'Use Cases and Deployment Scope': 'Asana is a very good option for the management of projects and the monitoring of assigned tasks, in my work I have several people in my team, so it is necessary to constantly monitor the tasks and projects in execution to ensure that they are carried out in the best way possible. It is there that Asana makes my work much easier since the application allows me to do the respective follow-up to the work without having to move from place to place. ', 'Pros and Cons': 'Asana is very easy to use.It integrates very well with other applications allowing data sharing.It is an economic solution.It is an application that is well oriented.EditTechnical support is sometimes slow.Does not allow for customization of funds.It does not have a very reliable security system.', 'Likelihood to Recommend': 'Asana allows us to collect the weekly advances and present them easily in a single report detailing the projection, progress, and delays. ', 'Support Rating': 'It is a point to improve, on one occasion I entered a support request and it took more than three days to respond, and when they gave it was no longer needed.'}}\n",
      "59 {'Name': 'María Lucía Santagata', 'Position': 'Coordinadora Ssr', 'Company': 'Internet ,  51-200 employees', 'Rating': '8', 'Date': 'August 21, 2019', 'Title': 'Asana: friendly interface to keep your projects healthy and happy', 'Review': {'Use Cases and Deployment Scope': \"Actually Asana is being used across the whole organization, but my area was the one that introduced the tool to the company. We needed to find a tool that allows us to track our tasks and to organize the team's tasks, share the projects with other areas, schedule the projects, set due dates, share files and information, etc. Asana address all those issues.\", 'Pros and Cons': \"It's very intuitive to use and its interface is modern and nice. Other project management tools don't have as nice an interface as Asana has.It allows you to manage a LOT of projects and to customize them separately depending on the characteristics of each one.It works smoothly in different navigators and also the desktop version works very well.It allows integrations with great tools, such as Everhour.EditThe free version is very plain, I understand that nothing's for free but I think that, if it had some more functionalities available in the free version more people would buy the complete one.I would like to use Asana in my phone without having to download the app.Sometimes the notifications get spammy, I know you can deactivate some and activate others but, as default, they end up being spam and most of the times I lose the only ones I care about (when a task is done and when comments are made on a task).\", 'Likelihood to Recommend': \"In my experience, Asana solved a lot of problems where I work, a growing department at a growing company. When we had fewer clients (or small clients) it was easy to work without a friendly project management tool, but when clients got bigger and we started to [have] A LOT our work became messy and stressful. I think it's a well suited tool when your area or your company gets bigger.\", 'Support Rating': \"Honestly I had to ask them for support only one time, so I can't rate them properly. That one time they gave me adequate support and the response came in an adequate time too. Being a tool as easy to use as it is -  it's not very frequent that we need support from them.\"}}\n",
      "60 {'Name': 'Jessica Sforza', 'Position': 'Senior Project Manager', 'Company': 'Design ,  11-50 employees', 'Rating': '6', 'Date': 'August 14, 2019', 'Title': 'Great tool for timeline and big picture project management', 'Review': {'Use Cases and Deployment Scope': 'We used Asana in collaboration with another agency on an event campaign for a Fortune 500 client. It enabled us to timeline out the project, share with the wider team and list to-dos. It worked well as the project was a rush so we were able to highlight key areas that needed addressing quickly by the client.', 'Pros and Cons': \"Waterfall view of the timeline.I like the drag/drop feature, and simplicity of using the tool.EditLimited functionality.You're able to see the big picture of what we need to accomplish, but not a great collaborating tool if the team is remote.I found it tricky to sign-up and get set up in the tool.\", 'Likelihood to Recommend': \"Asana is great for high-level timelines and sharing with clients. It gives a great snapshot of everything we need to achieve or have already completed. I wouldn't describe the tool as full-service as I couldn't really collaborate in it or work on risks/opportunities. However, it is great for sharing directly with clients. For this reason, I would recommend it. \", 'Support Rating': \"I haven't had to use the support for Asana yet! \"}}\n",
      "61 {'Name': 'Eric Serdar', 'Position': 'SEO Manager', 'Company': 'Marketing and Advertising ,  201-500 employees', 'Rating': '10', 'Date': 'August 14, 2019', 'Title': 'I love Asana!', 'Review': {'Use Cases and Deployment Scope': \"Asana is our project management tool that we're using to keep track of our projects, tasks, and most of our strategic initiatives. It's used extensively by most of the company. Our Dev team still uses JIRA for running its sprints, however, marketing, operations, and business development all use Asana and it has helped us coordinate better and reduce lag time between departments.\", 'Pros and Cons': \"Task management - It helps us keep track of all of the tasks that we're working on, prioritizing them, and making sure that they get completed.Team collaboration - It makes it easy to work with other teams/departments and collaborate together.EditI would love the ability to comment on files in the app. If someone uploads a pdf or a doc that needs review, then I have to download it, comment on it, and then reupload it. I would love it if it had a way to make comments on the document itself.I wish that I could see all of the tasks that I'm a follower of. If you're not the one that the task is assigned to, then it doesn't show up in your feed. Having some sort of report of tasks that you're a follower on would be really helpful.\", 'Likelihood to Recommend': \"We do a lot of cross-team/department work so it's been really nice to tag someone in the task and ask for their review/approval. They can easily pop into the task, review, approve, and leave comments for us to review. It's sped up our process and eliminated drag in our organization. It is also really nice to have a paper trail of what was communicated and to refer back to in cases where we're not sure what we agreed upon on previously.\", 'Support Rating': \"I haven't had to have any interactions with their customer support. So, I guess that means they get a 10 because I never have to talk to them! When the recent system outage happened, they were very active on twitter trying to communicate with people and give an update on what was going on.\"}}\n",
      "62 \n"
     ]
    }
   ],
   "source": [
    "!python Spider_4.py"
   ]
  },
  {
   "cell_type": "markdown",
   "metadata": {},
   "source": [
    "## 2. Load Scrapped Data"
   ]
  },
  {
   "cell_type": "code",
   "execution_count": 4,
   "metadata": {},
   "outputs": [],
   "source": [
    "# import monday data\n",
    "g2_Asana= pd.read_excel ('./html_data/Asana/Asana_g2.xls',index_col=0)\n",
    "tr_Asana=pd.read_excel('./html_data/Asana/Asana_tr.xls',index_col=0)\n"
   ]
  },
  {
   "cell_type": "markdown",
   "metadata": {},
   "source": [
    "## 3. Initial Cleaning of Dataset"
   ]
  },
  {
   "cell_type": "markdown",
   "metadata": {},
   "source": [
    "Initial Cleaning of dataset is required before the data is stored in a PostgreSQL database. This is to ensure the data matches the desired data type specified in the Schema Customer Review"
   ]
  },
  {
   "attachments": {
    "Picture1.png": {
     "image/png": "[encoded data removed]"
    }
   },
   "cell_type": "markdown",
   "metadata": {},
   "source": [
    "![Picture1.png](attachment:Picture1.png)"
   ]
  },
  {
   "cell_type": "code",
   "execution_count": 5,
   "metadata": {},
   "outputs": [],
   "source": [
    "# Extract size from Column Company\n",
    "\n",
    "g2_Asana['size'] = g2_Asana.Company.str.extract('(\\d+)')\n",
    "\n",
    "\n",
    "# Replace data with no value as missing t\n",
    "g2_Asana.loc[g2_Asana['size'].isnull(), 'size'] = -1\n",
    "g2_Asana['size']=g2_Asana['size'].astype('int')\n",
    "\n",
    "# Categorise the size according the definition provided by G2.com \n",
    "g2_Asana['Size'] = g2_Asana['size'].apply(lambda x: \n",
    "                              'Med-Market' if x in range(51,1000) else \n",
    "                              'Small-Business' if x in range(0,51) else \n",
    "                              'Missing' if x==-1 else\n",
    "                              'Enterprise' )\n",
    "# Drop repeated columns \n",
    "\n",
    "g2_Asana[['Pros', 'Cons','Recommendation','Problem']] = g2_Asana['Review'].str.split('Review collected by and hosted on G2.com', 3, expand=True)\n",
    "g2_Asana.drop(columns = ['size','Company','Rating','Title','Review','Recommendation','Problem','Name'],inplace = True)\n",
    "\n",
    "# Rename columns to matches names in Schema\n",
    "g2_Asana.rename(columns ={'Position':'Industry',\n",
    "                    'Company':'Size'},inplace = True)\n",
    "\n",
    "# Create column ID and Company \n",
    "g2_Asana.reset_index(drop = True, inplace =True)\n",
    "g2_Asana['Company'] = 'Asana'\n",
    "g2_Asana['ID'] = 'G2_'+ g2_Asana['Company']+ '_' +g2_Asana.index.astype(str)\n",
    "\n",
    "# Extract year from column Date for column Year \n",
    "g2_Asana['Date']=pd.to_datetime(g2_Asana['Date'])\n",
    "g2_Asana['Year'] = g2_Asana['Date'].dt.year.astype(str)"
   ]
  },
  {
   "cell_type": "code",
   "execution_count": 6,
   "metadata": {
    "scrolled": true
   },
   "outputs": [
    {
     "name": "stdout",
     "output_type": "stream",
     "text": [
      "<class 'pandas.core.frame.DataFrame'>\n",
      "RangeIndex: 2497 entries, 0 to 2496\n",
      "Data columns (total 8 columns):\n",
      " #   Column    Non-Null Count  Dtype         \n",
      "---  ------    --------------  -----         \n",
      " 0   Industry  1495 non-null   object        \n",
      " 1   Date      2497 non-null   datetime64[ns]\n",
      " 2   Size      2497 non-null   object        \n",
      " 3   Pros      2490 non-null   object        \n",
      " 4   Cons      2490 non-null   object        \n",
      " 5   Company   2497 non-null   object        \n",
      " 6   ID        2497 non-null   object        \n",
      " 7   Year      2497 non-null   object        \n",
      "dtypes: datetime64[ns](1), object(7)\n",
      "memory usage: 156.2+ KB\n"
     ]
    }
   ],
   "source": [
    "g2_Asana.info()"
   ]
  },
  {
   "cell_type": "markdown",
   "metadata": {},
   "source": [
    "A total of 2497 reviews are collected from g2 for monday.com, https://www.g2.com/products/asana/reviews[]."
   ]
  },
  {
   "cell_type": "code",
   "execution_count": 7,
   "metadata": {},
   "outputs": [],
   "source": [
    "# Extract the size of the column from the industry column \n",
    "# Small-Business: 50 or fewer emp\n",
    "# Mid-market: 51-1000 emp\n",
    "# Enterprise: >1000 emp \n",
    "tr_Asana.fillna('Missing',inplace = True )\n",
    "tr_Asana['size1'] = tr_Asana.Company.str.extract('(-\\d+)')\n",
    "tr_Asana['size2'] = tr_Asana.size1.str.extract('(\\d+)')\n",
    "tr_Asana['size2'] = tr_Asana['size2'].fillna(0)\n",
    "tr_Asana['size0'] = tr_Asana.Company.str.extract('(\\d+,\\d+)')\n",
    "tr_Asana['size'] = np.where(tr_Asana.size2 == 0,tr_Asana.size0,tr_Asana.size2)\n",
    "tr_Asana.loc[tr_Asana['size'].isnull(), 'size'] = -1\n",
    "tr_Asana.drop(['size1','size2','size0'], axis=1, inplace=True)\n",
    "tr_Asana['size'] = np.where(tr_Asana['size'] == '10,001',10001,tr_Asana['size'])\n",
    "tr_Asana['size']=tr_Asana['size'].astype('int')\n",
    "\n",
    "# Categorise the size according the definition provided by G2.com \n",
    "tr_Asana['Size'] = tr_Asana['size'].apply(lambda x: \n",
    "                              'Med-Market' if x in range(51,1000) else \n",
    "                              'Small-Business' if x in range(0,51) else \n",
    "                              'Missing' if x==-1 else\n",
    "                              'Enterprise' )\n",
    "\n",
    "tr_Asana.drop(['size'],axis = 1, inplace = True)\\\n",
    "\n",
    "\n",
    "# Remove the nunber of employees information from the industry column \n",
    "tr_Asana[['Industry', 'Number of employees']] = tr_Asana['Company'].str.split(',', 1, expand=True)\n",
    "\n",
    "\n",
    "# Drop repeated columns \n",
    "tr_Asana.drop(columns = ['Company','Name','Position','Rating','Title','Number of employees','Review_Use Cases and Deployment Scope',],inplace = True)\n",
    "\n",
    "# Create column ID and Company \n",
    "tr_Asana.reset_index(drop = True, inplace =True)\n",
    "tr_Asana['Company'] = 'Asana'\n",
    "tr_Asana['ID'] = 'TR_'+ tr_Asana['Company']+ '_' +tr_Asana.index.astype(str)\n",
    "\n",
    "# Extract year from column Date for column Year \n",
    "tr_Asana['Date']=pd.to_datetime(tr_Asana['Date'])\n",
    "tr_Asana['Year'] = tr_Asana['Date'].dt.year.astype(str)\n"
   ]
  },
  {
   "cell_type": "code",
   "execution_count": 8,
   "metadata": {
    "scrolled": false
   },
   "outputs": [
    {
     "name": "stdout",
     "output_type": "stream",
     "text": [
      "<class 'pandas.core.frame.DataFrame'>\n",
      "RangeIndex: 163 entries, 0 to 162\n",
      "Data columns (total 8 columns):\n",
      " #   Column    Non-Null Count  Dtype         \n",
      "---  ------    --------------  -----         \n",
      " 0   Date      163 non-null    datetime64[ns]\n",
      " 1   Pros      163 non-null    object        \n",
      " 2   Cons      163 non-null    object        \n",
      " 3   Size      163 non-null    object        \n",
      " 4   Industry  163 non-null    object        \n",
      " 5   Company   163 non-null    object        \n",
      " 6   ID        163 non-null    object        \n",
      " 7   Year      163 non-null    object        \n",
      "dtypes: datetime64[ns](1), object(7)\n",
      "memory usage: 10.3+ KB\n"
     ]
    }
   ],
   "source": [
    "tr_Asana.info()"
   ]
  },
  {
   "cell_type": "code",
   "execution_count": 9,
   "metadata": {
    "scrolled": true
   },
   "outputs": [
    {
     "data": {
      "text/html": [
       "<div>\n",
       "<style scoped>\n",
       "    .dataframe tbody tr th:only-of-type {\n",
       "        vertical-align: middle;\n",
       "    }\n",
       "\n",
       "    .dataframe tbody tr th {\n",
       "        vertical-align: top;\n",
       "    }\n",
       "\n",
       "    .dataframe thead th {\n",
       "        text-align: right;\n",
       "    }\n",
       "</style>\n",
       "<table border=\"1\" class=\"dataframe\">\n",
       "  <thead>\n",
       "    <tr style=\"text-align: right;\">\n",
       "      <th></th>\n",
       "      <th>Industry</th>\n",
       "      <th>Date</th>\n",
       "      <th>Size</th>\n",
       "      <th>Pros</th>\n",
       "      <th>Cons</th>\n",
       "      <th>Company</th>\n",
       "      <th>ID</th>\n",
       "      <th>Year</th>\n",
       "    </tr>\n",
       "  </thead>\n",
       "  <tbody>\n",
       "    <tr>\n",
       "      <th>0</th>\n",
       "      <td>Marketing Analyst</td>\n",
       "      <td>2021-04-29</td>\n",
       "      <td>Med-Market</td>\n",
       "      <td>What do you like best? It has groups and categ...</td>\n",
       "      <td>. What do you dislike? There is nothing that c...</td>\n",
       "      <td>Asana</td>\n",
       "      <td>G2_Asana_0</td>\n",
       "      <td>2021</td>\n",
       "    </tr>\n",
       "    <tr>\n",
       "      <th>1</th>\n",
       "      <td>Technical Specialist</td>\n",
       "      <td>2021-05-18</td>\n",
       "      <td>Small-Business</td>\n",
       "      <td>What do you like best? It really helps to impr...</td>\n",
       "      <td>. What do you dislike? I think Asana should au...</td>\n",
       "      <td>Asana</td>\n",
       "      <td>G2_Asana_1</td>\n",
       "      <td>2021</td>\n",
       "    </tr>\n",
       "    <tr>\n",
       "      <th>2</th>\n",
       "      <td>Marketing Officer</td>\n",
       "      <td>2021-05-14</td>\n",
       "      <td>Med-Market</td>\n",
       "      <td>What do you like best? The excellent part of A...</td>\n",
       "      <td>. What do you dislike? To date, I have complet...</td>\n",
       "      <td>Asana</td>\n",
       "      <td>G2_Asana_2</td>\n",
       "      <td>2021</td>\n",
       "    </tr>\n",
       "    <tr>\n",
       "      <th>3</th>\n",
       "      <td>Sr. Marketing Manager</td>\n",
       "      <td>2021-04-26</td>\n",
       "      <td>Enterprise</td>\n",
       "      <td>What do you like best? Easy to coordinate acro...</td>\n",
       "      <td>. What do you dislike? The software is not sup...</td>\n",
       "      <td>Asana</td>\n",
       "      <td>G2_Asana_3</td>\n",
       "      <td>2021</td>\n",
       "    </tr>\n",
       "    <tr>\n",
       "      <th>4</th>\n",
       "      <td>Digital Analytics</td>\n",
       "      <td>2021-05-10</td>\n",
       "      <td>Enterprise</td>\n",
       "      <td>What do you like best? Asana is an excellent p...</td>\n",
       "      <td>. What do you dislike? There is nothing that I...</td>\n",
       "      <td>Asana</td>\n",
       "      <td>G2_Asana_4</td>\n",
       "      <td>2021</td>\n",
       "    </tr>\n",
       "  </tbody>\n",
       "</table>\n",
       "</div>"
      ],
      "text/plain": [
       "                Industry       Date            Size  \\\n",
       "0      Marketing Analyst 2021-04-29      Med-Market   \n",
       "1   Technical Specialist 2021-05-18  Small-Business   \n",
       "2      Marketing Officer 2021-05-14      Med-Market   \n",
       "3  Sr. Marketing Manager 2021-04-26      Enterprise   \n",
       "4      Digital Analytics 2021-05-10      Enterprise   \n",
       "\n",
       "                                                Pros  \\\n",
       "0  What do you like best? It has groups and categ...   \n",
       "1  What do you like best? It really helps to impr...   \n",
       "2  What do you like best? The excellent part of A...   \n",
       "3  What do you like best? Easy to coordinate acro...   \n",
       "4  What do you like best? Asana is an excellent p...   \n",
       "\n",
       "                                                Cons Company          ID  Year  \n",
       "0  . What do you dislike? There is nothing that c...   Asana  G2_Asana_0  2021  \n",
       "1  . What do you dislike? I think Asana should au...   Asana  G2_Asana_1  2021  \n",
       "2  . What do you dislike? To date, I have complet...   Asana  G2_Asana_2  2021  \n",
       "3  . What do you dislike? The software is not sup...   Asana  G2_Asana_3  2021  \n",
       "4  . What do you dislike? There is nothing that I...   Asana  G2_Asana_4  2021  "
      ]
     },
     "execution_count": 9,
     "metadata": {},
     "output_type": "execute_result"
    }
   ],
   "source": [
    "g2_Asana.head()"
   ]
  },
  {
   "cell_type": "markdown",
   "metadata": {},
   "source": [
    "A total of 163 reviews are collected from Trustradius.com for Asana, https://www.trustradius.com/products/asana/reviews"
   ]
  },
  {
   "cell_type": "markdown",
   "metadata": {},
   "source": [
    "## 4. Upload Data into PostgreSQL Database"
   ]
  },
  {
   "cell_type": "code",
   "execution_count": 17,
   "metadata": {},
   "outputs": [],
   "source": [
    "# Enter credential for database \n",
    "engine = psycopg2.connect(\n",
    "    host=\"database-1.cg80f0qtitmf.eu-west-1.rds.amazonaws.com\",\n",
    "    user=\"postgres\",\n",
    "    password=\"chenziyi\",\n",
    "    port=5432\n",
    ")"
   ]
  },
  {
   "cell_type": "code",
   "execution_count": 58,
   "metadata": {},
   "outputs": [
    {
     "name": "stdout",
     "output_type": "stream",
     "text": [
      "Table created successfully\n"
     ]
    }
   ],
   "source": [
    "cur = engine.cursor()\n",
    "cur.execute(\"\"\" \n",
    "     \n",
    "     \n",
    "     CREATE SCHEMA IF NOT EXISTS schema_Customer_Review;\n",
    "     \n",
    "     CREATE TABLE IF NOT EXISTS schema_Customer_Review.G2 (\n",
    "      ID varchar PRIMARY KEY,\n",
    "      Company varchar,\n",
    "      Date date,\n",
    "      Year varchar,\n",
    "      Industry varchar,\n",
    "      Size varchar,\n",
    "      Pros varchar,\n",
    "      Cons varchar);\n",
    "      \n",
    "     CREATE TABLE IF NOT EXISTS schema_Customer_Review.Trustradius (\n",
    "      ID varchar PRIMARY KEY,\n",
    "      Company varchar,\n",
    "      Date date,\n",
    "      Year varchar,\n",
    "      Industry varchar,\n",
    "      Size varchar,\n",
    "      Pros varchar,\n",
    "      Cons varchar);\n",
    "      \n",
    "      \"\"\")\n",
    "\n",
    "print(\"Table created successfully\")\n",
    "\n",
    "engine.commit()\n",
    "engine.close()"
   ]
  },
  {
   "cell_type": "code",
   "execution_count": 12,
   "metadata": {
    "scrolled": true
   },
   "outputs": [
    {
     "name": "stdout",
     "output_type": "stream",
     "text": [
      "Insert successfully\n"
     ]
    }
   ],
   "source": [
    "# Insert scrapped data into the database \n",
    "# Asana for Table g2\n",
    "\n",
    "\n",
    "cur = engine.cursor()\n",
    "s =\"\"\"INSERT INTO schema_Customer_review.g2(Industry, Date,Size, Pros, Cons, Company, ID, Year) VALUES (%s,%s,%s,%s,%s,%s,%s,%s)\"\"\"\n",
    "\n",
    "\n",
    "\n",
    "for index in range(len(g2_Asana)):\n",
    "    obj = []\n",
    "    l=[]\n",
    "    for col in g2_Asana.columns:\n",
    "        l.append(g2_Asana[col][index])\n",
    "    obj.append(l)\n",
    "    cur.executemany(s, obj)\n",
    "    engine.commit()\n",
    "    \n",
    "print(\"Insert successfully\")\n",
    "\n",
    "engine.close()"
   ]
  },
  {
   "cell_type": "code",
   "execution_count": 16,
   "metadata": {
    "scrolled": true
   },
   "outputs": [
    {
     "name": "stdout",
     "output_type": "stream",
     "text": [
      "Insert successfully\n"
     ]
    }
   ],
   "source": [
    "# Insert scrapped data into the database \n",
    "# Asana for Table Trustradius\n",
    "\n",
    "\n",
    "cur = engine.cursor()\n",
    "s =\"\"\"INSERT INTO schema_Customer_review.Trustradius(Date, Pros, Cons, Size, Industry, Company, ID, Year) VALUES (%s,%s,%s,%s,%s,%s,%s,%s)\"\"\"\n",
    "\n",
    "print(\"Insert successfully\")\n",
    "\n",
    "for index in range(len(tr_Asana)):\n",
    "    obj = []\n",
    "    l=[]\n",
    "    for col in tr_Asana.columns:\n",
    "        l.append(tr_Asana[col][index])\n",
    "    obj.append(l)\n",
    "\n",
    "\n",
    "    cur.executemany(s, obj)\n",
    "    engine.commit()\n",
    "engine.close()"
   ]
  },
  {
   "cell_type": "code",
   "execution_count": 18,
   "metadata": {},
   "outputs": [],
   "source": [
    "TR= pd.read_sql(\"select * from schema_Customer_review.Trustradius\", engine)\n",
    "engine.close()"
   ]
  },
  {
   "cell_type": "code",
   "execution_count": 19,
   "metadata": {
    "scrolled": true
   },
   "outputs": [
    {
     "data": {
      "text/html": [
       "<div>\n",
       "<style scoped>\n",
       "    .dataframe tbody tr th:only-of-type {\n",
       "        vertical-align: middle;\n",
       "    }\n",
       "\n",
       "    .dataframe tbody tr th {\n",
       "        vertical-align: top;\n",
       "    }\n",
       "\n",
       "    .dataframe thead th {\n",
       "        text-align: right;\n",
       "    }\n",
       "</style>\n",
       "<table border=\"1\" class=\"dataframe\">\n",
       "  <thead>\n",
       "    <tr style=\"text-align: right;\">\n",
       "      <th></th>\n",
       "      <th>id</th>\n",
       "      <th>company</th>\n",
       "      <th>date</th>\n",
       "      <th>year</th>\n",
       "      <th>industry</th>\n",
       "      <th>size</th>\n",
       "      <th>pros</th>\n",
       "      <th>cons</th>\n",
       "    </tr>\n",
       "  </thead>\n",
       "  <tbody>\n",
       "    <tr>\n",
       "      <th>0</th>\n",
       "      <td>TR_Monday_0</td>\n",
       "      <td>Monday</td>\n",
       "      <td>2021-06-08</td>\n",
       "      <td>2021</td>\n",
       "      <td>Apparel &amp; Fashion</td>\n",
       "      <td>Small-Business</td>\n",
       "      <td>We can push updates and information for design...</td>\n",
       "      <td>The way emails display after being pushed as a...</td>\n",
       "    </tr>\n",
       "    <tr>\n",
       "      <th>1</th>\n",
       "      <td>TR_Monday_1</td>\n",
       "      <td>Monday</td>\n",
       "      <td>2021-06-07</td>\n",
       "      <td>2021</td>\n",
       "      <td>Computer Software</td>\n",
       "      <td>Med-Market</td>\n",
       "      <td>VersitileFlexibleEasy-to-use</td>\n",
       "      <td>Software Integrations, I feel like if we could...</td>\n",
       "    </tr>\n",
       "    <tr>\n",
       "      <th>2</th>\n",
       "      <td>TR_Monday_2</td>\n",
       "      <td>Monday</td>\n",
       "      <td>2021-06-05</td>\n",
       "      <td>2021</td>\n",
       "      <td>Education Management</td>\n",
       "      <td>Med-Market</td>\n",
       "      <td>Project management of all our past, ongoing, a...</td>\n",
       "      <td>If I recall, there were some sub item areas th...</td>\n",
       "    </tr>\n",
       "    <tr>\n",
       "      <th>3</th>\n",
       "      <td>TR_Monday_3</td>\n",
       "      <td>Monday</td>\n",
       "      <td>2021-05-20</td>\n",
       "      <td>2021</td>\n",
       "      <td>Retail</td>\n",
       "      <td>Small-Business</td>\n",
       "      <td>Notifications - My boards are set up to update...</td>\n",
       "      <td>Biggest Con - Adding seats to monday.comLet me...</td>\n",
       "    </tr>\n",
       "    <tr>\n",
       "      <th>4</th>\n",
       "      <td>TR_Monday_4</td>\n",
       "      <td>Monday</td>\n",
       "      <td>2021-05-19</td>\n",
       "      <td>2021</td>\n",
       "      <td>Higher Education</td>\n",
       "      <td>Small-Business</td>\n",
       "      <td>Collaboration. I have never used a platform wh...</td>\n",
       "      <td>Automations. There are a few things I'd like t...</td>\n",
       "    </tr>\n",
       "    <tr>\n",
       "      <th>...</th>\n",
       "      <td>...</td>\n",
       "      <td>...</td>\n",
       "      <td>...</td>\n",
       "      <td>...</td>\n",
       "      <td>...</td>\n",
       "      <td>...</td>\n",
       "      <td>...</td>\n",
       "      <td>...</td>\n",
       "    </tr>\n",
       "    <tr>\n",
       "      <th>1160</th>\n",
       "      <td>TR_Asana_157</td>\n",
       "      <td>Asana</td>\n",
       "      <td>2014-05-14</td>\n",
       "      <td>2014</td>\n",
       "      <td>Telecommunications  Company</td>\n",
       "      <td>Med-Market</td>\n",
       "      <td>It allows you to create Projects and assign ta...</td>\n",
       "      <td>Asana is a great product to use when you're lo...</td>\n",
       "    </tr>\n",
       "    <tr>\n",
       "      <th>1161</th>\n",
       "      <td>TR_Asana_158</td>\n",
       "      <td>Asana</td>\n",
       "      <td>2014-01-17</td>\n",
       "      <td>2014</td>\n",
       "      <td>Marketing and Advertising  Company</td>\n",
       "      <td>Med-Market</td>\n",
       "      <td>Few clicks to modify / update projects and tas...</td>\n",
       "      <td>Asana worked especially well for tracking task...</td>\n",
       "    </tr>\n",
       "    <tr>\n",
       "      <th>1162</th>\n",
       "      <td>TR_Asana_160</td>\n",
       "      <td>Asana</td>\n",
       "      <td>2014-01-25</td>\n",
       "      <td>2014</td>\n",
       "      <td>Financial Services  Company</td>\n",
       "      <td>Med-Market</td>\n",
       "      <td>Easy to organize tasks and assign to other peo...</td>\n",
       "      <td>This is a great tool to use for projects that ...</td>\n",
       "    </tr>\n",
       "    <tr>\n",
       "      <th>1163</th>\n",
       "      <td>TR_Asana_161</td>\n",
       "      <td>Asana</td>\n",
       "      <td>2014-01-17</td>\n",
       "      <td>2014</td>\n",
       "      <td>Renewables &amp; Environment  Company</td>\n",
       "      <td>Small-Business</td>\n",
       "      <td>Sends task reminders.Allows us to establish du...</td>\n",
       "      <td>No</td>\n",
       "    </tr>\n",
       "    <tr>\n",
       "      <th>1164</th>\n",
       "      <td>TR_Asana_162</td>\n",
       "      <td>Asana</td>\n",
       "      <td>2014-01-24</td>\n",
       "      <td>2014</td>\n",
       "      <td>Medical Devices  Company</td>\n",
       "      <td>Missing</td>\n",
       "      <td>mostly intuitiveclean looktracks wellserver ha...</td>\n",
       "      <td>code archiving</td>\n",
       "    </tr>\n",
       "  </tbody>\n",
       "</table>\n",
       "<p>1165 rows × 8 columns</p>\n",
       "</div>"
      ],
      "text/plain": [
       "                id company        date  year  \\\n",
       "0      TR_Monday_0  Monday  2021-06-08  2021   \n",
       "1      TR_Monday_1  Monday  2021-06-07  2021   \n",
       "2      TR_Monday_2  Monday  2021-06-05  2021   \n",
       "3      TR_Monday_3  Monday  2021-05-20  2021   \n",
       "4      TR_Monday_4  Monday  2021-05-19  2021   \n",
       "...            ...     ...         ...   ...   \n",
       "1160  TR_Asana_157   Asana  2014-05-14  2014   \n",
       "1161  TR_Asana_158   Asana  2014-01-17  2014   \n",
       "1162  TR_Asana_160   Asana  2014-01-25  2014   \n",
       "1163  TR_Asana_161   Asana  2014-01-17  2014   \n",
       "1164  TR_Asana_162   Asana  2014-01-24  2014   \n",
       "\n",
       "                                 industry            size  \\\n",
       "0                       Apparel & Fashion  Small-Business   \n",
       "1                       Computer Software      Med-Market   \n",
       "2                    Education Management      Med-Market   \n",
       "3                                  Retail  Small-Business   \n",
       "4                        Higher Education  Small-Business   \n",
       "...                                   ...             ...   \n",
       "1160         Telecommunications  Company       Med-Market   \n",
       "1161  Marketing and Advertising  Company       Med-Market   \n",
       "1162         Financial Services  Company       Med-Market   \n",
       "1163   Renewables & Environment  Company   Small-Business   \n",
       "1164             Medical Devices  Company         Missing   \n",
       "\n",
       "                                                   pros  \\\n",
       "0     We can push updates and information for design...   \n",
       "1                          VersitileFlexibleEasy-to-use   \n",
       "2     Project management of all our past, ongoing, a...   \n",
       "3     Notifications - My boards are set up to update...   \n",
       "4     Collaboration. I have never used a platform wh...   \n",
       "...                                                 ...   \n",
       "1160  It allows you to create Projects and assign ta...   \n",
       "1161  Few clicks to modify / update projects and tas...   \n",
       "1162  Easy to organize tasks and assign to other peo...   \n",
       "1163  Sends task reminders.Allows us to establish du...   \n",
       "1164  mostly intuitiveclean looktracks wellserver ha...   \n",
       "\n",
       "                                                   cons  \n",
       "0     The way emails display after being pushed as a...  \n",
       "1     Software Integrations, I feel like if we could...  \n",
       "2     If I recall, there were some sub item areas th...  \n",
       "3     Biggest Con - Adding seats to monday.comLet me...  \n",
       "4     Automations. There are a few things I'd like t...  \n",
       "...                                                 ...  \n",
       "1160  Asana is a great product to use when you're lo...  \n",
       "1161  Asana worked especially well for tracking task...  \n",
       "1162  This is a great tool to use for projects that ...  \n",
       "1163                                                 No  \n",
       "1164                                     code archiving  \n",
       "\n",
       "[1165 rows x 8 columns]"
      ]
     },
     "execution_count": 19,
     "metadata": {},
     "output_type": "execute_result"
    }
   ],
   "source": [
    "TR"
   ]
  },
  {
   "cell_type": "markdown",
   "metadata": {},
   "source": [
    "As shown by the query, the data for Asana is added on top of the data for Monday.com, the review for Asana in table Trustradius can be separation using information in column 'Company' and the unique ID assigned."
   ]
  },
  {
   "cell_type": "markdown",
   "metadata": {},
   "source": [
    "## 5. Save Dataset as csv for Local Access"
   ]
  },
  {
   "cell_type": "code",
   "execution_count": 20,
   "metadata": {
    "scrolled": true
   },
   "outputs": [
    {
     "name": "stdout",
     "output_type": "stream",
     "text": [
      "<class 'pandas.core.frame.DataFrame'>\n",
      "Int64Index: 2660 entries, 0 to 162\n",
      "Data columns (total 8 columns):\n",
      " #   Column    Non-Null Count  Dtype         \n",
      "---  ------    --------------  -----         \n",
      " 0   Industry  1658 non-null   object        \n",
      " 1   Date      2660 non-null   datetime64[ns]\n",
      " 2   Size      2660 non-null   object        \n",
      " 3   Pros      2653 non-null   object        \n",
      " 4   Cons      2653 non-null   object        \n",
      " 5   Company   2660 non-null   object        \n",
      " 6   ID        2660 non-null   object        \n",
      " 7   Year      2660 non-null   object        \n",
      "dtypes: datetime64[ns](1), object(7)\n",
      "memory usage: 187.0+ KB\n"
     ]
    }
   ],
   "source": [
    "# Save as csv for local access \n",
    "df_Asana  = pd.concat([g2_Asana,tr_Asana])\n",
    "df_Asana.info()\n",
    "df_Asana.to_csv('Asana review.csv')"
   ]
  },
  {
   "cell_type": "code",
   "execution_count": 21,
   "metadata": {
    "scrolled": true
   },
   "outputs": [
    {
     "data": {
      "text/html": [
       "<div>\n",
       "<style scoped>\n",
       "    .dataframe tbody tr th:only-of-type {\n",
       "        vertical-align: middle;\n",
       "    }\n",
       "\n",
       "    .dataframe tbody tr th {\n",
       "        vertical-align: top;\n",
       "    }\n",
       "\n",
       "    .dataframe thead th {\n",
       "        text-align: right;\n",
       "    }\n",
       "</style>\n",
       "<table border=\"1\" class=\"dataframe\">\n",
       "  <thead>\n",
       "    <tr style=\"text-align: right;\">\n",
       "      <th></th>\n",
       "      <th>Industry</th>\n",
       "      <th>Date</th>\n",
       "      <th>Size</th>\n",
       "      <th>Pros</th>\n",
       "      <th>Cons</th>\n",
       "      <th>Company</th>\n",
       "      <th>ID</th>\n",
       "      <th>Year</th>\n",
       "    </tr>\n",
       "  </thead>\n",
       "  <tbody>\n",
       "    <tr>\n",
       "      <th>0</th>\n",
       "      <td>Marketing Analyst</td>\n",
       "      <td>2021-04-29</td>\n",
       "      <td>Med-Market</td>\n",
       "      <td>What do you like best? It has groups and categ...</td>\n",
       "      <td>. What do you dislike? There is nothing that c...</td>\n",
       "      <td>Asana</td>\n",
       "      <td>G2_Asana_0</td>\n",
       "      <td>2021</td>\n",
       "    </tr>\n",
       "    <tr>\n",
       "      <th>1</th>\n",
       "      <td>Technical Specialist</td>\n",
       "      <td>2021-05-18</td>\n",
       "      <td>Small-Business</td>\n",
       "      <td>What do you like best? It really helps to impr...</td>\n",
       "      <td>. What do you dislike? I think Asana should au...</td>\n",
       "      <td>Asana</td>\n",
       "      <td>G2_Asana_1</td>\n",
       "      <td>2021</td>\n",
       "    </tr>\n",
       "    <tr>\n",
       "      <th>2</th>\n",
       "      <td>Marketing Officer</td>\n",
       "      <td>2021-05-14</td>\n",
       "      <td>Med-Market</td>\n",
       "      <td>What do you like best? The excellent part of A...</td>\n",
       "      <td>. What do you dislike? To date, I have complet...</td>\n",
       "      <td>Asana</td>\n",
       "      <td>G2_Asana_2</td>\n",
       "      <td>2021</td>\n",
       "    </tr>\n",
       "    <tr>\n",
       "      <th>3</th>\n",
       "      <td>Sr. Marketing Manager</td>\n",
       "      <td>2021-04-26</td>\n",
       "      <td>Enterprise</td>\n",
       "      <td>What do you like best? Easy to coordinate acro...</td>\n",
       "      <td>. What do you dislike? The software is not sup...</td>\n",
       "      <td>Asana</td>\n",
       "      <td>G2_Asana_3</td>\n",
       "      <td>2021</td>\n",
       "    </tr>\n",
       "    <tr>\n",
       "      <th>4</th>\n",
       "      <td>Digital Analytics</td>\n",
       "      <td>2021-05-10</td>\n",
       "      <td>Enterprise</td>\n",
       "      <td>What do you like best? Asana is an excellent p...</td>\n",
       "      <td>. What do you dislike? There is nothing that I...</td>\n",
       "      <td>Asana</td>\n",
       "      <td>G2_Asana_4</td>\n",
       "      <td>2021</td>\n",
       "    </tr>\n",
       "  </tbody>\n",
       "</table>\n",
       "</div>"
      ],
      "text/plain": [
       "                Industry       Date            Size  \\\n",
       "0      Marketing Analyst 2021-04-29      Med-Market   \n",
       "1   Technical Specialist 2021-05-18  Small-Business   \n",
       "2      Marketing Officer 2021-05-14      Med-Market   \n",
       "3  Sr. Marketing Manager 2021-04-26      Enterprise   \n",
       "4      Digital Analytics 2021-05-10      Enterprise   \n",
       "\n",
       "                                                Pros  \\\n",
       "0  What do you like best? It has groups and categ...   \n",
       "1  What do you like best? It really helps to impr...   \n",
       "2  What do you like best? The excellent part of A...   \n",
       "3  What do you like best? Easy to coordinate acro...   \n",
       "4  What do you like best? Asana is an excellent p...   \n",
       "\n",
       "                                                Cons Company          ID  Year  \n",
       "0  . What do you dislike? There is nothing that c...   Asana  G2_Asana_0  2021  \n",
       "1  . What do you dislike? I think Asana should au...   Asana  G2_Asana_1  2021  \n",
       "2  . What do you dislike? To date, I have complet...   Asana  G2_Asana_2  2021  \n",
       "3  . What do you dislike? The software is not sup...   Asana  G2_Asana_3  2021  \n",
       "4  . What do you dislike? There is nothing that I...   Asana  G2_Asana_4  2021  "
      ]
     },
     "execution_count": 21,
     "metadata": {},
     "output_type": "execute_result"
    }
   ],
   "source": [
    "df_Asana.head()"
   ]
  },
  {
   "cell_type": "markdown",
   "metadata": {},
   "source": [
    "In total, 2660 reviews are collect for Asana from both g2.com and trustraidus.com"
   ]
  },
  {
   "cell_type": "code",
   "execution_count": null,
   "metadata": {},
   "outputs": [],
   "source": []
  }
 ],
 "metadata": {
  "kernelspec": {
   "display_name": "Python 3",
   "language": "python",
   "name": "python3"
  },
  "language_info": {
   "codemirror_mode": {
    "name": "ipython",
    "version": 3
   },
   "file_extension": ".py",
   "mimetype": "text/x-python",
   "name": "python",
   "nbconvert_exporter": "python",
   "pygments_lexer": "ipython3",
   "version": "3.8.5"
  }
 },
 "nbformat": 4,
 "nbformat_minor": 4
}
