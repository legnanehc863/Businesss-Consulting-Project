{
 "cells": [
  {
   "cell_type": "markdown",
   "metadata": {},
   "source": [
    "<h1 align=\"center\">MSIN0114: Business Analytics Consulting Project/Dissertation</h1>\n",
    "\n",
    "<h3 align=\"center\">Web Scrapping for Monday.com Review on g2.com and trustradius.com</h3>\n",
    "<br>\n",
    "\n",
    " <h3 align=\"center\">Jun 2021</h3>\n",
    " <h3 align=\"center\">Github repository:</h3>"
   ]
  },
  {
   "cell_type": "markdown",
   "metadata": {},
   "source": [
    "<h3>Table of Contents</h3>\n",
    "\n",
    "* [1. Web Scrapping for Monday.com](#1.-Web-Scrapping-for-Monday.com)\n",
    "* [2. Load Scrapped Data](#2.-Load-Scrapped-Data)\n",
    "* [3. Initial Cleaning of Dataset](#3.-Initial-Cleaning-of-Dataset)\n",
    "* [4. Upload Data into PostgreSQL Database](#4.-Upload-Data-into-PostgreSQL-Database) \n",
    "* [5. Save Dataset as csv for Local Access](#5.-Save-Dataset-as-csv-for-Local-Access)\n"
   ]
  },
  {
   "cell_type": "code",
   "execution_count": 1,
   "metadata": {},
   "outputs": [],
   "source": [
    "# Basic packages \n",
    "import numpy as np                   \n",
    "import pandas as pd              \n",
    "from datetime import datetime\n",
    "from datetime import timedelta\n",
    "import matplotlib.pyplot as plt    \n",
    "import seaborn as sns\n",
    "\n",
    "import plotly.express as px\n",
    "\n",
    "# RDS Database Connection \n",
    "import psycopg2\n",
    "\n",
    "import warnings\n",
    "warnings.filterwarnings(\"ignore\")\n"
   ]
  },
  {
   "cell_type": "markdown",
   "metadata": {},
   "source": [
    "## 1. Web Scrapping for Monday.com"
   ]
  },
  {
   "cell_type": "markdown",
   "metadata": {},
   "source": [
    "Web Scrapping code for monday.com is stored as spider_1.py and spider_2.py"
   ]
  },
  {
   "cell_type": "code",
   "execution_count": 2,
   "metadata": {},
   "outputs": [
    {
     "name": "stdout",
     "output_type": "stream",
     "text": [
      "1 {'Name': 'Michael J', 'Position': 'Marketing Manager', 'Company': 'Small-Business (50 or fewer emp.)', 'Rating': 'stars-8', 'Date': 'Feb 24, 2021', 'Title': '\"It works with accuracy and handles the projects very elegantly.\"', 'Review': 'What do you like best? There are a couple of things that I love about monday.com. The first is that I can automate tasks to be more comfortable when doing other activities. The second is that I can organize my projects in an easy and orderly way. I also like your support to worry about responding to my requests on time, as well as being very intuitive, easy to use and with a relatively accessible price to the public.  Review collected by and hosted on G2.com. What do you dislike? I do not like that the program contains a sidebar to include information or task parameters, I feel that this makes what you want to show something cumbersome. In addition to this, I have nothing more to say, just that and I hope they improve it.  Review collected by and hosted on G2.com. Recommendations to others considering the product: It really complies with what is established and that is why we continue to use it daily. We can organize a lot of organization and it is excellent for the management of our projects. It has a lot of intuition when using it and you will undoubtedly love this as well as all the advantages mentioned above.  Review collected by and hosted on G2.com. What problems are you solving with the product?  What benefits have you realized? Since we implement it in the company we use it to maintain control and order of our weekly activities. The workers are under strict control of our planning thanks to monday.com. In turn this has brought us benefits of greater time savings and optimized workflow because we can have total control of some departments. It is amazing to automate tasks when we are traveling.  Review collected by and hosted on G2.com.'}\n",
      "2 {'Name': 'Bryan G', 'Position': 'Project Manager', 'Company': 'Enterprise (> 1000 emp.)', 'Rating': 'stars-9', 'Date': 'Jun 21, 2021', 'Title': '\"Easy to use, excellent to improve productivity and communication\"', 'Review': \"What do you like best? I appreciate that it is easy and versatile. I appreciate the arranging of tables in as many various circumstances. There is also a wonderful functionality of the board: we have our BI tool linked onto it. I enjoy the opportunity to interact with my teams optimized efficiently to follow the current objectives and demands of our organization. The personalization of Monday will enable visible progress in our projects to be observed and to know what future measures are needed to complete the project. Automation is essential and on Monday it is beneficial and important to be easy to use.  Review collected by and hosted on G2.com. What do you dislike? I couldn't discover any issues that I don't enjoy about the service. You will receive e-mails with all the updates, publications or automated actions, but this allows secondary security for everyone involved or responsible for a project, and I feel that it is very relevant to everyone to know what is going on and there is no confusion or unnecessary delay due to the absence of the data.  Review collected by and hosted on G2.com. Recommendations to others considering the product: If you have communication or project management demands, and you still do not have to find a solution, try Monday. It is a completely configurable solution for project management and communication. Set targets, expand the needs, give solutions and accomplish the task. It is connected with Google Calendar, Gmail and a phone request to use while it is not in the workplace. It's easy to implement. They provide monthly webinars and lots of supporting videos covering anything you wish to present. There is also a forum for project moderators. It takes a little more time, but a system is necessary, and once utilized properly, it can have a small bit of it.  Review collected by and hosted on G2.com. What problems are you solving with the product?  What benefits have you realized? We tracked many databases, interactions and activities in our office. We also utilize a template for a pipeline and thus pick this product. The connection to our contact table is helpful. It is good, too. Automation is the primary item for the application's consumer, making it easy for people who are not highly expert to utilize and simplify our procedure. It might take a minute or two to browse to that project to make a remark on a project joint or a project update. It's still working, the most essential thing. The advantages are countless. Login, check where the projects are, view my reports and I'm set to start.  Review collected by and hosted on G2.com.\"}\n",
      "3 {'Name': 'Alysha R', 'Position': 'Business Development and Research Associate', 'Company': 'Enterprise (> 1000 emp.)', 'Rating': 'stars-9', 'Date': 'Jun 21, 2021', 'Title': '\"Great platform for all projects and departments\"', 'Review': \"What do you like best? I love that all of our departments can come together as a big team in one place to work on projects that overlap with seamless communication. The platform through automation also allows us to work between departments and pass projects along in the process without leaving the platform, this ensures all updates that have happened along the way are visible and answers a lot of questions without the need for repeated dialog or meetings.  Review collected by and hosted on G2.com. What do you dislike? There are some automation limitations right now that will be great once expanded to things like dropdown columns and such. It would also be nice if some of the views and subitems could have the option to be customized under each item.  Review collected by and hosted on G2.com. Recommendations to others considering the product: The team at Monday.com is amazing, I would highly recommend talking to them about what your needs are and what the platform can do for your company. Their expertise and constant innovation keep things moving to allow new offerings and solutions regularly.  Review collected by and hosted on G2.com. What problems are you solving with the product?  What benefits have you realized? We have used monday.com as a solution to Workflow efficiency. We have found that it is so much easier than searching for those informational emails, especially in communication and updates. It has also allowed us to shorten or even eliminate some of our meetings as we can see the updates on projects in real-time and don't need to share all of that information in a meeting.  Review collected by and hosted on G2.com.\"}\n",
      "4 {'Name': 'Jacqueline Z', 'Position': 'Principal', 'Company': 'Small-Business (50 or fewer emp.)', 'Rating': 'stars-7', 'Date': 'Jun 18, 2021', 'Title': '\"Simple project management tool with nice calendaring options\"', 'Review': \"What do you like best? The calendar and ability to see the week at a glance, as well as what's coming up next week. The difference between inbox messages (something you likely have to reply to that's direct to you) versus bell notifications  (things are happening on one of your projects, but you are not being directly asked anything) is helpful too. Mobile app is a pretty good iteration that's adapted for a phone, not just a clunky version of the desktop app made smaller.  Review collected by and hosted on G2.com. What do you dislike? Ensuring that someone sees your message by @replying to them doesn't always work via email replies to a thread from notifications (minor quibble really).  Review collected by and hosted on G2.com. Recommendations to others considering the product: More intuitive and streamlined than Basecamp, so Monday.com could be a better choice for teams who are not as experienced with using software for project management.  Review collected by and hosted on G2.com. What problems are you solving with the product?  What benefits have you realized? Project management for a client involving lots of content creation and many people involved at every stage of the process, from initial concepting and assignments to SEO tasks to final QA and publishing.  Review collected by and hosted on G2.com.\"}\n",
      "5 {'Name': 'Carlos P', 'Position': 'CEO', 'Company': 'Small-Business (50 or fewer emp.)', 'Rating': 'stars-10', 'Date': 'Jun 17, 2021', 'Title': '\"Monday.com rocks!\"', 'Review': \"What do you like best? it has helped me and my team to coordinate tasks even tough we are not in the same city nor the same office, with monday.com we have been able to delegate and manage multi pipeline of develpments also to coordinate with my C-Levels partners different types of other project that we mught develop in the near future, as well as coordinate different activities between us like getting PR Enterviews, recruit employess activities ETC.\\n monday.com without a doubt has been a great platform for us at Venn, we highly recommend it to all startups out there, believe me, it will solve of of your problems when managing a team that's not with you on the same city or even office, wiuth this new realty, all teams are doing home office and specially when you are starting it's really difficult to creat confidence on the team when they havent even met you in person yet, monday.com brings all the teams together into one platform and that makes it easier to manage  Review collected by and hosted on G2.com. What do you dislike? that some of the feature i want are on the pro license and we have the standard one, we are a startup and dont have the cash to buy the pro one, I think monday.com should have a special price for startups that are on early stages, this would mean the world for us, since we could use a better license to help pur business take off  Review collected by and hosted on G2.com. Recommendations to others considering the product: Keep tracking and updating your task it would make it easir to implement and would make the teams to really use it on the early stages  Review collected by and hosted on G2.com. What problems are you solving with the product?  What benefits have you realized? tasks asigments, activities asignments and tracking dealines  Review collected by and hosted on G2.com.\"}\n",
      "6 {'Name': 'Jacob R', 'Position': 'Email Marketing Manager', 'Company': 'Mid-Market (51-1000 emp.)', 'Rating': 'stars-7', 'Date': 'Jun 17, 2021', 'Title': '\"Bit of a Learning Curve, But Good Platform\"', 'Review': 'What do you like best? Monday.com allows users to create many different boards to work on projects and collaborate. I like the ability to have many various automations set up and the ability to have notifications in the platform and email. The amount of customization is excellent, and the ability to get things done and keep the information up to date is fantastic.  Review collected by and hosted on G2.com. What do you dislike? Monday.com is a bit challenging to really understand at the beginning. The learning curve is high, but once you get there, it is pretty easy to use. And then, from there, there is a lot you can get done. And there is another steep cliff to become an expert in it. It is easy to use, but to become an expert, you will want to have someone dedicated to maintaining the platform. It has a lot of excellent capabilities, but it is hard to access them all.  Review collected by and hosted on G2.com. What problems are you solving with the product?  What benefits have you realized? monday.com allows me and my team to collaborate on projects, know where we are in the process, and ensure nothing gets missed.  Review collected by and hosted on G2.com.'}\n",
      "7 {'Name': 'Kelly M. R', 'Position': 'Graphic Designer', 'Company': 'Mid-Market (51-1000 emp.)', 'Rating': 'stars-10', 'Date': 'Jun 17, 2021', 'Title': '\"Great for Keeping Teams Organized\"', 'Review': \"What do you like best? I really love how you're able to customize tables to your liking fully. It allows our team to create some really thoughtful, organized brainstorming spaces. It helps keep everyone on task and enables our team to work extremely efficiently from remote locations. My favorite component is the ability to merge Monday with slack so I'm able to keep up to date on everything that's happening at a moment's notice.  Review collected by and hosted on G2.com. What do you dislike? I honestly can't think of a thing that I dislike about the program. If I really had to nitpick, I'd say that maybe the interface could be a tiny bit more intuitive, but it's really great as is. I don't think there are really any improvements to be made. A+++!  Review collected by and hosted on G2.com. Recommendations to others considering the product: I would highly recommend Monday.com! It has been an invaluable tool that has really helped our team take their productivity & task management to the next level.  Review collected by and hosted on G2.com. What problems are you solving with the product?  What benefits have you realized? Monday.com has helped out team solve a number of problems. When we were all in the office it kept us more organized than the paper method we were using. We had pinup boards with ideas so Monday is a lot more eco-friendly because we aren't using all that paper. It has also been a huge help in keeping team members on task while working at home this past year. Monday has allowed us to create team projects and maintain a solid deadline while incorporating all of the necessary details. Not only is it a great organizational tool, it's a fantastic communication tool as well. I would highly recommend this to any team that works on complex projects in a remote fashion.  Review collected by and hosted on G2.com.\"}\n",
      "8 {'Name': 'Natale Y', 'Position': 'Social Media Manager', 'Company': 'Small-Business (50 or fewer emp.)', 'Rating': 'stars-10', 'Date': 'Jun 16, 2021', 'Title': '\"Easy and efficient work website\"', 'Review': \"What do you like best? I love the tasks bar on Monday and how your whole team can view what you are doing. I also love that it is easy to use on both the app and the online website. I love that I can jump around to either site and get the same quality. I also just love the layout in general, it is very pleasing to the eye.  Review collected by and hosted on G2.com. What do you dislike? It just took me a minute to learn it all! However, once I found online videos explaining things it became a whole lot easier to adjust to everything it has to offer! Now I have no complaints!  Review collected by and hosted on G2.com. Recommendations to others considering the product: I would highly suggest it because it is the reason our company is so well put together now. Since we are. a small business it is hard to keep track of all the many tasks we are all each individually doing! I now can see what others are doing and keep track of myself.  Review collected by and hosted on G2.com. What problems are you solving with the product?  What benefits have you realized? It keeps me focused on my work and organized as well! I love that you can push back dates or even add people to your tasks. This makes it so much easier as a business to work with one another and not step on each other's toes during it all.  Review collected by and hosted on G2.com.\"}\n",
      "9 {'Name': 'Richard S', 'Position': 'IT Director', 'Company': 'Mid-Market (51-1000 emp.)', 'Rating': 'stars-9', 'Date': 'Jun 16, 2021', 'Title': '\"Excellent product and A Rare Commitment to Updates\"', 'Review': 'What do you like best? Monday.com is a rare company that keeps up with the updates they say they will deliver, exceedingly rare in the industry today. There sales force is a crack team and very important in the implementation process. This product has become a vital piston in the engine that is our business technology and productivity suite.  Review collected by and hosted on G2.com. What do you dislike? Monday.com could use some improvements in the way that it handles data loading. The current methodology negatively affects performance that can become frustrating for some users, mainly when the board contains a lot of data. It seems that the \"WorkOS\" updates are on their way to repairing this issue, and I look forward to seeing what it has to offer.  Review collected by and hosted on G2.com. Recommendations to others considering the product: It may seem pricey, but it pays off dividends in the long run. Anyone who is an IT Director or CTO, when pricing this product consider what you can replace in your current technology suite with the power of Monday.com and it will likely pay for itself.  Review collected by and hosted on G2.com. What problems are you solving with the product?  What benefits have you realized? We use Monday.com to essentially connect all of our different data sources into an actionable container and track day-to-day repetitive tasks and unique projects.  Review collected by and hosted on G2.com.'}\n",
      "10 {'Name': 'Hannah H', 'Position': 'Marketing Manager', 'Company': 'Enterprise (> 1000 emp.)', 'Rating': 'stars-9', 'Date': 'Jun 16, 2021', 'Title': '\"Stay Efficient & Organized - Content Management\"', 'Review': \"What do you like best? Makes content management simple and easily accessible. Love the customization and ability to see team member's project updates. Perfect for streamlining your workflows and tasks - we use this as a small team and it works perfect. The ability to see deadlines laid out visually really helps workflow.  Review collected by and hosted on G2.com. What do you dislike? Sometimes it doesn't allow you to rearrange your tasks. It used to let me do it so I'm not sure if this is a new thing with an update?  Review collected by and hosted on G2.com. Recommendations to others considering the product: If you're in any type of project management, I'd reccomened this platform. Give it a shot and see how it will upgrade your results. They have a lot of support if you have any questions on setting up your boards, etc.  Review collected by and hosted on G2.com. What problems are you solving with the product?  What benefits have you realized? Scheduling and planning content for our website has become easier. Staying on top of deadlines and various projects is better to see visually in Monday. It's also great for seeing where you/the company is at for all types of projects. Allows you to communicate with your team in a whole new way - staying updated becomes streamlined.  Review collected by and hosted on G2.com.\"}\n",
      "11 {'Name': 'Dustin R', 'Position': 'CTO', 'Company': 'Small-Business (50 or fewer emp.)', 'Rating': 'stars-9', 'Date': 'Jun 10, 2021', 'Title': '\"Outstanding tool for rapid and effective task/project management\"', 'Review': 'What do you like best? Incredibly easy and fast to get started...very cost effective...has expansive \"advanced features\" for those who want/need the capability but if you just need to capture, organize, assign and execute a volume of tasks across even a small team (but even moreso for a large team) I have never worked with anything that makes that so straightforward and effective.  I have used MANY project/task management tools...Jira, AzureDevOps, MS ToDo, MS Project, Evernote, Trello, Smartsheets, etc...etc...Monday.com is just \"easy\" and \"fast\" across the board...training takes minutes...help and support are intuitive and well done...just fantastic.  Review collected by and hosted on G2.com. What do you dislike? Occasionally, the \"drag and drop\" functionality behaves in an odd manner or just doesn\\'t perform the desired action...fairly rare and easy enough to fix quickly as an end-user...but just a small point of friction in the overall user experience.  Review collected by and hosted on G2.com. What problems are you solving with the product?  What benefits have you realized? Centralized task management across a geographically distributed team working on varied schedules.  Major uptick in ensuring that no task \"gets lost\" and forgotten, prioritization can be done by one person/team and all assigned resources are updated on the new prioritization immediately without the need for excessive calls/discussions.  Ability to attach documents for requirements, illustrations, screenshots, etc. is fast and seamless.  Ultimately has resulted in much higher productivity and customer response velocity while minimizing \"dropped balls\".  Senior leadership can view progress and prioritization in \"real time\" without the need to produce time-wasting emails/documents/powerpoints coupled with further lost time presenting those artifacts.  Review collected by and hosted on G2.com.'}\n",
      "12 {'Name': 'Shanell H', 'Position': 'Sr Project Manager', 'Company': 'Enterprise (> 1000 emp.)', 'Rating': 'stars-9', 'Date': 'Jun 09, 2021', 'Title': '\"The best tool for the organization and planning of projects\"', 'Review': \"What do you like best? I appreciate the platform for users, so even novices can utilize it quite easily. Registering and examining deadlines are uncomplicated and you may obtain a picture of all your responsibilities. Professionals can project cumulative grades and credit weight by including them. I'd rather the desktop platform, but it's nice as well. Every day, I use it to track the time and the state you spend on my chores. The platform is vibrant and much more fun to use. It's also fantastic to see my partner boards knowing what they're working on at the moment and what's the timetable you need to accomplish.  Review collected by and hosted on G2.com. What do you dislike? In some fields, I can't copy and paste values. I must duplicate a job if I wish to add information comparable to the prior ones. The full row, but I have to remove the various information. I thus want you to copy and paste your data into other areas. This will simplify the work a lot. I suppose it's red, which makes it appear strange, if you forget to click on the time tracking and to enter it manually. I wish that's not how I would collect. The app needs to work on the platform. As the compressed modules are large on the desktop, this creak leads to shutdown and freeze.  Review collected by and hosted on G2.com. Recommendations to others considering the product: This tool is also extremely clean and makes it quite attractive not just well designed for planning. It will be excellent if you want to utilize it to better communicate what everyone is doing and the status of projects amongst teams. In order to assist professionals with more sophisticated processes to construct mental maps that best match their demands, the platform is built. It is as complicated and straightforward a platform as you would want.  Review collected by and hosted on G2.com. What problems are you solving with the product?  What benefits have you realized? The time to track is the most important. I hadn't ever known how much time I spent some jobs, nor did I know what was absorbed most of my day. I have a horrible memory, so I couldn't recall what I had done exactly after what had been seemed like a whole day. Now I can precisely determine the amount of time I spent and discover actions that most of the time are required to be more effective. We use this in my company for many various teams, so it's wonderful. The organization is resolved Monday, the qualifications are projected, the deadlines are projected and revalued. The platform enables customers keep their personal duties in the driver's chairs. It is a product for persons interested in timetables.  Review collected by and hosted on G2.com.\"}\n",
      "13 {'Name': 'Robert N', 'Position': 'Learning Experience Design Lead', 'Company': 'Mid-Market (51-1000 emp.)', 'Rating': 'stars-10', 'Date': 'Jun 09, 2021', 'Title': '\"Easy to Use, Easy to Learn.\"', 'Review': \"What do you like best? I love how easy it was to learn and to use. The tutorials that are included were easy to follow and short, which helps with those of us that are easily distracted. I was able to dive into it immediately.  Review collected by and hosted on G2.com. What do you dislike? I cannot say that there is anything I dislike at this moment. Everything that I have done is what I need, so I have not found a functionality that was missing or needed to be simplified... yet.  Review collected by and hosted on G2.com. Recommendations to others considering the product: This is extremely easy to learn and use. My favorite part is how intuitive it is to use. The UX designers are amazing!  Review collected by and hosted on G2.com. What problems are you solving with the product?  What benefits have you realized? With monday.com, I have moved away from the whiteboard in an office to posting this online. It's cleaner, easier to maintain, and quicker to update. In a remote world and even when I go back to the office, my current team is spread out in San Francisco, Berlin and Toronto. With monday.com, I can share my projects.  Review collected by and hosted on G2.com.\"}\n",
      "14 {'Name': 'Stutee S', 'Position': 'Team Lead, Customer solutions', 'Company': 'Mid-Market (51-1000 emp.)', 'Rating': 'stars-8', 'Date': 'Jun 18, 2021', 'Title': '\"Monday.com an efficient project management tool\"', 'Review': 'What do you like best? 1) Intuitive interface 2) Easy to use and share boards with different people, teams and on a department level. 3) Integrations to different platforms possible which makes work easier with the team 4) One place to see tasks from different departments.  Review collected by and hosted on G2.com. What do you dislike? 1) Pricey 2) adding more seats  3) no way of a light agent or contributor kind of roles so can be shared with outsourcers. 4) Movement of items on different boards, not so convenient.  Review collected by and hosted on G2.com. Recommendations to others considering the product: If your teams work on multiple tools, it offers a variety of integrations possible. So easily customizable based on your needs Platform is quite intuitive and easy to learn  Review collected by and hosted on G2.com. What problems are you solving with the product?  What benefits have you realized? 1) Each team member able to see their own workday board, the due date function is helpful to keep track. 2) More managed way to see what other departments tasks and items. 3) Easier to track the progress of the task  Review collected by and hosted on G2.com.'}\n",
      "15 {'Name': 'Emily P', 'Position': 'Senior Director of XY Tax Solutions', 'Company': 'Mid-Market (51-1000 emp.)', 'Rating': 'stars-9', 'Date': 'Jun 07, 2021', 'Title': '\"Great for virtual teams\"', 'Review': \"What do you like best? It works really well for our virtual team. I run a 10 person tax team, and we have other team leads (marketing, sales, compliance, etc.) at our company that leverage project boards. Monday.com gives us insight into what other teams are doing - specifically, what is and isn't working. Additionally, it allows us to keep on top of our tasks, larger projects, and annual initiatives.  The flexibility to solve problems here is incredible - we track tax planning projects (days in the queue, number of hours, team assignments, billing, and more.) This works better than our tax CRM - and any other solutions we've tried so far.  Review collected by and hosted on G2.com. What do you dislike? There can be a lot of email notifications if you don't spend time setting up everything initially.  Review collected by and hosted on G2.com. What problems are you solving with the product?  What benefits have you realized? We are solving service/business line problems by managing ongoing projects (idea board, in progress, and completed). This project board allows us to assign out tasks, deadlines, milestones, etc. We track the status and priorities to help us manage 100+ projects at once.  Review collected by and hosted on G2.com.\"}\n",
      "16 {'Name': 'Brandon  H', 'Position': 'Front-End Developer', 'Company': 'Small-Business (50 or fewer emp.)', 'Rating': 'stars-10', 'Date': 'Jun 04, 2021', 'Title': '\"Great  team administrator\"', 'Review': \"What do you like best? This helps the comunication in a team where there's multiple task to be done but each team member has a specifc task, monday helps visualize the bigger picture of the project much faster an easier. Moday really helps with adminastration of time durting a whole project, in case of a setback Moday is a great asset to the team by assisting the team, to create as soon as possible, a solution and making sure that the team doesn't fall behind on project dates. As a remote developer comunication is key and having a board that always keeps you to date is useful, because remote calls and easly consume much more time that needed to comunicate what needs to be done and by who.  Review collected by and hosted on G2.com. What do you dislike? The learning curve took a bit of time as it was something really new to me,  but with a couple of simple tutorials Moday turned out to be really simple.  Review collected by and hosted on G2.com. Recommendations to others considering the product: At first I do recommend to use Monday with patience and to watch a tutorial just to get a better idea of what Monday is about and how and when to use Monday. Make sure you install the app as it also helps on letting you know on any updates on your projects.  Review collected by and hosted on G2.com. What problems are you solving with the product?  What benefits have you realized? My team developes web applications and mobile apps, most of us are full stack, which in most cases leaves us with little time to adminster task, Monday helps with shorter times to know task need to be done and by who and making sure that everbody acknowledges the game plan.  Review collected by and hosted on G2.com.\"}\n",
      "17 {'Name': 'Matthew G', 'Position': 'Creative & Strategy Lead', 'Company': 'Small-Business (50 or fewer emp.)', 'Rating': 'stars-9', 'Date': 'Jun 03, 2021', 'Title': '\"All the features, none of the fuss.\"', 'Review': \"What do you like best? Monday.com has a vast amount of functionality for the beginner user all the way to the wizard level super sleuths.  Review collected by and hosted on G2.com. What do you dislike? Due to the insane level of depth, you can get into to create the perfect functionality you want – it can get a little overwhelming when creating very complex project boards. But remember fortune favours the brave.  Review collected by and hosted on G2.com. Recommendations to others considering the product: Before getting too deep into creating your boards know what you are looking to achieve and features you want at the beginning. It's not too tricky to change things but may take a bit of time to get it organised correctly.  Review collected by and hosted on G2.com. What problems are you solving with the product?  What benefits have you realized? We use Monday.com to keep individual to-do lists to make sure we all know what tasks need completing. We schedule projects for our internal reference as well as letting clients feel a part of the process by seeing how each stage deadline affects the next. This also allows us to build realistic expectations for large projects and their deadlines. Monday.com is also great for scheduling your social media calendar, so you always know which posts need preparing, which are ready and which are scheduled for posting.  Review collected by and hosted on G2.com.\"}\n",
      "18 {'Name': 'Rashmeet K', 'Position': 'C', 'Company': 'Small-Business (50 or fewer emp.)', 'Rating': 'stars-9', 'Date': 'Jun 02, 2021', 'Title': '\"Makes project tracking very easy\"', 'Review': \"What do you like best? I like the user interface of monday.com, makes tracking projects very easy. It is straightforward and very convenient to navigate. Makes project discussions at each point also very easy. You can easily reference team members and discuss points on every item and sub item. You can also create templates so you dont have to create the same boards every time. it has saved my and team members time a lot  Review collected by and hosted on G2.com. What do you dislike? Nothing really that I dislike but I haven't been able to find the best way to summarize all the projects status together. I am sure it is there, I just need to figure it out. I have looked at all the charts and tables but I am still not able to figure out anything. I hope I am able to find it or maybe use customer support help to be able to summarize better  Review collected by and hosted on G2.com. What problems are you solving with the product?  What benefits have you realized? Used to need multiple rounds of discussions within team to understand status but monday.com has made that very easy for me. Very easy to coordinate within the team and know what and how every team member is doing. It has saved my team a lot of time and has also made onboarding of new employees very easy  Review collected by and hosted on G2.com.\"}\n",
      "19 {'Name': 'Amy R', 'Position': 'Reporting Analyst', 'Company': 'Mid-Market (51-1000 emp.)', 'Rating': 'stars-10', 'Date': 'Jun 02, 2021', 'Title': '\"Completely changed the way our healthcare clinic managed projects!\"', 'Review': \"What do you like best? I love the automation features the most.  Review collected by and hosted on G2.com. What do you dislike? No pictures or screenshots on dashboards  Review collected by and hosted on G2.com. Recommendations to others considering the product: My advice would be to have a growth mindset about learning this new tool. The more effort put into using this tool and catering it to your needs, the more benefits you will get out of it. Sometimes it can be easy to resist change, but Monday.com is worth it. For the clinic I work for, Monday.com has streamlined so many processes and has minimized the need to track down a long list of email chains. It is effective in keeping all parties up to date in REAL time. I have also used Monday.com for my task lists. As a reporting analyst, I have several reports that I send out each month. The automation feature has allowed my tasks to be created for me each month without thinking about all the data reports I need to get done. Monday.com does the work so that you can focus on completing your job in the best and most efficient way possible. It is important to remember, though, that Monday.com is a relatively new project management platform. Because of this, there are some features of Monday.com that are not as user-friendly as others. For example, although, for the most part, the automation feature is fantastic, there are some shortcomings with it. It allows you to customize to a certain extent, but there are some limitations. Monday.com makes up for this lack of features by having an incredible support team. They have been easy to contact and communicate with, and that level of customer service has made a world of difference.  Review collected by and hosted on G2.com. What problems are you solving with the product?  What benefits have you realized? We are minimizing communication through long email chains. It's much easier to stay organized and in the loop with progress across each task.  Review collected by and hosted on G2.com.\"}\n",
      "20 {'Name': 'Kelly Hale S', 'Position': 'Director of Marketing', 'Company': 'Mid-Market (51-1000 emp.)', 'Rating': 'stars-10', 'Date': 'Jun 02, 2021', 'Title': '\"Easiest Way to Herd Cats!\"', 'Review': \"What do you like best? I absolutely love the ability to easily map out every nuance of a project or event, while allowing everyone line of sight to the simulataneous progress of multiple tasks. The flexibility to add or expand tasks, assign components to others and manage related documentation and files is a game-changer. We no longer have to maneuver multiple shared drives on different platforms because everything relevant to a project can simply go on monday.com.  Review collected by and hosted on G2.com. What do you dislike? There is very little I could find to complain about, but I do wish I knew of a way to more easily duplicate boards and keep various tasks without carrying over all of the files and comments. There may be a way to achieve this more easily than what I'm currently doing, but I haven't discovered it yet.  Review collected by and hosted on G2.com. Recommendations to others considering the product: Be prepared to feel much more organized and motivated to work through your list of to-dos...while keeping others on track and accountable for their own tasks.  Review collected by and hosted on G2.com. What problems are you solving with the product?  What benefits have you realized? I am finding that managing projects between departments and with an external agency partner has become infinitely easier. There are fewer dropped balls and increased accountability.  Review collected by and hosted on G2.com.\"}\n",
      "21 {'Name': 'Connie S', 'Position': 'Content Fulfillment Agent', 'Company': 'Mid-Market (51-1000 emp.)', 'Rating': 'stars-10', 'Date': 'Jun 01, 2021', 'Title': '\"Monday Rocks Every Day of The Week\"', 'Review': \"What do you like best? Gosh, where to start? For our team, Monday.com has been a game-changer, from tracking client projects assigned to multiple teams to tracking time for individual tasks Monday keeps all of our teams on track.  I love that we can handle all communication for every client right on the clients' board. No tracking down erroneous emails or searching through notes to find details. Images, documents and more are all stored in a single space. Monday.com ensures that non of our many tasks fall through the cracks! With part of our team still on remote, Monday lets us keep track of each team member through out the day. It's helped us to validate billable hours and given us a proven timetable for each of the tasks we routinely complete. Thanks to time tracking we are able to adjust pricing according to time frames and developed expectations based on averages.  Review collected by and hosted on G2.com. What do you dislike? I can't actually think of a single thing I dislike. Like I said before, Monday.com has been a game-changer for our team.  Review collected by and hosted on G2.com. Recommendations to others considering the product: If you're on the fence about Monday.com I wholeheartedly suggest taking action. Organizations of any size are going to find the platform a true asset to their team. We use the platform to track time, budgets, projects and tasks. Monday keeps every document and piece of date you need for every account all inone place.  Review collected by and hosted on G2.com. What problems are you solving with the product?  What benefits have you realized? We are tracking all of our clients and teammates in one platform at any given time you can see what a team member is actively working on while receiving notifications about what you should be working on. It tracks our entire organization seamlessly.  Review collected by and hosted on G2.com.\"}\n",
      "22 {'Name': 'Denise L', 'Position': 'Marketing Coordinator', 'Company': 'Small-Business (50 or fewer emp.)', 'Rating': 'stars-10', 'Date': 'Jun 01, 2021', 'Title': '\"My Organization & Efficiency Has Increased Astronomically!\"', 'Review': 'What do you like best? I love how I can create tasks on different boards and keep everything organized by project. Then, I LOVE being able to click on the \"My Week\" feature and see all of my items for each day of the week. I am able to stay on task, meet my deadlines and not let ANYTHING fall through the cracks. By maximizing Monday.com as a work, task, and project management tool my organization and efficiency have increased astronomically!!!!!!!  Review collected by and hosted on G2.com. What do you dislike? Hmmm. I can\\'t think of anything right now. Recently, I met with the Monday.com team for Beta testing on their new \"Doc\" feature (similar to Google Docs). I mentioned to them wanting to have some type of integration with Canva so that our team is able to collaborate and share ideas about graphic designs. I noticed the platform lacked an integration like this. They said they were already thinking what I\\'m thinking!! :D  Review collected by and hosted on G2.com. What problems are you solving with the product?  What benefits have you realized? Problems: Forgetting about tasks, missing deadlines, anxiety about being unorganized Benefits: Improving organization and productivity and having peace of mind that I\\'m not missing important tasks or forgetting deadlines. I add EVERYTHING I need to do/work on to Monday.com  Review collected by and hosted on G2.com.'}\n",
      "23 {'Name': 'Emily G', 'Position': 'Co-Owner, Founder', 'Company': 'Small-Business (50 or fewer emp.)', 'Rating': 'stars-9', 'Date': 'Jun 01, 2021', 'Title': '\"A Project Management Platform We\\'ll Stick With\"', 'Review': \"What do you like best? I love the flexibility when structuring boards. We use Monday to manage small daily tasks, large projects, and ongoing campaigns. We've even figured out how to structure a calendar view to allow us to share content calendars with our clients. Monday is the FIFTH project management software that we've tried for our small agency, and it ticks off way more boxes than it's competitors ever did for us.  Review collected by and hosted on G2.com. What do you dislike? I don't like the inability to customize My Week. If there were more flexibility there I wouldn't need to jump between boards to ensure I've tackled all my tasks.  Review collected by and hosted on G2.com. Recommendations to others considering the product: I recommend signing up for a free trial and just playing with board columns and automations. Also - even though it's an added expense, our mid-range plan does everything I need it to.  Review collected by and hosted on G2.com. What problems are you solving with the product?  What benefits have you realized? We're keeping our remote workforce on task. Monday has helped us structure our stand-up meetings and keep to deadlines. It has also helped us to document processes in saved board templates and tasks.  Review collected by and hosted on G2.com.\"}\n",
      "24 {'Name': 'Heather P', 'Position': 'Chief Product Officer', 'Company': 'Small-Business (50 or fewer emp.)', 'Rating': 'stars-10', 'Date': 'May 28, 2021', 'Title': '\"One of our best investments for our small start up business!\"', 'Review': \"What do you like best? Monday makes it easy for our small company to communicate via the boards and has created a HUGE reduction in emails.  It's great to have the history of comments as part of the boards instead of digging through a million emails!  Review collected by and hosted on G2.com. What do you dislike? The automation capabilities are amazing but difficult to understand.  There are many help videos to support but it is time consuming so I find I push it to the side.  I also would like to use a vehicle where as I am building the automations I can stop and ask questions.  Review collected by and hosted on G2.com. Recommendations to others considering the product: If you haven't budgeted for this, put it on the list.  It has greatly helped our growing business and the customer support team is so helpful!  Review collected by and hosted on G2.com. What problems are you solving with the product?  What benefits have you realized? We are able to better manage our sales progress, marketing intiatives and understand who has had the last contact with our clients.  We also have been able to better engage with our contractors on work they are completing for our teams internally and externally on their projects. This will greatly help our performance review process we plan to build in the future.  Review collected by and hosted on G2.com.\"}\n",
      "25 {'Name': 'Whitney G', 'Position': 'Vice President of Sales Operations', 'Company': 'Small-Business (50 or fewer emp.)', 'Rating': 'stars-10', 'Date': 'May 26, 2021', 'Title': '\"Monday.com\\'s #1 Fangirl\"', 'Review': 'What do you like best? The ability to just start adding and manipulating the data without having to formulate every single column and row. Just enter your information and go. Also, how easy it is to communicate with the entire organization instantly about the data. And how wonderful the customer experience has been! I feel like Ernesto just got me and our company right away and has been the greatest person to deal with at any software company we have tried.  Review collected by and hosted on G2.com. What do you dislike? I still just need sub-items to be fully functional and then it would be absolutely perfect. We find creative workarounds so it is not a con for me, just a slight inconvenience. I know when your developers do crack that code, it is going to be better than I could have imagined!  Review collected by and hosted on G2.com. Recommendations to others considering the product: Do it. We have not regretted it for 1 second and are just looking for more ways to expand with Monday.coms help.  Review collected by and hosted on G2.com. What problems are you solving with the product?  What benefits have you realized? We were able to actively track how much money we were leaving on the table every week. We also realized how many more people we need to be involved in all of the aspects of the organization and to be able to delegate Monday tasks to them has been a complete change for us. We have gotten about as efficient as a group of Cannabis professionals can possibly be and put us miles ahead of our competitors. I get thanked by my coworkers daily for bringing Monday.com to them.  Review collected by and hosted on G2.com.'}\n",
      "26 {'Name': 'Irma G', 'Position': 'Owner and Creative', 'Company': 'Small-Business (50 or fewer emp.)', 'Rating': 'stars-10', 'Date': 'May 26, 2021', 'Title': '\"Great for small businesses and businesses with teams!\"', 'Review': \"What do you like best? I love how I can update team members on any changes or notes. It is very easy to communicate with my team within their projects. Once Monday.com is setup, it is easy to keep track of clients, projects, and team notes. Being able to keep all communication in one place has been so helpful and it saves me a lot of time. It is also easy to access via web or through the Monday.com app. I also love the Map view! It was been gamechanger for us.  Review collected by and hosted on G2.com. What do you dislike? It can be a bit confusing at first, especially to set up. I know there are templates, but there wasn't a template to best fit my business needs. Setting up the layout took some time. After creating a layout that seemed to work best, there are still things I wish that were different. It's not a problem but the only thing I dislike from Monday.com's platform.  Review collected by and hosted on G2.com. Recommendations to others considering the product: I would recommend other businesses with teams to try Monday.com  Review collected by and hosted on G2.com. What problems are you solving with the product?  What benefits have you realized? I am solving communication problems within my team, and Monday.com is helping my team and me keep organized. Monday.com has helped keep my business orginized and that has help to see what each indiviudal client needs. It has also helped me see how my time is being used with the tracker.  Review collected by and hosted on G2.com.\"}\n",
      "27 {'Name': 'Amber D', 'Position': 'Director of Marketing', 'Company': 'Small-Business (50 or fewer emp.)', 'Rating': 'stars-10', 'Date': 'May 24, 2021', 'Title': '\"Easy to use, lots of features\"', 'Review': \"What do you like best? Monday.com has saved our team so much extra time by helping us manage a hugely busy workload. As a small team, we're spread very thin, so having the right tools to help us effectively manage our time and resources is paramount to our success.  Monday is easy to use, and the UI is straightforward, making it easy to navigate. More importantly, we're able to customize the boards to the various needs of each project, ensuring that we have a way to track a variety of different completion and progress metrics. We've also made great use of the automation to automatically move tasks to new boards, keeping work moving so no time is wasted waiting for someone to click a button to reassign it.  Finally, we have that the ability to tag and alert people to changes, needs, or other vital information on tasks has helped ensure nothing falls through the cracks.  Review collected by and hosted on G2.com. What do you dislike? The inability to convert items to subitems and vice-versa, and the failure to move things (along with their sub-items) across boards. This is an important capability that has cost us time. Unfortunately, we had to restructure some of our boards, and not being able to do this with one click cost us time as we had to go in and re-create each task one by one.  Review collected by and hosted on G2.com. Recommendations to others considering the product: Research the other tools, try them out for a few days. You will likely see that they are not as flexible or intuitive in use as Monday.  Review collected by and hosted on G2.com. What problems are you solving with the product?  What benefits have you realized? Mainly we are solving the challenges that come with tracking many simultaneous projects with subsequent actions under each one. Most of what we work on is not a single task. It is layers of tasks, with dependencies and simultaneous workstreams that must progress in a metered and calculated manner to ensure the final product has everyhthing it needs. Rarely do we operate with deadlines months in advance, so being able to track everything quickly and easily is very important to our team's ability to complete our work. Add to that the challenge that we are not currently in an office, and not being able to walk over to a collegue's desk adds major challenges for communication and clarity.  We are actively looking at bringing our sales team on to monday.com to try and even further eliminate the communications gap and ensure that our teams are working even more effectively. Generally, wev'e benefitted from greater communication, enhanced teamwork and likley a copius amount of time saved.  Review collected by and hosted on G2.com.\"}\n",
      "28 {'Name': 'Gustavo F', 'Position': 'Business Operations Analyst', 'Company': 'Small-Business (50 or fewer emp.)', 'Rating': 'stars-9', 'Date': 'May 24, 2021', 'Title': '\"A great tool for project management and organization\"', 'Review': \"What do you like best? I do like the automation feature set. You have an easy way to integrate other tools and make IF THIS THEN DO THAT automation in your boards. An additional upside I like is that you can share boards with external people without creating an account, and you can limit what this user can and cannot do. Their support team is really active and helpful, some colleagues have used support and the answer came very fast.  Review collected by and hosted on G2.com. What do you dislike? Sometimes I feel the website slows a little bit, and the automation takes an extra time or the need for a page reload. You also have some limitations that don't make any sense; for example, you can't migrate subitems of an item when you move this item between boards, so guarantee that you won't have to make this kind of migration soon.  Review collected by and hosted on G2.com. Recommendations to others considering the product: We strongly suggest Monday for anyone who wants an easy-to-use project management tool with the flair of automation to make your job easier. We've tried other companies, but none has offered all the tools we needed to.  Review collected by and hosted on G2.com. What problems are you solving with the product?  What benefits have you realized? We are using Monday as our primary source of truth on our project management. As we create multiple workspaces for various areas in our company, our team can follow up on the aspects of our work that they don't engage in daily.  As we are in the middle of a pandemic, Monday is helping our team integrate and work together as its automation features help our coworkers collaborate and log all our work. We've tried other tools without success.  Review collected by and hosted on G2.com.\"}\n",
      "29 {'Name': 'Alex A', 'Position': 'Web Developer', 'Company': 'Mid-Market (51-1000 emp.)', 'Rating': 'stars-7', 'Date': 'Jun 01, 2021', 'Title': '\"Monday.com ... you might be still wishing it is Friday\"', 'Review': 'What do you like best? You can make your own workflow and project manage yourself efficiently. You and the team can have documented conversations that you can refer back to in the comments. Automating your workflow is a great feature. However, it can be lacking at times unless you develop your own.  Review collected by and hosted on G2.com. What do you dislike? Everyone wants to make their own workflow and project manage you accordingly to their flow and not yours. To automate between the different boards, you have to match each of the columns, which may not be necessary for various boards. Setting up a calendar or a gantt chart is excellent in theory, but managing it can feel clunky and cumbersome in remembering to switch between views.  Review collected by and hosted on G2.com. What problems are you solving with the product?  What benefits have you realized? We are planning projects and collaborating together with a repository for documents and conversations. Keeping track of projects and seeing the status is helpful, so long as you know where to look.  Review collected by and hosted on G2.com.'}\n",
      "30 \n"
     ]
    },
    {
     "name": "stderr",
     "output_type": "stream",
     "text": [
      "Traceback (most recent call last):\n",
      "  File \"Spider_1.py\", line 80, in <module>\n",
      "    parse_1(t)\n",
      "  File \"Spider_1.py\", line 46, in parse_1\n",
      "    print(count, p_review)\n",
      "UnicodeEncodeError: 'gbk' codec can't encode character '\\xc1' in position 41: illegal multibyte sequence\n"
     ]
    }
   ],
   "source": [
    "!python Spider_1.py"
   ]
  },
  {
   "cell_type": "code",
   "execution_count": 3,
   "metadata": {},
   "outputs": [],
   "source": [
    "!python Spider_2.py"
   ]
  },
  {
   "cell_type": "markdown",
   "metadata": {},
   "source": [
    "## 2. Load Scrapped Data"
   ]
  },
  {
   "cell_type": "code",
   "execution_count": 4,
   "metadata": {},
   "outputs": [],
   "source": [
    "# import monday data\n",
    "g2_monday= pd.read_excel ('./html_data/Monday/monday_g2.xls',index_col=0)\n",
    "tr_monday=pd.read_csv('./html_data/Monday/monday_tr.csv')"
   ]
  },
  {
   "cell_type": "markdown",
   "metadata": {},
   "source": [
    "## 3. Initial Cleaning of Dataset"
   ]
  },
  {
   "cell_type": "markdown",
   "metadata": {},
   "source": [
    "Initial Cleaning of dataset is required before the data is stored in a PostgreSQL database. This is to ensure the data matches the desired data type specified in the Schema Customer Review"
   ]
  },
  {
   "attachments": {
    "Picture1.png": {
     "image/png": "[encoded data removed]"
    }
   },
   "cell_type": "markdown",
   "metadata": {},
   "source": [
    "![Picture1.png](attachment:Picture1.png)"
   ]
  },
  {
   "cell_type": "code",
   "execution_count": 6,
   "metadata": {},
   "outputs": [],
   "source": [
    "# Drop repeated columns \n",
    "g2_monday.drop(columns = ['Company'],inplace = True)\n",
    "\n",
    "# Rename columns to matches names in Schema\n",
    "g2_monday.rename(columns ={'Name':'Industry',\n",
    "                    'Like':'Pros',\n",
    "                    'Dislike':'Cons',\n",
    "                    'type':'Size'},inplace = True)\n",
    "\n",
    "# Create column ID and Company \n",
    "g2_monday.reset_index(drop = True, inplace =True)\n",
    "g2_monday['Company'] = 'Monday'\n",
    "g2_monday['ID'] = 'G2_'+ g2_monday['Company']+ '_' +g2_monday.index.astype(str)\n",
    "\n",
    "# Extract year from column Date for column Year \n",
    "g2_monday['Date']=pd.to_datetime(g2_monday['Date'])\n",
    "g2_monday['Year'] = g2_monday['Date'].dt.year.astype(str)"
   ]
  },
  {
   "cell_type": "code",
   "execution_count": 7,
   "metadata": {
    "scrolled": false
   },
   "outputs": [
    {
     "name": "stdout",
     "output_type": "stream",
     "text": [
      "<class 'pandas.core.frame.DataFrame'>\n",
      "RangeIndex: 2498 entries, 0 to 2497\n",
      "Data columns (total 8 columns):\n",
      " #   Column    Non-Null Count  Dtype         \n",
      "---  ------    --------------  -----         \n",
      " 0   Industry  2498 non-null   object        \n",
      " 1   Date      2498 non-null   datetime64[ns]\n",
      " 2   Pros      2490 non-null   object        \n",
      " 3   Cons      2422 non-null   object        \n",
      " 4   Size      2498 non-null   object        \n",
      " 5   Company   2498 non-null   object        \n",
      " 6   ID        2498 non-null   object        \n",
      " 7   Year      2498 non-null   object        \n",
      "dtypes: datetime64[ns](1), object(7)\n",
      "memory usage: 156.2+ KB\n"
     ]
    }
   ],
   "source": [
    "g2_monday.info()"
   ]
  },
  {
   "cell_type": "markdown",
   "metadata": {},
   "source": [
    "A total of 2498 reviews are collected from g2 for monday.com, https://www.g2.com/products/monday-com-monday-com/reviews[]."
   ]
  },
  {
   "cell_type": "code",
   "execution_count": 8,
   "metadata": {},
   "outputs": [],
   "source": [
    "# Extract the size of the column from the industry column \n",
    "# Small-Business: 50 or fewer emp\n",
    "# Mid-market: 51-1000 emp\n",
    "# Enterprise: >1000 emp \n",
    "tr_monday['size1'] = tr_monday.industry.str.extract('(-\\d+)')\n",
    "tr_monday['size2'] = tr_monday.size1.str.extract('(\\d+)')\n",
    "tr_monday['size2'] = tr_monday['size2'].fillna(0)\n",
    "tr_monday['size0'] = tr_monday.industry.str.extract('(\\d+,\\d+)')\n",
    "tr_monday['size'] = np.where(tr_monday.size2 == 0,tr_monday.size0,tr_monday.size2)\n",
    "tr_monday.drop(['size1','size2','size0'], axis=1, inplace=True)\n",
    "tr_monday['size'] = np.where(tr_monday['size'] == '10,001',10001,tr_monday['size'])\n",
    "tr_monday['size']=tr_monday['size'].astype('int')\n",
    "\n",
    "# Categorise the size according the definition provided by G2.com \n",
    "tr_monday['Size'] = tr_monday['size'].apply(lambda x: \n",
    "                              'Med-Market' if x in range(51,1000) else \n",
    "                              'Small-Business' if x in range(0,51) else \n",
    "                              'Enterprise' )\n",
    "\n",
    "tr_monday.drop(['size'],axis = 1, inplace = True)\n",
    "\n",
    "# Remove the nunber of employees information from the industry column \n",
    "tr_monday[['Industry', 'Number of employees']] = tr_monday['industry'].str.split(',', 1, expand=True)\n",
    "\n",
    "\n",
    "# Drop repeated columns \n",
    "tr_monday.drop(columns = ['Company','Name','position','Rating','Title','industry','Number of employees'],inplace = True)\n",
    "\n",
    "# Create column ID and Company \n",
    "tr_monday.reset_index(drop = True, inplace =True)\n",
    "tr_monday['Company'] = 'Monday'\n",
    "tr_monday['ID'] = 'TR_'+ tr_monday['Company']+ '_' +tr_monday.index.astype(str)\n",
    "\n",
    "# Extract year from column Date for column Year \n",
    "tr_monday['Date']=pd.to_datetime(tr_monday['Date'])\n",
    "tr_monday['Year'] = tr_monday['Date'].dt.year.astype(str)\n"
   ]
  },
  {
   "cell_type": "code",
   "execution_count": 9,
   "metadata": {
    "scrolled": true
   },
   "outputs": [
    {
     "name": "stdout",
     "output_type": "stream",
     "text": [
      "<class 'pandas.core.frame.DataFrame'>\n",
      "RangeIndex: 1002 entries, 0 to 1001\n",
      "Data columns (total 8 columns):\n",
      " #   Column    Non-Null Count  Dtype         \n",
      "---  ------    --------------  -----         \n",
      " 0   Date      1002 non-null   datetime64[ns]\n",
      " 1   Pros      1002 non-null   object        \n",
      " 2   Cons      981 non-null    object        \n",
      " 3   Size      1002 non-null   object        \n",
      " 4   Industry  1002 non-null   object        \n",
      " 5   Company   1002 non-null   object        \n",
      " 6   ID        1002 non-null   object        \n",
      " 7   Year      1002 non-null   object        \n",
      "dtypes: datetime64[ns](1), object(7)\n",
      "memory usage: 62.8+ KB\n"
     ]
    }
   ],
   "source": [
    "tr_monday.info()"
   ]
  },
  {
   "cell_type": "markdown",
   "metadata": {},
   "source": [
    "A total of 1002 reviews are collected from Trustradius.com for monday.com, https://www.trustradius.com/products/monday/reviews"
   ]
  },
  {
   "cell_type": "markdown",
   "metadata": {},
   "source": [
    "## 4. Upload Data into PostgreSQL Database"
   ]
  },
  {
   "cell_type": "code",
   "execution_count": 16,
   "metadata": {},
   "outputs": [],
   "source": [
    "# Enter credential for database \n",
    "engine = psycopg2.connect(\n",
    "    host=\"database-1.cg80f0qtitmf.eu-west-1.rds.amazonaws.com\",\n",
    "    user=\"postgres\",\n",
    "    password=\"chenziyi\",\n",
    "    port=5432\n",
    ")"
   ]
  },
  {
   "cell_type": "code",
   "execution_count": 11,
   "metadata": {},
   "outputs": [
    {
     "name": "stdout",
     "output_type": "stream",
     "text": [
      "Table created successfully\n"
     ]
    }
   ],
   "source": [
    "cur = engine.cursor()\n",
    "cur.execute(\"\"\" \n",
    "     DROP SCHEMA IF EXISTS schema_Customer_Review CASCADE;\n",
    "     \n",
    "     CREATE SCHEMA IF NOT EXISTS schema_Customer_Review;\n",
    "     \n",
    "     CREATE TABLE IF NOT EXISTS schema_Customer_Review.G2 (\n",
    "      ID varchar PRIMARY KEY,\n",
    "      Company varchar,\n",
    "      Date date,\n",
    "      Year varchar,\n",
    "      Industry varchar,\n",
    "      Size varchar,\n",
    "      Pros varchar,\n",
    "      Cons varchar);\n",
    "      \n",
    "     CREATE TABLE IF NOT EXISTS schema_Customer_Review.Trustradius (\n",
    "      ID varchar PRIMARY KEY,\n",
    "      Company varchar,\n",
    "      Date date,\n",
    "      Year varchar,\n",
    "      Industry varchar,\n",
    "      Size varchar,\n",
    "      Pros varchar,\n",
    "      Cons varchar);\n",
    "      \n",
    "      \"\"\")\n",
    "\n",
    "print(\"Table created successfully\")\n",
    "\n",
    "engine.commit()\n",
    "engine.close()"
   ]
  },
  {
   "cell_type": "code",
   "execution_count": 13,
   "metadata": {
    "scrolled": true
   },
   "outputs": [
    {
     "name": "stdout",
     "output_type": "stream",
     "text": [
      "Insert successfully\n"
     ]
    }
   ],
   "source": [
    "# Insert scrapped data into the database \n",
    "# Monday.com for Table g2\n",
    "\n",
    "\n",
    "cur = engine.cursor()\n",
    "s =\"\"\"INSERT INTO schema_Customer_review.g2(Industry, Date, Pros, Cons, Size, Company, ID, Year) VALUES (%s,%s,%s,%s,%s,%s,%s,%s)\"\"\"\n",
    "\n",
    "\n",
    "\n",
    "for index in range(len(g2_monday)):\n",
    "    obj = []\n",
    "    l=[]\n",
    "    for col in g2_monday.columns:\n",
    "        l.append(g2_monday[col][index])\n",
    "    obj.append(l)\n",
    "    cur.executemany(s, obj)\n",
    "    engine.commit()\n",
    "    \n",
    "print(\"Insert successfully\")\n",
    "\n",
    "engine.close()"
   ]
  },
  {
   "cell_type": "code",
   "execution_count": 15,
   "metadata": {},
   "outputs": [
    {
     "name": "stdout",
     "output_type": "stream",
     "text": [
      "Insert successfully\n"
     ]
    }
   ],
   "source": [
    "# Insert scrapped data into the database \n",
    "# Monday.com for Table Trustradius\n",
    "\n",
    "\n",
    "cur = engine.cursor()\n",
    "s =\"\"\"INSERT INTO schema_Customer_review.Trustradius(Date, Pros, Cons, Size, Industry, Company, ID, Year) VALUES (%s,%s,%s,%s,%s,%s,%s,%s)\"\"\"\n",
    "\n",
    "print(\"Insert successfully\")\n",
    "\n",
    "for index in range(len(tr_monday)):\n",
    "    obj = []\n",
    "    l=[]\n",
    "    for col in tr_monday.columns:\n",
    "        l.append(tr_monday[col][index])\n",
    "    obj.append(l)\n",
    "\n",
    "\n",
    "    cur.executemany(s, obj)\n",
    "    engine.commit()\n",
    "engine.close()"
   ]
  },
  {
   "cell_type": "code",
   "execution_count": 17,
   "metadata": {},
   "outputs": [],
   "source": [
    "TR= pd.read_sql(\"select * from schema_Customer_review.Trustradius\", engine)\n",
    "engine.close()"
   ]
  },
  {
   "cell_type": "code",
   "execution_count": 18,
   "metadata": {
    "scrolled": true
   },
   "outputs": [
    {
     "data": {
      "text/html": [
       "<div>\n",
       "<style scoped>\n",
       "    .dataframe tbody tr th:only-of-type {\n",
       "        vertical-align: middle;\n",
       "    }\n",
       "\n",
       "    .dataframe tbody tr th {\n",
       "        vertical-align: top;\n",
       "    }\n",
       "\n",
       "    .dataframe thead th {\n",
       "        text-align: right;\n",
       "    }\n",
       "</style>\n",
       "<table border=\"1\" class=\"dataframe\">\n",
       "  <thead>\n",
       "    <tr style=\"text-align: right;\">\n",
       "      <th></th>\n",
       "      <th>id</th>\n",
       "      <th>company</th>\n",
       "      <th>date</th>\n",
       "      <th>year</th>\n",
       "      <th>industry</th>\n",
       "      <th>size</th>\n",
       "      <th>pros</th>\n",
       "      <th>cons</th>\n",
       "    </tr>\n",
       "  </thead>\n",
       "  <tbody>\n",
       "    <tr>\n",
       "      <th>0</th>\n",
       "      <td>TR_Monday_0</td>\n",
       "      <td>Monday</td>\n",
       "      <td>2021-06-08</td>\n",
       "      <td>2021</td>\n",
       "      <td>Apparel &amp; Fashion</td>\n",
       "      <td>Small-Business</td>\n",
       "      <td>We can push updates and information for design...</td>\n",
       "      <td>The way emails display after being pushed as a...</td>\n",
       "    </tr>\n",
       "    <tr>\n",
       "      <th>1</th>\n",
       "      <td>TR_Monday_1</td>\n",
       "      <td>Monday</td>\n",
       "      <td>2021-06-07</td>\n",
       "      <td>2021</td>\n",
       "      <td>Computer Software</td>\n",
       "      <td>Med-Market</td>\n",
       "      <td>VersitileFlexibleEasy-to-use</td>\n",
       "      <td>Software Integrations, I feel like if we could...</td>\n",
       "    </tr>\n",
       "    <tr>\n",
       "      <th>2</th>\n",
       "      <td>TR_Monday_2</td>\n",
       "      <td>Monday</td>\n",
       "      <td>2021-06-05</td>\n",
       "      <td>2021</td>\n",
       "      <td>Education Management</td>\n",
       "      <td>Med-Market</td>\n",
       "      <td>Project management of all our past, ongoing, a...</td>\n",
       "      <td>If I recall, there were some sub item areas th...</td>\n",
       "    </tr>\n",
       "    <tr>\n",
       "      <th>3</th>\n",
       "      <td>TR_Monday_3</td>\n",
       "      <td>Monday</td>\n",
       "      <td>2021-05-20</td>\n",
       "      <td>2021</td>\n",
       "      <td>Retail</td>\n",
       "      <td>Small-Business</td>\n",
       "      <td>Notifications - My boards are set up to update...</td>\n",
       "      <td>Biggest Con - Adding seats to monday.comLet me...</td>\n",
       "    </tr>\n",
       "    <tr>\n",
       "      <th>4</th>\n",
       "      <td>TR_Monday_4</td>\n",
       "      <td>Monday</td>\n",
       "      <td>2021-05-19</td>\n",
       "      <td>2021</td>\n",
       "      <td>Higher Education</td>\n",
       "      <td>Small-Business</td>\n",
       "      <td>Collaboration. I have never used a platform wh...</td>\n",
       "      <td>Automations. There are a few things I'd like t...</td>\n",
       "    </tr>\n",
       "    <tr>\n",
       "      <th>...</th>\n",
       "      <td>...</td>\n",
       "      <td>...</td>\n",
       "      <td>...</td>\n",
       "      <td>...</td>\n",
       "      <td>...</td>\n",
       "      <td>...</td>\n",
       "      <td>...</td>\n",
       "      <td>...</td>\n",
       "    </tr>\n",
       "    <tr>\n",
       "      <th>997</th>\n",
       "      <td>TR_Monday_997</td>\n",
       "      <td>Monday</td>\n",
       "      <td>2019-01-07</td>\n",
       "      <td>2019</td>\n",
       "      <td>Online Media Company</td>\n",
       "      <td>Small-Business</td>\n",
       "      <td>Project management - it's the best tool I've f...</td>\n",
       "      <td>Document integration.It's a lot to manage for ...</td>\n",
       "    </tr>\n",
       "    <tr>\n",
       "      <th>998</th>\n",
       "      <td>TR_Monday_998</td>\n",
       "      <td>Monday</td>\n",
       "      <td>2018-08-29</td>\n",
       "      <td>2018</td>\n",
       "      <td>Financial Services Company</td>\n",
       "      <td>Small-Business</td>\n",
       "      <td>Easily assign tasks and collaborate.Easy to se...</td>\n",
       "      <td>Honestly, I think it's great as is. We haven't...</td>\n",
       "    </tr>\n",
       "    <tr>\n",
       "      <th>999</th>\n",
       "      <td>TR_Monday_999</td>\n",
       "      <td>Monday</td>\n",
       "      <td>2018-12-04</td>\n",
       "      <td>2018</td>\n",
       "      <td>Non-Profit Organization Management Company</td>\n",
       "      <td>Small-Business</td>\n",
       "      <td>It's color coded so I can clearly see the next...</td>\n",
       "      <td>I haven't found any yet.</td>\n",
       "    </tr>\n",
       "    <tr>\n",
       "      <th>1000</th>\n",
       "      <td>TR_Monday_1000</td>\n",
       "      <td>Monday</td>\n",
       "      <td>2018-08-08</td>\n",
       "      <td>2018</td>\n",
       "      <td>Retail Company</td>\n",
       "      <td>Small-Business</td>\n",
       "      <td>Monday does an extremely good job of keeping e...</td>\n",
       "      <td>Monday definitely does have a learning curve. ...</td>\n",
       "    </tr>\n",
       "    <tr>\n",
       "      <th>1001</th>\n",
       "      <td>TR_Monday_1001</td>\n",
       "      <td>Monday</td>\n",
       "      <td>2017-01-03</td>\n",
       "      <td>2017</td>\n",
       "      <td>Management Consulting Company</td>\n",
       "      <td>Small-Business</td>\n",
       "      <td>Daily Task Dashboards: You can create as many ...</td>\n",
       "      <td>The time has to be entered manually, there nee...</td>\n",
       "    </tr>\n",
       "  </tbody>\n",
       "</table>\n",
       "<p>1002 rows × 8 columns</p>\n",
       "</div>"
      ],
      "text/plain": [
       "                  id company        date  year  \\\n",
       "0        TR_Monday_0  Monday  2021-06-08  2021   \n",
       "1        TR_Monday_1  Monday  2021-06-07  2021   \n",
       "2        TR_Monday_2  Monday  2021-06-05  2021   \n",
       "3        TR_Monday_3  Monday  2021-05-20  2021   \n",
       "4        TR_Monday_4  Monday  2021-05-19  2021   \n",
       "...              ...     ...         ...   ...   \n",
       "997    TR_Monday_997  Monday  2019-01-07  2019   \n",
       "998    TR_Monday_998  Monday  2018-08-29  2018   \n",
       "999    TR_Monday_999  Monday  2018-12-04  2018   \n",
       "1000  TR_Monday_1000  Monday  2018-08-08  2018   \n",
       "1001  TR_Monday_1001  Monday  2017-01-03  2017   \n",
       "\n",
       "                                        industry            size  \\\n",
       "0                              Apparel & Fashion  Small-Business   \n",
       "1                              Computer Software      Med-Market   \n",
       "2                           Education Management      Med-Market   \n",
       "3                                         Retail  Small-Business   \n",
       "4                               Higher Education  Small-Business   \n",
       "...                                          ...             ...   \n",
       "997                         Online Media Company  Small-Business   \n",
       "998                   Financial Services Company  Small-Business   \n",
       "999   Non-Profit Organization Management Company  Small-Business   \n",
       "1000                              Retail Company  Small-Business   \n",
       "1001               Management Consulting Company  Small-Business   \n",
       "\n",
       "                                                   pros  \\\n",
       "0     We can push updates and information for design...   \n",
       "1                          VersitileFlexibleEasy-to-use   \n",
       "2     Project management of all our past, ongoing, a...   \n",
       "3     Notifications - My boards are set up to update...   \n",
       "4     Collaboration. I have never used a platform wh...   \n",
       "...                                                 ...   \n",
       "997   Project management - it's the best tool I've f...   \n",
       "998   Easily assign tasks and collaborate.Easy to se...   \n",
       "999   It's color coded so I can clearly see the next...   \n",
       "1000  Monday does an extremely good job of keeping e...   \n",
       "1001  Daily Task Dashboards: You can create as many ...   \n",
       "\n",
       "                                                   cons  \n",
       "0     The way emails display after being pushed as a...  \n",
       "1     Software Integrations, I feel like if we could...  \n",
       "2     If I recall, there were some sub item areas th...  \n",
       "3     Biggest Con - Adding seats to monday.comLet me...  \n",
       "4     Automations. There are a few things I'd like t...  \n",
       "...                                                 ...  \n",
       "997   Document integration.It's a lot to manage for ...  \n",
       "998   Honestly, I think it's great as is. We haven't...  \n",
       "999                            I haven't found any yet.  \n",
       "1000  Monday definitely does have a learning curve. ...  \n",
       "1001  The time has to be entered manually, there nee...  \n",
       "\n",
       "[1002 rows x 8 columns]"
      ]
     },
     "execution_count": 18,
     "metadata": {},
     "output_type": "execute_result"
    }
   ],
   "source": [
    "TR"
   ]
  },
  {
   "cell_type": "markdown",
   "metadata": {},
   "source": [
    "## 5. Save Dataset as csv for Local Access"
   ]
  },
  {
   "cell_type": "code",
   "execution_count": 19,
   "metadata": {
    "scrolled": true
   },
   "outputs": [
    {
     "name": "stdout",
     "output_type": "stream",
     "text": [
      "<class 'pandas.core.frame.DataFrame'>\n",
      "Int64Index: 3500 entries, 0 to 2497\n",
      "Data columns (total 8 columns):\n",
      " #   Column    Non-Null Count  Dtype         \n",
      "---  ------    --------------  -----         \n",
      " 0   Date      3500 non-null   datetime64[ns]\n",
      " 1   Pros      3492 non-null   object        \n",
      " 2   Cons      3403 non-null   object        \n",
      " 3   Size      3500 non-null   object        \n",
      " 4   Industry  3500 non-null   object        \n",
      " 5   Company   3500 non-null   object        \n",
      " 6   ID        3500 non-null   object        \n",
      " 7   Year      3500 non-null   object        \n",
      "dtypes: datetime64[ns](1), object(7)\n",
      "memory usage: 246.1+ KB\n"
     ]
    }
   ],
   "source": [
    "# Save as csv for local access \n",
    "df_monday  = pd.concat([tr_monday,g2_monday])\n",
    "df_monday.info()\n",
    "df_monday.to_csv('Monday review.csv')"
   ]
  },
  {
   "cell_type": "code",
   "execution_count": 20,
   "metadata": {
    "scrolled": true
   },
   "outputs": [
    {
     "data": {
      "text/html": [
       "<div>\n",
       "<style scoped>\n",
       "    .dataframe tbody tr th:only-of-type {\n",
       "        vertical-align: middle;\n",
       "    }\n",
       "\n",
       "    .dataframe tbody tr th {\n",
       "        vertical-align: top;\n",
       "    }\n",
       "\n",
       "    .dataframe thead th {\n",
       "        text-align: right;\n",
       "    }\n",
       "</style>\n",
       "<table border=\"1\" class=\"dataframe\">\n",
       "  <thead>\n",
       "    <tr style=\"text-align: right;\">\n",
       "      <th></th>\n",
       "      <th>Date</th>\n",
       "      <th>Pros</th>\n",
       "      <th>Cons</th>\n",
       "      <th>Size</th>\n",
       "      <th>Industry</th>\n",
       "      <th>Company</th>\n",
       "      <th>ID</th>\n",
       "      <th>Year</th>\n",
       "    </tr>\n",
       "  </thead>\n",
       "  <tbody>\n",
       "    <tr>\n",
       "      <th>0</th>\n",
       "      <td>2021-06-08</td>\n",
       "      <td>We can push updates and information for design...</td>\n",
       "      <td>The way emails display after being pushed as a...</td>\n",
       "      <td>Small-Business</td>\n",
       "      <td>Apparel &amp; Fashion</td>\n",
       "      <td>Monday</td>\n",
       "      <td>TR_Monday_0</td>\n",
       "      <td>2021</td>\n",
       "    </tr>\n",
       "    <tr>\n",
       "      <th>1</th>\n",
       "      <td>2021-06-07</td>\n",
       "      <td>VersitileFlexibleEasy-to-use</td>\n",
       "      <td>Software Integrations, I feel like if we could...</td>\n",
       "      <td>Med-Market</td>\n",
       "      <td>Computer Software</td>\n",
       "      <td>Monday</td>\n",
       "      <td>TR_Monday_1</td>\n",
       "      <td>2021</td>\n",
       "    </tr>\n",
       "    <tr>\n",
       "      <th>2</th>\n",
       "      <td>2021-06-05</td>\n",
       "      <td>Project management of all our past, ongoing, a...</td>\n",
       "      <td>If I recall, there were some sub item areas th...</td>\n",
       "      <td>Med-Market</td>\n",
       "      <td>Education Management</td>\n",
       "      <td>Monday</td>\n",
       "      <td>TR_Monday_2</td>\n",
       "      <td>2021</td>\n",
       "    </tr>\n",
       "    <tr>\n",
       "      <th>3</th>\n",
       "      <td>2021-05-20</td>\n",
       "      <td>Notifications - My boards are set up to update...</td>\n",
       "      <td>Biggest Con - Adding seats to monday.comLet me...</td>\n",
       "      <td>Small-Business</td>\n",
       "      <td>Retail</td>\n",
       "      <td>Monday</td>\n",
       "      <td>TR_Monday_3</td>\n",
       "      <td>2021</td>\n",
       "    </tr>\n",
       "    <tr>\n",
       "      <th>4</th>\n",
       "      <td>2021-05-19</td>\n",
       "      <td>Collaboration. I have never used a platform wh...</td>\n",
       "      <td>Automations. There are a few things I'd like t...</td>\n",
       "      <td>Small-Business</td>\n",
       "      <td>Higher Education</td>\n",
       "      <td>Monday</td>\n",
       "      <td>TR_Monday_4</td>\n",
       "      <td>2021</td>\n",
       "    </tr>\n",
       "  </tbody>\n",
       "</table>\n",
       "</div>"
      ],
      "text/plain": [
       "        Date                                               Pros  \\\n",
       "0 2021-06-08  We can push updates and information for design...   \n",
       "1 2021-06-07                       VersitileFlexibleEasy-to-use   \n",
       "2 2021-06-05  Project management of all our past, ongoing, a...   \n",
       "3 2021-05-20  Notifications - My boards are set up to update...   \n",
       "4 2021-05-19  Collaboration. I have never used a platform wh...   \n",
       "\n",
       "                                                Cons            Size  \\\n",
       "0  The way emails display after being pushed as a...  Small-Business   \n",
       "1  Software Integrations, I feel like if we could...      Med-Market   \n",
       "2  If I recall, there were some sub item areas th...      Med-Market   \n",
       "3  Biggest Con - Adding seats to monday.comLet me...  Small-Business   \n",
       "4  Automations. There are a few things I'd like t...  Small-Business   \n",
       "\n",
       "               Industry Company           ID  Year  \n",
       "0     Apparel & Fashion  Monday  TR_Monday_0  2021  \n",
       "1     Computer Software  Monday  TR_Monday_1  2021  \n",
       "2  Education Management  Monday  TR_Monday_2  2021  \n",
       "3                Retail  Monday  TR_Monday_3  2021  \n",
       "4      Higher Education  Monday  TR_Monday_4  2021  "
      ]
     },
     "execution_count": 20,
     "metadata": {},
     "output_type": "execute_result"
    }
   ],
   "source": [
    "df_monday.head()"
   ]
  },
  {
   "cell_type": "markdown",
   "metadata": {},
   "source": [
    "In total, 3500 reviews are collect for Monday.com from both g2.com and trustraidus.com"
   ]
  },
  {
   "cell_type": "code",
   "execution_count": null,
   "metadata": {},
   "outputs": [],
   "source": []
  }
 ],
 "metadata": {
  "kernelspec": {
   "display_name": "Python 3",
   "language": "python",
   "name": "python3"
  },
  "language_info": {
   "codemirror_mode": {
    "name": "ipython",
    "version": 3
   },
   "file_extension": ".py",
   "mimetype": "text/x-python",
   "name": "python",
   "nbconvert_exporter": "python",
   "pygments_lexer": "ipython3",
   "version": "3.8.5"
  }
 },
 "nbformat": 4,
 "nbformat_minor": 4
}
